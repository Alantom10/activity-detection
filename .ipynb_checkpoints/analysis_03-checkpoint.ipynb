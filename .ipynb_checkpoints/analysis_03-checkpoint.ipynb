{
 "cells": [
  {
   "cell_type": "code",
   "execution_count": null,
   "id": "62022b7a",
   "metadata": {},
   "outputs": [],
   "source": [
    "import numpy as np\n",
    "import pandas as pd\n",
    "import matplotlib.pyplot as plt\n",
    "from sklearn.preprocessing import StandardScaler\n",
    "from sklearn.linear_model import LogisticRegression\n",
    "from sklearn.metrics import accuracy_score\n",
    "from sklearn.metrics import classification_report\n",
    "from sklearn.model_selection import train_test_split\n",
    "from sklearn.preprocessing import LabelEncoder\n",
    "import seaborn as sns\n",
    "sns.set()"
   ]
  },
  {
   "cell_type": "code",
   "execution_count": null,
   "id": "2e2cadb5",
   "metadata": {},
   "outputs": [],
   "source": [
    "#import data\n",
    "\n",
    "data = pd.read_csv('processed_data/fe_data.csv')\n",
    "data_leg = pd.read_csv('processed_data/fe_legsensor_data.csv')\n",
    "data_arm = pd.read_csv('processed_data/fe_armsensor_data.csv')"
   ]
  },
  {
   "cell_type": "code",
   "execution_count": null,
   "id": "0c832814",
   "metadata": {},
   "outputs": [],
   "source": [
    "#drop 'index col'\n",
    "data = data.iloc[:,1:]\n",
    "data_leg = data_leg.iloc[:,1:]\n",
    "data_arm = data_arm.iloc[:,1:]"
   ]
  },
  {
   "cell_type": "markdown",
   "id": "41ab6a9e",
   "metadata": {},
   "source": [
    "1. Activity Detection - Machine Learning Approach"
   ]
  },
  {
   "cell_type": "code",
   "execution_count": null,
   "id": "ac3561c4",
   "metadata": {},
   "outputs": [],
   "source": []
  }
 ],
 "metadata": {
  "kernelspec": {
   "display_name": "Python 3 (ipykernel)",
   "language": "python",
   "name": "python3"
  },
  "language_info": {
   "codemirror_mode": {
    "name": "ipython",
    "version": 3
   },
   "file_extension": ".py",
   "mimetype": "text/x-python",
   "name": "python",
   "nbconvert_exporter": "python",
   "pygments_lexer": "ipython3",
   "version": "3.9.7"
  }
 },
 "nbformat": 4,
 "nbformat_minor": 5
}
