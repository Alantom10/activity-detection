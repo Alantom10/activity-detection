{
 "cells": [
  {
   "cell_type": "code",
   "execution_count": 1,
   "metadata": {},
   "outputs": [],
   "source": [
    "import numpy as np\n",
    "import pandas as pd\n",
    "import matplotlib.pyplot as plt\n",
    "from sklearn.preprocessing import StandardScaler\n",
    "from sklearn.linear_model import LogisticRegression\n",
    "from sklearn.metrics import accuracy_score\n",
    "from sklearn.metrics import classification_report\n",
    "from sklearn.model_selection import train_test_split\n",
    "from sklearn.preprocessing import LabelEncoder\n",
    "from sklearn.preprocessing import OneHotEncoder\n",
    "import seaborn as sns\n",
    "sns.set()"
   ]
  },
  {
   "cell_type": "code",
   "execution_count": 2,
   "metadata": {},
   "outputs": [],
   "source": [
    "#import data\n",
    "\n",
    "data = pd.read_csv('processed_data/fe_data.csv')\n",
    "data_leg = pd.read_csv('processed_data/fe_legsensor_data.csv')\n",
    "data_arm = pd.read_csv('processed_data/fe_armsensor_data.csv')"
   ]
  },
  {
   "cell_type": "code",
   "execution_count": 3,
   "metadata": {},
   "outputs": [],
   "source": [
    "#drop 'index col'\n",
    "data = data.iloc[:,1:]\n",
    "data_leg = data_leg.iloc[:,1:]\n",
    "data_arm = data_arm.iloc[:,1:]"
   ]
  },
  {
   "cell_type": "markdown",
   "metadata": {},
   "source": [
    "1. Activity Detection - Machine Learning Approach"
   ]
  },
  {
   "cell_type": "code",
   "execution_count": 4,
   "metadata": {},
   "outputs": [
    {
     "name": "stdout",
     "output_type": "stream",
     "text": [
      "<class 'pandas.core.frame.DataFrame'>\n",
      "RangeIndex: 4403 entries, 0 to 4402\n",
      "Data columns (total 64 columns):\n",
      " #   Column        Non-Null Count  Dtype  \n",
      "---  ------        --------------  -----  \n",
      " 0   ax_mean       4403 non-null   float64\n",
      " 1   ay_mean       4403 non-null   float64\n",
      " 2   az_mean       4403 non-null   float64\n",
      " 3   aT_mean       4403 non-null   float64\n",
      " 4   ax_ad_mean    4403 non-null   float64\n",
      " 5   ay_ad_mean    4403 non-null   float64\n",
      " 6   az_ad_mean    4403 non-null   float64\n",
      " 7   aT_ad_mean    4403 non-null   float64\n",
      " 8   ax_min        4403 non-null   float64\n",
      " 9   ay_min        4403 non-null   float64\n",
      " 10  az_min        4403 non-null   float64\n",
      " 11  aT_min        4403 non-null   float64\n",
      " 12  ax_max        4403 non-null   float64\n",
      " 13  ay_max        4403 non-null   float64\n",
      " 14  az_max        4403 non-null   float64\n",
      " 15  aT_max        4403 non-null   float64\n",
      " 16  ax_std        4403 non-null   float64\n",
      " 17  ay_std        4403 non-null   float64\n",
      " 18  az_std        4403 non-null   float64\n",
      " 19  aT_std        4403 non-null   float64\n",
      " 20  ax_median     4403 non-null   float64\n",
      " 21  ay_median     4403 non-null   float64\n",
      " 22  az_median     4403 non-null   float64\n",
      " 23  aT_median     4403 non-null   float64\n",
      " 24  ax_ad_median  4403 non-null   float64\n",
      " 25  ay_ad_median  4403 non-null   float64\n",
      " 26  az_ad_median  4403 non-null   float64\n",
      " 27  aT_ad_median  4403 non-null   float64\n",
      " 28  ax_mm_diff    4403 non-null   float64\n",
      " 29  ay_mm_diff    4403 non-null   float64\n",
      " 30  az_mm_diff    4403 non-null   float64\n",
      " 31  aT_mm_diff    4403 non-null   float64\n",
      " 32  ax_iqr        4403 non-null   float64\n",
      " 33  ay_iqr        4403 non-null   float64\n",
      " 34  az_iqr        4403 non-null   float64\n",
      " 35  aT_iqr        4403 non-null   float64\n",
      " 36  ax_pos_count  4403 non-null   int64  \n",
      " 37  ay_pos_count  4403 non-null   int64  \n",
      " 38  az_pos_count  4403 non-null   int64  \n",
      " 39  aT_pos_count  4403 non-null   int64  \n",
      " 40  ax_neg_count  4403 non-null   int64  \n",
      " 41  ay_neg_count  4403 non-null   int64  \n",
      " 42  az_neg_count  4403 non-null   int64  \n",
      " 43  aT_neg_count  4403 non-null   int64  \n",
      " 44  ax_peaks      4403 non-null   int64  \n",
      " 45  ay_peaks      4403 non-null   int64  \n",
      " 46  az_peaks      4403 non-null   int64  \n",
      " 47  aT_peaks      4403 non-null   int64  \n",
      " 48  ax_kurtosis   4403 non-null   float64\n",
      " 49  ay_kurtosis   4403 non-null   float64\n",
      " 50  az_kurtosis   4403 non-null   float64\n",
      " 51  aT_kurtosis   4403 non-null   float64\n",
      " 52  ax_skewness   4403 non-null   float64\n",
      " 53  ay_skewness   4403 non-null   float64\n",
      " 54  az_skewness   4403 non-null   float64\n",
      " 55  aT_skewness   4403 non-null   float64\n",
      " 56  ax_energy     4403 non-null   float64\n",
      " 57  ay_energy     4403 non-null   float64\n",
      " 58  az_energy     4403 non-null   float64\n",
      " 59  aT_energy     4403 non-null   float64\n",
      " 60  id            4403 non-null   int64  \n",
      " 61  sex           4403 non-null   object \n",
      " 62  sensor_pos    4403 non-null   object \n",
      " 63  activity      4403 non-null   object \n",
      "dtypes: float64(48), int64(13), object(3)\n",
      "memory usage: 2.2+ MB\n"
     ]
    }
   ],
   "source": [
    "data.info()"
   ]
  },
  {
   "cell_type": "code",
   "execution_count": 5,
   "metadata": {},
   "outputs": [],
   "source": [
    "#whole data\n",
    "X_data = data.drop('activity', axis=1)\n",
    "y_data = data['activity']\n",
    "\n",
    "#leg sensor data\n",
    "X_data_leg = data_leg.drop('activity', axis=1)\n",
    "y_data_leg = data_leg['activity']\n",
    "\n",
    "#arm sensor data\n",
    "X_data_arm = data_arm.drop('activity', axis=1)\n",
    "y_data_arm = data_arm['activity']\n"
   ]
  },
  {
   "cell_type": "code",
   "execution_count": 44,
   "metadata": {},
   "outputs": [],
   "source": [
    "#X_data['sex']"
   ]
  },
  {
   "cell_type": "code",
   "execution_count": 6,
   "metadata": {},
   "outputs": [],
   "source": [
    "#encode sensor postion and sex data\n",
    "sex_encoder = LabelEncoder()\n",
    "sex_encoder.fit(X_data['sex'])\n",
    "X_data['sex'] =  sex_encoder.transform(X_data['sex'])\n",
    "#X_data['sex']\n",
    "#male:1, female:0\n",
    "X_data_leg['sex'] = sex_encoder.transform(X_data_leg['sex'])\n",
    "X_data_arm['sex'] = sex_encoder.transform(X_data_arm['sex'])"
   ]
  },
  {
   "cell_type": "code",
   "execution_count": 81,
   "metadata": {},
   "outputs": [],
   "source": [
    "#X_data['sensor_pos']"
   ]
  },
  {
   "cell_type": "code",
   "execution_count": 7,
   "metadata": {},
   "outputs": [],
   "source": [
    "pos_encoder = LabelEncoder()\n",
    "pos_encoder.fit(X_data['sensor_pos'])\n",
    "X_data['sensor_pos'] = pos_encoder.transform(X_data['sensor_pos'])\n",
    "#X_data['sensor_pos']\n",
    "#leg: 1, arm: 0\n",
    "X_data_leg['sensor_pos'] = pos_encoder.transform(X_data_leg['sensor_pos'])\n",
    "X_data_arm['sensor_pos'] = pos_encoder.transform(X_data_arm['sensor_pos'])"
   ]
  },
  {
   "cell_type": "code",
   "execution_count": 8,
   "metadata": {},
   "outputs": [],
   "source": [
    "#Train - Test Split\n",
    "X_train, X_val, y_train, y_val = train_test_split(X_data, y_data, test_size= 0.2, random_state= 24)\n",
    "X_train_leg, X_val_leg, y_train_leg, y_val_leg = train_test_split(X_data_leg, y_data_leg, test_size= 0.2, random_state= 24)\n",
    "X_train_arm, X_val_arm, y_train_arm, y_val_arm = train_test_split(X_data_arm, y_data_arm, test_size= 0.2, random_state= 24)"
   ]
  },
  {
   "cell_type": "code",
   "execution_count": 9,
   "metadata": {},
   "outputs": [],
   "source": [
    "#standardizing into scaler\n",
    "\n",
    "scaler = StandardScaler()\n",
    "scaler.fit(X_train)\n",
    "X_train_sd = scaler.transform(X_train)\n",
    "X_val_sd = scaler.transform(X_val)\n",
    "\n",
    "X_train_leg_sd = scaler.transform(X_train_leg)\n",
    "X_val_leg_sd = scaler.transform(X_val_leg)\n",
    "\n",
    "X_train_arm_sd = scaler.transform(X_train_arm)\n",
    "X_val_arm_sd = scaler.transform(X_val_arm)"
   ]
  },
  {
   "cell_type": "markdown",
   "metadata": {},
   "source": [
    "# Logistic Regression"
   ]
  },
  {
   "cell_type": "code",
   "execution_count": 10,
   "metadata": {
    "scrolled": true
   },
   "outputs": [
    {
     "name": "stderr",
     "output_type": "stream",
     "text": [
      "C:\\Users\\Dushyant\\AppData\\Local\\Programs\\Python\\Python37\\lib\\site-packages\\sklearn\\linear_model\\_logistic.py:765: ConvergenceWarning: lbfgs failed to converge (status=1):\n",
      "STOP: TOTAL NO. of ITERATIONS REACHED LIMIT.\n",
      "\n",
      "Increase the number of iterations (max_iter) or scale the data as shown in:\n",
      "    https://scikit-learn.org/stable/modules/preprocessing.html\n",
      "Please also refer to the documentation for alternative solver options:\n",
      "    https://scikit-learn.org/stable/modules/linear_model.html#logistic-regression\n",
      "  extra_warning_msg=_LOGISTIC_SOLVER_CONVERGENCE_MSG)\n"
     ]
    },
    {
     "data": {
      "text/plain": [
       "LogisticRegression(random_state=21)"
      ]
     },
     "execution_count": 10,
     "metadata": {},
     "output_type": "execute_result"
    }
   ],
   "source": [
    "#Logistical Regression\n",
    "\n",
    "lr_model = LogisticRegression(random_state=21)\n",
    "lr_model.fit(X_train_sd,y_train)\n",
    "\n",
    "lr_model_leg = LogisticRegression(random_state=21)\n",
    "lr_model_leg.fit(X_train_leg_sd,y_train_leg)\n",
    "\n"
   ]
  },
  {
   "cell_type": "markdown",
   "metadata": {},
   "source": [
    " - LR on whole FE dataset"
   ]
  },
  {
   "cell_type": "code",
   "execution_count": 11,
   "metadata": {},
   "outputs": [
    {
     "name": "stdout",
     "output_type": "stream",
     "text": [
      "              precision    recall  f1-score   support\n",
      "\n",
      "         jog       0.96      0.95      0.95       209\n",
      "         run       0.95      0.96      0.96       202\n",
      "       stand       1.00      1.00      1.00       221\n",
      "        walk       1.00      1.00      1.00       249\n",
      "\n",
      "    accuracy                           0.98       881\n",
      "   macro avg       0.98      0.98      0.98       881\n",
      "weighted avg       0.98      0.98      0.98       881\n",
      "\n"
     ]
    }
   ],
   "source": [
    "y_pred = lr_model.predict(X_val_sd)\n",
    "print(classification_report(y_val, y_pred))"
   ]
  },
  {
   "cell_type": "markdown",
   "metadata": {},
   "source": [
    "- LR on Leg Sensor FE dataset"
   ]
  },
  {
   "cell_type": "code",
   "execution_count": 12,
   "metadata": {},
   "outputs": [
    {
     "name": "stderr",
     "output_type": "stream",
     "text": [
      "C:\\Users\\Dushyant\\AppData\\Local\\Programs\\Python\\Python37\\lib\\site-packages\\sklearn\\linear_model\\_logistic.py:765: ConvergenceWarning: lbfgs failed to converge (status=1):\n",
      "STOP: TOTAL NO. of ITERATIONS REACHED LIMIT.\n",
      "\n",
      "Increase the number of iterations (max_iter) or scale the data as shown in:\n",
      "    https://scikit-learn.org/stable/modules/preprocessing.html\n",
      "Please also refer to the documentation for alternative solver options:\n",
      "    https://scikit-learn.org/stable/modules/linear_model.html#logistic-regression\n",
      "  extra_warning_msg=_LOGISTIC_SOLVER_CONVERGENCE_MSG)\n"
     ]
    },
    {
     "data": {
      "text/plain": [
       "LogisticRegression(random_state=21)"
      ]
     },
     "execution_count": 12,
     "metadata": {},
     "output_type": "execute_result"
    }
   ],
   "source": [
    "#Logistical Regression\n"
   ]
  },
  {
   "cell_type": "code",
   "execution_count": 13,
   "metadata": {},
   "outputs": [
    {
     "name": "stdout",
     "output_type": "stream",
     "text": [
      "              precision    recall  f1-score   support\n",
      "\n",
      "         jog       1.00      1.00      1.00        77\n",
      "         run       1.00      1.00      1.00        63\n",
      "       stand       1.00      1.00      1.00        99\n",
      "        walk       1.00      1.00      1.00        95\n",
      "\n",
      "    accuracy                           1.00       334\n",
      "   macro avg       1.00      1.00      1.00       334\n",
      "weighted avg       1.00      1.00      1.00       334\n",
      "\n"
     ]
    }
   ],
   "source": [
    "y_pred_leg = lr_model_leg.predict(X_val_leg_sd)\n",
    "print(classification_report(y_val_leg, y_pred_leg))"
   ]
  },
  {
   "cell_type": "markdown",
   "metadata": {},
   "source": [
    "- LR on Arm Sensor FE dataset"
   ]
  },
  {
   "cell_type": "code",
   "execution_count": 14,
   "metadata": {},
   "outputs": [
    {
     "name": "stderr",
     "output_type": "stream",
     "text": [
      "C:\\Users\\Dushyant\\AppData\\Local\\Programs\\Python\\Python37\\lib\\site-packages\\sklearn\\linear_model\\_logistic.py:765: ConvergenceWarning: lbfgs failed to converge (status=1):\n",
      "STOP: TOTAL NO. of ITERATIONS REACHED LIMIT.\n",
      "\n",
      "Increase the number of iterations (max_iter) or scale the data as shown in:\n",
      "    https://scikit-learn.org/stable/modules/preprocessing.html\n",
      "Please also refer to the documentation for alternative solver options:\n",
      "    https://scikit-learn.org/stable/modules/linear_model.html#logistic-regression\n",
      "  extra_warning_msg=_LOGISTIC_SOLVER_CONVERGENCE_MSG)\n"
     ]
    },
    {
     "data": {
      "text/plain": [
       "LogisticRegression(random_state=21)"
      ]
     },
     "execution_count": 14,
     "metadata": {},
     "output_type": "execute_result"
    }
   ],
   "source": [
    "#Logistical Regression\n",
    "lr_model_arm = LogisticRegression(random_state=21)\n",
    "lr_model_arm.fit(X_train_arm_sd,y_train_arm)"
   ]
  },
  {
   "cell_type": "code",
   "execution_count": 15,
   "metadata": {},
   "outputs": [
    {
     "name": "stdout",
     "output_type": "stream",
     "text": [
      "              precision    recall  f1-score   support\n",
      "\n",
      "         jog       0.93      0.97      0.95       143\n",
      "         run       0.96      0.93      0.95       144\n",
      "       stand       1.00      1.00      1.00       117\n",
      "        walk       1.00      1.00      1.00       144\n",
      "\n",
      "    accuracy                           0.97       548\n",
      "   macro avg       0.97      0.97      0.97       548\n",
      "weighted avg       0.97      0.97      0.97       548\n",
      "\n"
     ]
    }
   ],
   "source": [
    "y_pred_arm = lr_model_arm.predict(X_val_arm_sd)\n",
    "print(classification_report(y_val_arm, y_pred_arm))"
   ]
  },
  {
   "cell_type": "markdown",
   "metadata": {},
   "source": [
    "2. Sex Differentiation - Machine Learning Approach"
   ]
  },
  {
   "cell_type": "code",
   "execution_count": 16,
   "metadata": {},
   "outputs": [],
   "source": [
    "#Whole data\n",
    "sd_x_data = data.drop('sex', axis=1)\n",
    "sd_y_data =  data['sex']\n",
    "\n",
    "#Leg data\n",
    "sd_x_data_leg = data_leg.drop('sex', axis=1)\n",
    "sd_y_data_leg =  data_leg['sex']\n",
    "\n",
    "#arm data\n",
    "sd_x_data_arm = data_arm.drop('sex', axis=1)\n",
    "sd_y_data_arm =  data_arm['sex']"
   ]
  },
  {
   "cell_type": "code",
   "execution_count": 17,
   "metadata": {},
   "outputs": [
    {
     "data": {
      "text/html": [
       "<div>\n",
       "<style scoped>\n",
       "    .dataframe tbody tr th:only-of-type {\n",
       "        vertical-align: middle;\n",
       "    }\n",
       "\n",
       "    .dataframe tbody tr th {\n",
       "        vertical-align: top;\n",
       "    }\n",
       "\n",
       "    .dataframe thead th {\n",
       "        text-align: right;\n",
       "    }\n",
       "</style>\n",
       "<table border=\"1\" class=\"dataframe\">\n",
       "  <thead>\n",
       "    <tr style=\"text-align: right;\">\n",
       "      <th></th>\n",
       "      <th>jog</th>\n",
       "      <th>run</th>\n",
       "      <th>stand</th>\n",
       "      <th>walk</th>\n",
       "    </tr>\n",
       "  </thead>\n",
       "  <tbody>\n",
       "    <tr>\n",
       "      <th>0</th>\n",
       "      <td>0.0</td>\n",
       "      <td>0.0</td>\n",
       "      <td>1.0</td>\n",
       "      <td>0.0</td>\n",
       "    </tr>\n",
       "    <tr>\n",
       "      <th>1</th>\n",
       "      <td>0.0</td>\n",
       "      <td>0.0</td>\n",
       "      <td>1.0</td>\n",
       "      <td>0.0</td>\n",
       "    </tr>\n",
       "    <tr>\n",
       "      <th>2</th>\n",
       "      <td>0.0</td>\n",
       "      <td>0.0</td>\n",
       "      <td>1.0</td>\n",
       "      <td>0.0</td>\n",
       "    </tr>\n",
       "    <tr>\n",
       "      <th>3</th>\n",
       "      <td>0.0</td>\n",
       "      <td>0.0</td>\n",
       "      <td>1.0</td>\n",
       "      <td>0.0</td>\n",
       "    </tr>\n",
       "    <tr>\n",
       "      <th>4</th>\n",
       "      <td>0.0</td>\n",
       "      <td>0.0</td>\n",
       "      <td>1.0</td>\n",
       "      <td>0.0</td>\n",
       "    </tr>\n",
       "    <tr>\n",
       "      <th>...</th>\n",
       "      <td>...</td>\n",
       "      <td>...</td>\n",
       "      <td>...</td>\n",
       "      <td>...</td>\n",
       "    </tr>\n",
       "    <tr>\n",
       "      <th>4398</th>\n",
       "      <td>0.0</td>\n",
       "      <td>1.0</td>\n",
       "      <td>0.0</td>\n",
       "      <td>0.0</td>\n",
       "    </tr>\n",
       "    <tr>\n",
       "      <th>4399</th>\n",
       "      <td>0.0</td>\n",
       "      <td>1.0</td>\n",
       "      <td>0.0</td>\n",
       "      <td>0.0</td>\n",
       "    </tr>\n",
       "    <tr>\n",
       "      <th>4400</th>\n",
       "      <td>0.0</td>\n",
       "      <td>1.0</td>\n",
       "      <td>0.0</td>\n",
       "      <td>0.0</td>\n",
       "    </tr>\n",
       "    <tr>\n",
       "      <th>4401</th>\n",
       "      <td>0.0</td>\n",
       "      <td>1.0</td>\n",
       "      <td>0.0</td>\n",
       "      <td>0.0</td>\n",
       "    </tr>\n",
       "    <tr>\n",
       "      <th>4402</th>\n",
       "      <td>0.0</td>\n",
       "      <td>1.0</td>\n",
       "      <td>0.0</td>\n",
       "      <td>0.0</td>\n",
       "    </tr>\n",
       "  </tbody>\n",
       "</table>\n",
       "<p>4403 rows × 4 columns</p>\n",
       "</div>"
      ],
      "text/plain": [
       "      jog  run  stand  walk\n",
       "0     0.0  0.0    1.0   0.0\n",
       "1     0.0  0.0    1.0   0.0\n",
       "2     0.0  0.0    1.0   0.0\n",
       "3     0.0  0.0    1.0   0.0\n",
       "4     0.0  0.0    1.0   0.0\n",
       "...   ...  ...    ...   ...\n",
       "4398  0.0  1.0    0.0   0.0\n",
       "4399  0.0  1.0    0.0   0.0\n",
       "4400  0.0  1.0    0.0   0.0\n",
       "4401  0.0  1.0    0.0   0.0\n",
       "4402  0.0  1.0    0.0   0.0\n",
       "\n",
       "[4403 rows x 4 columns]"
      ]
     },
     "execution_count": 17,
     "metadata": {},
     "output_type": "execute_result"
    }
   ],
   "source": [
    "#one hot encoding for 'activity' data\n",
    "activity_encoder = OneHotEncoder()\n",
    "activity_reshaped = np.array(sd_x_data['activity']).reshape(-1,1)\n",
    "activity_data = activity_encoder.fit_transform(activity_reshaped)\n",
    "\n",
    "activity_df = pd.DataFrame(activity_data.toarray(), columns=['jog', 'run', 'stand', 'walk'])\n",
    "activity_df"
   ]
  },
  {
   "cell_type": "code",
   "execution_count": 18,
   "metadata": {},
   "outputs": [
    {
     "data": {
      "text/html": [
       "<div>\n",
       "<style scoped>\n",
       "    .dataframe tbody tr th:only-of-type {\n",
       "        vertical-align: middle;\n",
       "    }\n",
       "\n",
       "    .dataframe tbody tr th {\n",
       "        vertical-align: top;\n",
       "    }\n",
       "\n",
       "    .dataframe thead th {\n",
       "        text-align: right;\n",
       "    }\n",
       "</style>\n",
       "<table border=\"1\" class=\"dataframe\">\n",
       "  <thead>\n",
       "    <tr style=\"text-align: right;\">\n",
       "      <th></th>\n",
       "      <th>jog</th>\n",
       "      <th>run</th>\n",
       "      <th>stand</th>\n",
       "      <th>walk</th>\n",
       "    </tr>\n",
       "  </thead>\n",
       "  <tbody>\n",
       "    <tr>\n",
       "      <th>0</th>\n",
       "      <td>0.0</td>\n",
       "      <td>0.0</td>\n",
       "      <td>1.0</td>\n",
       "      <td>0.0</td>\n",
       "    </tr>\n",
       "    <tr>\n",
       "      <th>1</th>\n",
       "      <td>0.0</td>\n",
       "      <td>0.0</td>\n",
       "      <td>1.0</td>\n",
       "      <td>0.0</td>\n",
       "    </tr>\n",
       "    <tr>\n",
       "      <th>2</th>\n",
       "      <td>0.0</td>\n",
       "      <td>0.0</td>\n",
       "      <td>1.0</td>\n",
       "      <td>0.0</td>\n",
       "    </tr>\n",
       "    <tr>\n",
       "      <th>3</th>\n",
       "      <td>0.0</td>\n",
       "      <td>0.0</td>\n",
       "      <td>1.0</td>\n",
       "      <td>0.0</td>\n",
       "    </tr>\n",
       "    <tr>\n",
       "      <th>4</th>\n",
       "      <td>0.0</td>\n",
       "      <td>0.0</td>\n",
       "      <td>1.0</td>\n",
       "      <td>0.0</td>\n",
       "    </tr>\n",
       "    <tr>\n",
       "      <th>...</th>\n",
       "      <td>...</td>\n",
       "      <td>...</td>\n",
       "      <td>...</td>\n",
       "      <td>...</td>\n",
       "    </tr>\n",
       "    <tr>\n",
       "      <th>1661</th>\n",
       "      <td>0.0</td>\n",
       "      <td>0.0</td>\n",
       "      <td>0.0</td>\n",
       "      <td>1.0</td>\n",
       "    </tr>\n",
       "    <tr>\n",
       "      <th>1662</th>\n",
       "      <td>0.0</td>\n",
       "      <td>0.0</td>\n",
       "      <td>0.0</td>\n",
       "      <td>1.0</td>\n",
       "    </tr>\n",
       "    <tr>\n",
       "      <th>1663</th>\n",
       "      <td>0.0</td>\n",
       "      <td>0.0</td>\n",
       "      <td>0.0</td>\n",
       "      <td>1.0</td>\n",
       "    </tr>\n",
       "    <tr>\n",
       "      <th>1664</th>\n",
       "      <td>0.0</td>\n",
       "      <td>0.0</td>\n",
       "      <td>0.0</td>\n",
       "      <td>1.0</td>\n",
       "    </tr>\n",
       "    <tr>\n",
       "      <th>1665</th>\n",
       "      <td>0.0</td>\n",
       "      <td>0.0</td>\n",
       "      <td>0.0</td>\n",
       "      <td>1.0</td>\n",
       "    </tr>\n",
       "  </tbody>\n",
       "</table>\n",
       "<p>1666 rows × 4 columns</p>\n",
       "</div>"
      ],
      "text/plain": [
       "      jog  run  stand  walk\n",
       "0     0.0  0.0    1.0   0.0\n",
       "1     0.0  0.0    1.0   0.0\n",
       "2     0.0  0.0    1.0   0.0\n",
       "3     0.0  0.0    1.0   0.0\n",
       "4     0.0  0.0    1.0   0.0\n",
       "...   ...  ...    ...   ...\n",
       "1661  0.0  0.0    0.0   1.0\n",
       "1662  0.0  0.0    0.0   1.0\n",
       "1663  0.0  0.0    0.0   1.0\n",
       "1664  0.0  0.0    0.0   1.0\n",
       "1665  0.0  0.0    0.0   1.0\n",
       "\n",
       "[1666 rows x 4 columns]"
      ]
     },
     "execution_count": 18,
     "metadata": {},
     "output_type": "execute_result"
    }
   ],
   "source": [
    "#one hot encoding-> leg sensor data\n",
    "activity_reshaped_leg = np.array(sd_x_data_leg['activity']).reshape(-1,1)\n",
    "activity_data_leg = activity_encoder.fit_transform(activity_reshaped_leg)\n",
    "activity_df_leg = pd.DataFrame(activity_data_leg.toarray(), columns=['jog', 'run', 'stand', 'walk'])\n",
    "activity_df_leg"
   ]
  },
  {
   "cell_type": "code",
   "execution_count": 19,
   "metadata": {},
   "outputs": [
    {
     "data": {
      "text/html": [
       "<div>\n",
       "<style scoped>\n",
       "    .dataframe tbody tr th:only-of-type {\n",
       "        vertical-align: middle;\n",
       "    }\n",
       "\n",
       "    .dataframe tbody tr th {\n",
       "        vertical-align: top;\n",
       "    }\n",
       "\n",
       "    .dataframe thead th {\n",
       "        text-align: right;\n",
       "    }\n",
       "</style>\n",
       "<table border=\"1\" class=\"dataframe\">\n",
       "  <thead>\n",
       "    <tr style=\"text-align: right;\">\n",
       "      <th></th>\n",
       "      <th>jog</th>\n",
       "      <th>run</th>\n",
       "      <th>stand</th>\n",
       "      <th>walk</th>\n",
       "    </tr>\n",
       "  </thead>\n",
       "  <tbody>\n",
       "    <tr>\n",
       "      <th>0</th>\n",
       "      <td>0.0</td>\n",
       "      <td>0.0</td>\n",
       "      <td>1.0</td>\n",
       "      <td>0.0</td>\n",
       "    </tr>\n",
       "    <tr>\n",
       "      <th>1</th>\n",
       "      <td>0.0</td>\n",
       "      <td>0.0</td>\n",
       "      <td>1.0</td>\n",
       "      <td>0.0</td>\n",
       "    </tr>\n",
       "    <tr>\n",
       "      <th>2</th>\n",
       "      <td>0.0</td>\n",
       "      <td>0.0</td>\n",
       "      <td>1.0</td>\n",
       "      <td>0.0</td>\n",
       "    </tr>\n",
       "    <tr>\n",
       "      <th>3</th>\n",
       "      <td>0.0</td>\n",
       "      <td>0.0</td>\n",
       "      <td>1.0</td>\n",
       "      <td>0.0</td>\n",
       "    </tr>\n",
       "    <tr>\n",
       "      <th>4</th>\n",
       "      <td>0.0</td>\n",
       "      <td>0.0</td>\n",
       "      <td>1.0</td>\n",
       "      <td>0.0</td>\n",
       "    </tr>\n",
       "    <tr>\n",
       "      <th>...</th>\n",
       "      <td>...</td>\n",
       "      <td>...</td>\n",
       "      <td>...</td>\n",
       "      <td>...</td>\n",
       "    </tr>\n",
       "    <tr>\n",
       "      <th>2732</th>\n",
       "      <td>0.0</td>\n",
       "      <td>1.0</td>\n",
       "      <td>0.0</td>\n",
       "      <td>0.0</td>\n",
       "    </tr>\n",
       "    <tr>\n",
       "      <th>2733</th>\n",
       "      <td>0.0</td>\n",
       "      <td>1.0</td>\n",
       "      <td>0.0</td>\n",
       "      <td>0.0</td>\n",
       "    </tr>\n",
       "    <tr>\n",
       "      <th>2734</th>\n",
       "      <td>0.0</td>\n",
       "      <td>1.0</td>\n",
       "      <td>0.0</td>\n",
       "      <td>0.0</td>\n",
       "    </tr>\n",
       "    <tr>\n",
       "      <th>2735</th>\n",
       "      <td>0.0</td>\n",
       "      <td>1.0</td>\n",
       "      <td>0.0</td>\n",
       "      <td>0.0</td>\n",
       "    </tr>\n",
       "    <tr>\n",
       "      <th>2736</th>\n",
       "      <td>0.0</td>\n",
       "      <td>1.0</td>\n",
       "      <td>0.0</td>\n",
       "      <td>0.0</td>\n",
       "    </tr>\n",
       "  </tbody>\n",
       "</table>\n",
       "<p>2737 rows × 4 columns</p>\n",
       "</div>"
      ],
      "text/plain": [
       "      jog  run  stand  walk\n",
       "0     0.0  0.0    1.0   0.0\n",
       "1     0.0  0.0    1.0   0.0\n",
       "2     0.0  0.0    1.0   0.0\n",
       "3     0.0  0.0    1.0   0.0\n",
       "4     0.0  0.0    1.0   0.0\n",
       "...   ...  ...    ...   ...\n",
       "2732  0.0  1.0    0.0   0.0\n",
       "2733  0.0  1.0    0.0   0.0\n",
       "2734  0.0  1.0    0.0   0.0\n",
       "2735  0.0  1.0    0.0   0.0\n",
       "2736  0.0  1.0    0.0   0.0\n",
       "\n",
       "[2737 rows x 4 columns]"
      ]
     },
     "execution_count": 19,
     "metadata": {},
     "output_type": "execute_result"
    }
   ],
   "source": [
    "#one hot encoding-> arm sensor data\n",
    "activity_reshaped_arm = np.array(sd_x_data_arm['activity']).reshape(-1,1)\n",
    "activity_data_arm = activity_encoder.fit_transform(activity_reshaped_arm)\n",
    "activity_df_arm = pd.DataFrame(activity_data_arm.toarray(), columns=['jog', 'run', 'stand', 'walk'])\n",
    "activity_df_arm"
   ]
  },
  {
   "cell_type": "code",
   "execution_count": 20,
   "metadata": {},
   "outputs": [],
   "source": [
    "sd_x_data = sd_x_data.drop('activity', axis=1)\n",
    "sd_x_data = pd.concat([sd_x_data,activity_df], axis=1)\n",
    "\n",
    "sd_x_data_leg = sd_x_data_leg.drop('activity', axis=1)\n",
    "sd_x_data_leg = pd.concat([sd_x_data_leg,activity_df_leg], axis=1)\n",
    "\n",
    "sd_x_data_arm = sd_x_data_arm.drop('activity', axis=1)\n",
    "sd_x_data_arm = pd.concat([sd_x_data_arm,activity_df_arm], axis=1)"
   ]
  },
  {
   "cell_type": "code",
   "execution_count": 97,
   "metadata": {},
   "outputs": [
    {
     "name": "stdout",
     "output_type": "stream",
     "text": [
      "[['jog']\n",
      " ['run']\n",
      " ['stand']\n",
      " ['walk']]\n"
     ]
    }
   ],
   "source": [
    "#sample = [[1, 0, 0, 0],[0, 1, 0, 0],[0, 0, 1, 0],[0, 0, 0, 1]]\n",
    "#sample_np = np.array(sample)\n",
    "#print(activity_encoder.inverse_transform(sample))"
   ]
  },
  {
   "cell_type": "code",
   "execution_count": 21,
   "metadata": {},
   "outputs": [],
   "source": [
    "#sensor encoding\n",
    "sd_x_data['sensor_pos'] = pos_encoder.transform(sd_x_data['sensor_pos'])\n",
    "\n",
    "sd_x_data_leg['sensor_pos'] = pos_encoder.transform(sd_x_data_leg['sensor_pos'])\n",
    "\n",
    "sd_x_data_arm['sensor_pos'] = pos_encoder.transform(sd_x_data_arm['sensor_pos'])"
   ]
  },
  {
   "cell_type": "code",
   "execution_count": 22,
   "metadata": {},
   "outputs": [],
   "source": [
    "X_train, X_val, y_train, y_val = train_test_split(sd_x_data, sd_y_data, test_size= 0.2, random_state= 24)\n",
    "X_train_leg, X_val_leg, y_train_leg, y_val_leg = train_test_split(sd_x_data_leg, sd_y_data_leg, test_size= 0.2, random_state= 24)\n",
    "X_train_arm, X_val_arm, y_train_arm, y_val_arm = train_test_split(sd_x_data_arm, sd_y_data_arm, test_size= 0.2, random_state= 24)"
   ]
  },
  {
   "cell_type": "code",
   "execution_count": 23,
   "metadata": {},
   "outputs": [],
   "source": [
    "scaler.fit(X_train)\n",
    "X_train_sd = scaler.transform(X_train)\n",
    "X_val_sd = scaler.transform(X_val)\n",
    "\n",
    "X_train_leg_sd = scaler.transform(X_train_leg)\n",
    "X_val_leg_sd = scaler.transform(X_val_leg)\n",
    "\n",
    "X_train_arm_sd = scaler.transform(X_train_arm)\n",
    "X_val_arm_sd = scaler.transform(X_val_arm)"
   ]
  },
  {
   "cell_type": "code",
   "execution_count": 24,
   "metadata": {},
   "outputs": [
    {
     "name": "stderr",
     "output_type": "stream",
     "text": [
      "C:\\Users\\Dushyant\\AppData\\Local\\Programs\\Python\\Python37\\lib\\site-packages\\sklearn\\linear_model\\_logistic.py:765: ConvergenceWarning: lbfgs failed to converge (status=1):\n",
      "STOP: TOTAL NO. of ITERATIONS REACHED LIMIT.\n",
      "\n",
      "Increase the number of iterations (max_iter) or scale the data as shown in:\n",
      "    https://scikit-learn.org/stable/modules/preprocessing.html\n",
      "Please also refer to the documentation for alternative solver options:\n",
      "    https://scikit-learn.org/stable/modules/linear_model.html#logistic-regression\n",
      "  extra_warning_msg=_LOGISTIC_SOLVER_CONVERGENCE_MSG)\n",
      "C:\\Users\\Dushyant\\AppData\\Local\\Programs\\Python\\Python37\\lib\\site-packages\\sklearn\\linear_model\\_logistic.py:765: ConvergenceWarning: lbfgs failed to converge (status=1):\n",
      "STOP: TOTAL NO. of ITERATIONS REACHED LIMIT.\n",
      "\n",
      "Increase the number of iterations (max_iter) or scale the data as shown in:\n",
      "    https://scikit-learn.org/stable/modules/preprocessing.html\n",
      "Please also refer to the documentation for alternative solver options:\n",
      "    https://scikit-learn.org/stable/modules/linear_model.html#logistic-regression\n",
      "  extra_warning_msg=_LOGISTIC_SOLVER_CONVERGENCE_MSG)\n",
      "C:\\Users\\Dushyant\\AppData\\Local\\Programs\\Python\\Python37\\lib\\site-packages\\sklearn\\linear_model\\_logistic.py:765: ConvergenceWarning: lbfgs failed to converge (status=1):\n",
      "STOP: TOTAL NO. of ITERATIONS REACHED LIMIT.\n",
      "\n",
      "Increase the number of iterations (max_iter) or scale the data as shown in:\n",
      "    https://scikit-learn.org/stable/modules/preprocessing.html\n",
      "Please also refer to the documentation for alternative solver options:\n",
      "    https://scikit-learn.org/stable/modules/linear_model.html#logistic-regression\n",
      "  extra_warning_msg=_LOGISTIC_SOLVER_CONVERGENCE_MSG)\n"
     ]
    },
    {
     "data": {
      "text/plain": [
       "LogisticRegression(random_state=21)"
      ]
     },
     "execution_count": 24,
     "metadata": {},
     "output_type": "execute_result"
    }
   ],
   "source": [
    "#Logistical Regression\n",
    "lr_model = LogisticRegression(random_state=21)\n",
    "lr_model.fit(X_train_sd,y_train)\n",
    "\n",
    "lr_model_leg = LogisticRegression(random_state=21)\n",
    "lr_model_leg.fit(X_train_leg_sd,y_train_leg)\n",
    "\n",
    "lr_model_arm = LogisticRegression(random_state=21)\n",
    "lr_model_arm.fit(X_train_arm_sd,y_train_arm)"
   ]
  },
  {
   "cell_type": "code",
   "execution_count": 25,
   "metadata": {},
   "outputs": [
    {
     "name": "stdout",
     "output_type": "stream",
     "text": [
      "              precision    recall  f1-score   support\n",
      "\n",
      "           F       0.81      0.80      0.80       527\n",
      "           M       0.71      0.71      0.71       354\n",
      "\n",
      "    accuracy                           0.77       881\n",
      "   macro avg       0.76      0.76      0.76       881\n",
      "weighted avg       0.77      0.77      0.77       881\n",
      "\n"
     ]
    }
   ],
   "source": [
    "y_pred = lr_model.predict(X_val_sd)\n",
    "print(classification_report(y_val, y_pred))"
   ]
  },
  {
   "cell_type": "code",
   "execution_count": 26,
   "metadata": {},
   "outputs": [
    {
     "name": "stdout",
     "output_type": "stream",
     "text": [
      "              precision    recall  f1-score   support\n",
      "\n",
      "           F       0.93      0.88      0.90       252\n",
      "           M       0.68      0.79      0.73        82\n",
      "\n",
      "    accuracy                           0.86       334\n",
      "   macro avg       0.81      0.84      0.82       334\n",
      "weighted avg       0.87      0.86      0.86       334\n",
      "\n"
     ]
    }
   ],
   "source": [
    "#leg\n",
    "y_pred_leg = lr_model_leg.predict(X_val_leg_sd)\n",
    "print(classification_report(y_val_leg, y_pred_leg))"
   ]
  },
  {
   "cell_type": "code",
   "execution_count": 27,
   "metadata": {},
   "outputs": [
    {
     "name": "stdout",
     "output_type": "stream",
     "text": [
      "              precision    recall  f1-score   support\n",
      "\n",
      "           F       0.77      0.80      0.78       286\n",
      "           M       0.77      0.74      0.75       262\n",
      "\n",
      "    accuracy                           0.77       548\n",
      "   macro avg       0.77      0.77      0.77       548\n",
      "weighted avg       0.77      0.77      0.77       548\n",
      "\n"
     ]
    }
   ],
   "source": [
    "#arm\n",
    "y_pred_arm = lr_model_arm.predict(X_val_arm_sd)\n",
    "print(classification_report(y_val_arm, y_pred_arm))"
   ]
  }
 ],
 "metadata": {
  "interpreter": {
   "hash": "6bc2c2825d82c9ce5e1c70e44eb84ffd29d40a8ac35335129b1fa82144e43453"
  },
  "kernelspec": {
   "display_name": "Python 3 (ipykernel)",
   "language": "python",
   "name": "python3"
  },
  "language_info": {
   "codemirror_mode": {
    "name": "ipython",
    "version": 3
   },
   "file_extension": ".py",
   "mimetype": "text/x-python",
   "name": "python",
   "nbconvert_exporter": "python",
   "pygments_lexer": "ipython3",
   "version": "3.9.7"
  }
 },
 "nbformat": 4,
 "nbformat_minor": 2
}
