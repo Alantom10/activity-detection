{
 "cells": [
  {
   "cell_type": "code",
   "execution_count": 103,
   "metadata": {},
   "outputs": [],
   "source": [
    "import numpy as np\n",
    "import pandas as pd\n",
    "import matplotlib.pyplot as plt\n",
    "from sklearn.preprocessing import StandardScaler\n",
    "from sklearn.linear_model import LogisticRegression\n",
    "from sklearn.metrics import accuracy_score\n",
    "from sklearn.metrics import classification_report\n",
    "from sklearn.model_selection import train_test_split\n",
    "from sklearn.preprocessing import LabelEncoder\n",
    "from sklearn.preprocessing import OneHotEncoder\n",
    "import seaborn as sns\n",
    "sns.set()"
   ]
  },
  {
   "cell_type": "code",
   "execution_count": 104,
   "metadata": {},
   "outputs": [],
   "source": [
    "#import data\n",
    "\n",
    "data = pd.read_csv('processed_data/fe_data.csv')\n",
    "data_leg = pd.read_csv('processed_data/fe_legsensor_data.csv')\n",
    "data_arm = pd.read_csv('processed_data/fe_armsensor_data.csv')"
   ]
  },
  {
   "cell_type": "code",
   "execution_count": 105,
   "metadata": {},
   "outputs": [],
   "source": [
    "#drop 'index col'\n",
    "data = data.iloc[:,1:]\n",
    "data_leg = data_leg.iloc[:,1:]\n",
    "data_arm = data_arm.iloc[:,1:]"
   ]
  },
  {
   "cell_type": "markdown",
   "metadata": {},
   "source": [
    "1. Activity Detection - Machine Learning Approach"
   ]
  },
  {
   "cell_type": "code",
   "execution_count": 106,
   "metadata": {},
   "outputs": [
    {
     "name": "stdout",
     "output_type": "stream",
     "text": [
      "<class 'pandas.core.frame.DataFrame'>\n",
      "RangeIndex: 4403 entries, 0 to 4402\n",
      "Data columns (total 64 columns):\n",
      " #   Column        Non-Null Count  Dtype  \n",
      "---  ------        --------------  -----  \n",
      " 0   ax_mean       4403 non-null   float64\n",
      " 1   ay_mean       4403 non-null   float64\n",
      " 2   az_mean       4403 non-null   float64\n",
      " 3   aT_mean       4403 non-null   float64\n",
      " 4   ax_ad_mean    4403 non-null   float64\n",
      " 5   ay_ad_mean    4403 non-null   float64\n",
      " 6   az_ad_mean    4403 non-null   float64\n",
      " 7   aT_ad_mean    4403 non-null   float64\n",
      " 8   ax_min        4403 non-null   float64\n",
      " 9   ay_min        4403 non-null   float64\n",
      " 10  az_min        4403 non-null   float64\n",
      " 11  aT_min        4403 non-null   float64\n",
      " 12  ax_max        4403 non-null   float64\n",
      " 13  ay_max        4403 non-null   float64\n",
      " 14  az_max        4403 non-null   float64\n",
      " 15  aT_max        4403 non-null   float64\n",
      " 16  ax_std        4403 non-null   float64\n",
      " 17  ay_std        4403 non-null   float64\n",
      " 18  az_std        4403 non-null   float64\n",
      " 19  aT_std        4403 non-null   float64\n",
      " 20  ax_median     4403 non-null   float64\n",
      " 21  ay_median     4403 non-null   float64\n",
      " 22  az_median     4403 non-null   float64\n",
      " 23  aT_median     4403 non-null   float64\n",
      " 24  ax_ad_median  4403 non-null   float64\n",
      " 25  ay_ad_median  4403 non-null   float64\n",
      " 26  az_ad_median  4403 non-null   float64\n",
      " 27  aT_ad_median  4403 non-null   float64\n",
      " 28  ax_mm_diff    4403 non-null   float64\n",
      " 29  ay_mm_diff    4403 non-null   float64\n",
      " 30  az_mm_diff    4403 non-null   float64\n",
      " 31  aT_mm_diff    4403 non-null   float64\n",
      " 32  ax_iqr        4403 non-null   float64\n",
      " 33  ay_iqr        4403 non-null   float64\n",
      " 34  az_iqr        4403 non-null   float64\n",
      " 35  aT_iqr        4403 non-null   float64\n",
      " 36  ax_pos_count  4403 non-null   int64  \n",
      " 37  ay_pos_count  4403 non-null   int64  \n",
      " 38  az_pos_count  4403 non-null   int64  \n",
      " 39  aT_pos_count  4403 non-null   int64  \n",
      " 40  ax_neg_count  4403 non-null   int64  \n",
      " 41  ay_neg_count  4403 non-null   int64  \n",
      " 42  az_neg_count  4403 non-null   int64  \n",
      " 43  aT_neg_count  4403 non-null   int64  \n",
      " 44  ax_peaks      4403 non-null   int64  \n",
      " 45  ay_peaks      4403 non-null   int64  \n",
      " 46  az_peaks      4403 non-null   int64  \n",
      " 47  aT_peaks      4403 non-null   int64  \n",
      " 48  ax_kurtosis   4403 non-null   float64\n",
      " 49  ay_kurtosis   4403 non-null   float64\n",
      " 50  az_kurtosis   4403 non-null   float64\n",
      " 51  aT_kurtosis   4403 non-null   float64\n",
      " 52  ax_skewness   4403 non-null   float64\n",
      " 53  ay_skewness   4403 non-null   float64\n",
      " 54  az_skewness   4403 non-null   float64\n",
      " 55  aT_skewness   4403 non-null   float64\n",
      " 56  ax_energy     4403 non-null   float64\n",
      " 57  ay_energy     4403 non-null   float64\n",
      " 58  az_energy     4403 non-null   float64\n",
      " 59  aT_energy     4403 non-null   float64\n",
      " 60  id            4403 non-null   int64  \n",
      " 61  sex           4403 non-null   object \n",
      " 62  sensor_pos    4403 non-null   object \n",
      " 63  activity      4403 non-null   object \n",
      "dtypes: float64(48), int64(13), object(3)\n",
      "memory usage: 2.2+ MB\n"
     ]
    }
   ],
   "source": [
    "data.info()"
   ]
  },
  {
   "cell_type": "code",
   "execution_count": 107,
   "metadata": {},
   "outputs": [],
   "source": [
    "#whole data\n",
    "X_data = data.drop('activity', axis=1)\n",
    "y_data = data['activity']\n",
    "\n",
    "#leg sensor data\n",
    "X_data_leg = data_leg.drop('activity', axis=1)\n",
    "y_data_leg = data_leg['activity']\n",
    "\n",
    "#arm sensor data\n",
    "X_data_arm = data_arm.drop('activity', axis=1)\n",
    "y_data_arm = data_arm['activity']\n"
   ]
  },
  {
   "cell_type": "code",
   "execution_count": 44,
   "metadata": {},
   "outputs": [],
   "source": [
    "#X_data['sex']"
   ]
  },
  {
   "cell_type": "code",
   "execution_count": 108,
   "metadata": {},
   "outputs": [],
   "source": [
    "#encode sensor postion and sex data\n",
    "sex_encoder = LabelEncoder()\n",
    "sex_encoder.fit(X_data['sex'])\n",
    "X_data['sex'] =  sex_encoder.transform(X_data['sex'])\n",
    "#X_data['sex']\n",
    "#male:1, female:0\n",
    "X_data_leg['sex'] = sex_encoder.transform(X_data_leg['sex'])\n",
    "X_data_arm['sex'] = sex_encoder.transform(X_data_arm['sex'])"
   ]
  },
  {
   "cell_type": "code",
   "execution_count": 81,
   "metadata": {},
   "outputs": [],
   "source": [
    "#X_data['sensor_pos']"
   ]
  },
  {
   "cell_type": "code",
   "execution_count": 109,
   "metadata": {},
   "outputs": [],
   "source": [
    "pos_encoder = LabelEncoder()\n",
    "pos_encoder.fit(X_data['sensor_pos'])\n",
    "X_data['sensor_pos'] = pos_encoder.transform(X_data['sensor_pos'])\n",
    "#X_data['sensor_pos']\n",
    "#leg: 1, arm: 0\n",
    "X_data_leg['sensor_pos'] = pos_encoder.transform(X_data_leg['sensor_pos'])\n",
    "X_data_arm['sensor_pos'] = pos_encoder.transform(X_data_arm['sensor_pos'])"
   ]
  },
  {
   "cell_type": "code",
   "execution_count": 110,
   "metadata": {},
   "outputs": [],
   "source": [
    "#Train - Test Split\n",
    "X_train, X_val, y_train, y_val = train_test_split(X_data, y_data, test_size= 0.2, random_state= 24)\n",
    "X_train_leg, X_val_leg, y_train_leg, y_val_leg = train_test_split(X_data_leg, y_data_leg, test_size= 0.2, random_state= 24)\n",
    "X_train_arm, X_val_arm, y_train_arm, y_val_arm = train_test_split(X_data_arm, y_data_arm, test_size= 0.2, random_state= 24)"
   ]
  },
  {
   "cell_type": "code",
   "execution_count": 111,
   "metadata": {},
   "outputs": [],
   "source": [
    "#standardizing into scaler\n",
    "\n",
    "scaler = StandardScaler()\n",
    "scaler.fit(X_train)\n",
    "X_train_sd = scaler.transform(X_train)\n",
    "X_val_sd = scaler.transform(X_val)\n",
    "\n",
    "X_train_leg_sd = scaler.transform(X_train_leg)\n",
    "X_val_leg_sd = scaler.transform(X_val_leg)\n",
    "\n",
    "X_train_arm_sd = scaler.transform(X_train_arm)\n",
    "X_val_arm_sd = scaler.transform(X_val_arm)"
   ]
  },
  {
   "cell_type": "markdown",
   "metadata": {},
   "source": [
    " - LR on whole FE dataset"
   ]
  },
  {
   "cell_type": "code",
   "execution_count": 112,
   "metadata": {},
   "outputs": [
    {
     "name": "stderr",
     "output_type": "stream",
     "text": [
      "C:\\Users\\Dushyant\\AppData\\Local\\Programs\\Python\\Python37\\lib\\site-packages\\sklearn\\linear_model\\_logistic.py:765: ConvergenceWarning: lbfgs failed to converge (status=1):\n",
      "STOP: TOTAL NO. of ITERATIONS REACHED LIMIT.\n",
      "\n",
      "Increase the number of iterations (max_iter) or scale the data as shown in:\n",
      "    https://scikit-learn.org/stable/modules/preprocessing.html\n",
      "Please also refer to the documentation for alternative solver options:\n",
      "    https://scikit-learn.org/stable/modules/linear_model.html#logistic-regression\n",
      "  extra_warning_msg=_LOGISTIC_SOLVER_CONVERGENCE_MSG)\n"
     ]
    },
    {
     "data": {
      "text/plain": [
       "LogisticRegression(random_state=21)"
      ]
     },
     "execution_count": 112,
     "metadata": {},
     "output_type": "execute_result"
    }
   ],
   "source": [
    "#Logistical Regression\n",
    "lr_model = LogisticRegression(random_state=21)\n",
    "lr_model.fit(X_train_sd,y_train)"
   ]
  },
  {
   "cell_type": "code",
   "execution_count": 113,
   "metadata": {},
   "outputs": [
    {
     "name": "stdout",
     "output_type": "stream",
     "text": [
      "              precision    recall  f1-score   support\n",
      "\n",
      "         jog       0.96      0.95      0.95       209\n",
      "         run       0.95      0.96      0.96       202\n",
      "       stand       1.00      1.00      1.00       221\n",
      "        walk       1.00      1.00      1.00       249\n",
      "\n",
      "    accuracy                           0.98       881\n",
      "   macro avg       0.98      0.98      0.98       881\n",
      "weighted avg       0.98      0.98      0.98       881\n",
      "\n"
     ]
    }
   ],
   "source": [
    "y_pred = lr_model.predict(X_val_sd)\n",
    "print(classification_report(y_val, y_pred))"
   ]
  },
  {
   "cell_type": "markdown",
   "metadata": {},
   "source": [
    "- LR on Leg Sensor FE dataset"
   ]
  },
  {
   "cell_type": "code",
   "execution_count": 114,
   "metadata": {},
   "outputs": [
    {
     "name": "stderr",
     "output_type": "stream",
     "text": [
      "C:\\Users\\Dushyant\\AppData\\Local\\Programs\\Python\\Python37\\lib\\site-packages\\sklearn\\linear_model\\_logistic.py:765: ConvergenceWarning: lbfgs failed to converge (status=1):\n",
      "STOP: TOTAL NO. of ITERATIONS REACHED LIMIT.\n",
      "\n",
      "Increase the number of iterations (max_iter) or scale the data as shown in:\n",
      "    https://scikit-learn.org/stable/modules/preprocessing.html\n",
      "Please also refer to the documentation for alternative solver options:\n",
      "    https://scikit-learn.org/stable/modules/linear_model.html#logistic-regression\n",
      "  extra_warning_msg=_LOGISTIC_SOLVER_CONVERGENCE_MSG)\n"
     ]
    },
    {
     "data": {
      "text/plain": [
       "LogisticRegression(random_state=21)"
      ]
     },
     "execution_count": 114,
     "metadata": {},
     "output_type": "execute_result"
    }
   ],
   "source": [
    "#Logistical Regression\n",
    "lr_model_leg = LogisticRegression(random_state=21)\n",
    "lr_model_leg.fit(X_train_leg_sd,y_train_leg)"
   ]
  },
  {
   "cell_type": "code",
   "execution_count": 115,
   "metadata": {},
   "outputs": [
    {
     "name": "stdout",
     "output_type": "stream",
     "text": [
      "              precision    recall  f1-score   support\n",
      "\n",
      "         jog       1.00      1.00      1.00        77\n",
      "         run       1.00      1.00      1.00        63\n",
      "       stand       1.00      1.00      1.00        99\n",
      "        walk       1.00      1.00      1.00        95\n",
      "\n",
      "    accuracy                           1.00       334\n",
      "   macro avg       1.00      1.00      1.00       334\n",
      "weighted avg       1.00      1.00      1.00       334\n",
      "\n"
     ]
    }
   ],
   "source": [
    "y_pred_leg = lr_model_leg.predict(X_val_leg_sd)\n",
    "print(classification_report(y_val_leg, y_pred_leg))"
   ]
  },
  {
   "cell_type": "markdown",
   "metadata": {},
   "source": [
    "- LR on Arm Sensor FE dataset"
   ]
  },
  {
   "cell_type": "code",
   "execution_count": 116,
   "metadata": {},
   "outputs": [
    {
     "name": "stderr",
     "output_type": "stream",
     "text": [
      "C:\\Users\\Dushyant\\AppData\\Local\\Programs\\Python\\Python37\\lib\\site-packages\\sklearn\\linear_model\\_logistic.py:765: ConvergenceWarning: lbfgs failed to converge (status=1):\n",
      "STOP: TOTAL NO. of ITERATIONS REACHED LIMIT.\n",
      "\n",
      "Increase the number of iterations (max_iter) or scale the data as shown in:\n",
      "    https://scikit-learn.org/stable/modules/preprocessing.html\n",
      "Please also refer to the documentation for alternative solver options:\n",
      "    https://scikit-learn.org/stable/modules/linear_model.html#logistic-regression\n",
      "  extra_warning_msg=_LOGISTIC_SOLVER_CONVERGENCE_MSG)\n"
     ]
    },
    {
     "data": {
      "text/plain": [
       "LogisticRegression(random_state=21)"
      ]
     },
     "execution_count": 116,
     "metadata": {},
     "output_type": "execute_result"
    }
   ],
   "source": [
    "#Logistical Regression\n",
    "lr_model_arm = LogisticRegression(random_state=21)\n",
    "lr_model_arm.fit(X_train_arm_sd,y_train_arm)"
   ]
  },
  {
   "cell_type": "code",
   "execution_count": 117,
   "metadata": {},
   "outputs": [
    {
     "name": "stdout",
     "output_type": "stream",
     "text": [
      "              precision    recall  f1-score   support\n",
      "\n",
      "         jog       0.93      0.97      0.95       143\n",
      "         run       0.96      0.93      0.95       144\n",
      "       stand       1.00      1.00      1.00       117\n",
      "        walk       1.00      1.00      1.00       144\n",
      "\n",
      "    accuracy                           0.97       548\n",
      "   macro avg       0.97      0.97      0.97       548\n",
      "weighted avg       0.97      0.97      0.97       548\n",
      "\n"
     ]
    }
   ],
   "source": [
    "y_pred_arm = lr_model_arm.predict(X_val_arm_sd)\n",
    "print(classification_report(y_val_arm, y_pred_arm))"
   ]
  },
  {
   "cell_type": "markdown",
   "metadata": {},
   "source": [
    "2. Sex Differentiation - Machine Learning Approach"
   ]
  },
  {
   "cell_type": "code",
   "execution_count": 118,
   "metadata": {},
   "outputs": [],
   "source": [
    "#Whole data\n",
    "sd_x_data = data.drop('sex', axis=1)\n",
    "sd_y_data =  data['sex']"
   ]
  },
  {
   "cell_type": "code",
   "execution_count": 119,
   "metadata": {},
   "outputs": [
    {
     "data": {
      "text/html": [
       "<div>\n",
       "<style scoped>\n",
       "    .dataframe tbody tr th:only-of-type {\n",
       "        vertical-align: middle;\n",
       "    }\n",
       "\n",
       "    .dataframe tbody tr th {\n",
       "        vertical-align: top;\n",
       "    }\n",
       "\n",
       "    .dataframe thead th {\n",
       "        text-align: right;\n",
       "    }\n",
       "</style>\n",
       "<table border=\"1\" class=\"dataframe\">\n",
       "  <thead>\n",
       "    <tr style=\"text-align: right;\">\n",
       "      <th></th>\n",
       "      <th>jog</th>\n",
       "      <th>run</th>\n",
       "      <th>stand</th>\n",
       "      <th>walk</th>\n",
       "    </tr>\n",
       "  </thead>\n",
       "  <tbody>\n",
       "    <tr>\n",
       "      <th>0</th>\n",
       "      <td>0.0</td>\n",
       "      <td>0.0</td>\n",
       "      <td>1.0</td>\n",
       "      <td>0.0</td>\n",
       "    </tr>\n",
       "    <tr>\n",
       "      <th>1</th>\n",
       "      <td>0.0</td>\n",
       "      <td>0.0</td>\n",
       "      <td>1.0</td>\n",
       "      <td>0.0</td>\n",
       "    </tr>\n",
       "    <tr>\n",
       "      <th>2</th>\n",
       "      <td>0.0</td>\n",
       "      <td>0.0</td>\n",
       "      <td>1.0</td>\n",
       "      <td>0.0</td>\n",
       "    </tr>\n",
       "    <tr>\n",
       "      <th>3</th>\n",
       "      <td>0.0</td>\n",
       "      <td>0.0</td>\n",
       "      <td>1.0</td>\n",
       "      <td>0.0</td>\n",
       "    </tr>\n",
       "    <tr>\n",
       "      <th>4</th>\n",
       "      <td>0.0</td>\n",
       "      <td>0.0</td>\n",
       "      <td>1.0</td>\n",
       "      <td>0.0</td>\n",
       "    </tr>\n",
       "    <tr>\n",
       "      <th>...</th>\n",
       "      <td>...</td>\n",
       "      <td>...</td>\n",
       "      <td>...</td>\n",
       "      <td>...</td>\n",
       "    </tr>\n",
       "    <tr>\n",
       "      <th>4398</th>\n",
       "      <td>0.0</td>\n",
       "      <td>1.0</td>\n",
       "      <td>0.0</td>\n",
       "      <td>0.0</td>\n",
       "    </tr>\n",
       "    <tr>\n",
       "      <th>4399</th>\n",
       "      <td>0.0</td>\n",
       "      <td>1.0</td>\n",
       "      <td>0.0</td>\n",
       "      <td>0.0</td>\n",
       "    </tr>\n",
       "    <tr>\n",
       "      <th>4400</th>\n",
       "      <td>0.0</td>\n",
       "      <td>1.0</td>\n",
       "      <td>0.0</td>\n",
       "      <td>0.0</td>\n",
       "    </tr>\n",
       "    <tr>\n",
       "      <th>4401</th>\n",
       "      <td>0.0</td>\n",
       "      <td>1.0</td>\n",
       "      <td>0.0</td>\n",
       "      <td>0.0</td>\n",
       "    </tr>\n",
       "    <tr>\n",
       "      <th>4402</th>\n",
       "      <td>0.0</td>\n",
       "      <td>1.0</td>\n",
       "      <td>0.0</td>\n",
       "      <td>0.0</td>\n",
       "    </tr>\n",
       "  </tbody>\n",
       "</table>\n",
       "<p>4403 rows × 4 columns</p>\n",
       "</div>"
      ],
      "text/plain": [
       "      jog  run  stand  walk\n",
       "0     0.0  0.0    1.0   0.0\n",
       "1     0.0  0.0    1.0   0.0\n",
       "2     0.0  0.0    1.0   0.0\n",
       "3     0.0  0.0    1.0   0.0\n",
       "4     0.0  0.0    1.0   0.0\n",
       "...   ...  ...    ...   ...\n",
       "4398  0.0  1.0    0.0   0.0\n",
       "4399  0.0  1.0    0.0   0.0\n",
       "4400  0.0  1.0    0.0   0.0\n",
       "4401  0.0  1.0    0.0   0.0\n",
       "4402  0.0  1.0    0.0   0.0\n",
       "\n",
       "[4403 rows x 4 columns]"
      ]
     },
     "execution_count": 119,
     "metadata": {},
     "output_type": "execute_result"
    }
   ],
   "source": [
    "#one hot encoding for 'activity' data\n",
    "activity_encoder = OneHotEncoder()\n",
    "activity_reshaped = np.array(sd_x_data['activity']).reshape(-1,1)\n",
    "activity_data = activity_encoder.fit_transform(activity_reshaped)\n",
    "\n",
    "activity_df = pd.DataFrame(activity_data.toarray(), columns=['jog', 'run', 'stand', 'walk'])\n",
    "activity_df"
   ]
  },
  {
   "cell_type": "code",
   "execution_count": 120,
   "metadata": {},
   "outputs": [
    {
     "data": {
      "text/html": [
       "<div>\n",
       "<style scoped>\n",
       "    .dataframe tbody tr th:only-of-type {\n",
       "        vertical-align: middle;\n",
       "    }\n",
       "\n",
       "    .dataframe tbody tr th {\n",
       "        vertical-align: top;\n",
       "    }\n",
       "\n",
       "    .dataframe thead th {\n",
       "        text-align: right;\n",
       "    }\n",
       "</style>\n",
       "<table border=\"1\" class=\"dataframe\">\n",
       "  <thead>\n",
       "    <tr style=\"text-align: right;\">\n",
       "      <th></th>\n",
       "      <th>ax_mean</th>\n",
       "      <th>ay_mean</th>\n",
       "      <th>az_mean</th>\n",
       "      <th>aT_mean</th>\n",
       "      <th>ax_ad_mean</th>\n",
       "      <th>ay_ad_mean</th>\n",
       "      <th>az_ad_mean</th>\n",
       "      <th>aT_ad_mean</th>\n",
       "      <th>ax_min</th>\n",
       "      <th>ay_min</th>\n",
       "      <th>...</th>\n",
       "      <th>ax_energy</th>\n",
       "      <th>ay_energy</th>\n",
       "      <th>az_energy</th>\n",
       "      <th>aT_energy</th>\n",
       "      <th>id</th>\n",
       "      <th>sensor_pos</th>\n",
       "      <th>jog</th>\n",
       "      <th>run</th>\n",
       "      <th>stand</th>\n",
       "      <th>walk</th>\n",
       "    </tr>\n",
       "  </thead>\n",
       "  <tbody>\n",
       "    <tr>\n",
       "      <th>0</th>\n",
       "      <td>0.008389</td>\n",
       "      <td>0.002299</td>\n",
       "      <td>-0.005565</td>\n",
       "      <td>0.052762</td>\n",
       "      <td>0.018978</td>\n",
       "      <td>0.007285</td>\n",
       "      <td>0.011284</td>\n",
       "      <td>0.013785</td>\n",
       "      <td>-0.038112</td>\n",
       "      <td>-0.022203</td>\n",
       "      <td>...</td>\n",
       "      <td>0.000565</td>\n",
       "      <td>0.000092</td>\n",
       "      <td>0.000225</td>\n",
       "      <td>0.003101</td>\n",
       "      <td>5</td>\n",
       "      <td>leg</td>\n",
       "      <td>0.0</td>\n",
       "      <td>0.0</td>\n",
       "      <td>1.0</td>\n",
       "      <td>0.0</td>\n",
       "    </tr>\n",
       "    <tr>\n",
       "      <th>1</th>\n",
       "      <td>0.004237</td>\n",
       "      <td>0.004799</td>\n",
       "      <td>-0.003213</td>\n",
       "      <td>0.056464</td>\n",
       "      <td>0.022196</td>\n",
       "      <td>0.006363</td>\n",
       "      <td>0.012816</td>\n",
       "      <td>0.010641</td>\n",
       "      <td>-0.038112</td>\n",
       "      <td>-0.006534</td>\n",
       "      <td>...</td>\n",
       "      <td>0.000610</td>\n",
       "      <td>0.000080</td>\n",
       "      <td>0.000230</td>\n",
       "      <td>0.003373</td>\n",
       "      <td>5</td>\n",
       "      <td>leg</td>\n",
       "      <td>0.0</td>\n",
       "      <td>0.0</td>\n",
       "      <td>1.0</td>\n",
       "      <td>0.0</td>\n",
       "    </tr>\n",
       "    <tr>\n",
       "      <th>2</th>\n",
       "      <td>0.004794</td>\n",
       "      <td>0.004276</td>\n",
       "      <td>-0.006235</td>\n",
       "      <td>0.055496</td>\n",
       "      <td>0.018700</td>\n",
       "      <td>0.006834</td>\n",
       "      <td>0.010793</td>\n",
       "      <td>0.010963</td>\n",
       "      <td>-0.034305</td>\n",
       "      <td>-0.004757</td>\n",
       "      <td>...</td>\n",
       "      <td>0.000473</td>\n",
       "      <td>0.000081</td>\n",
       "      <td>0.000214</td>\n",
       "      <td>0.003274</td>\n",
       "      <td>5</td>\n",
       "      <td>leg</td>\n",
       "      <td>0.0</td>\n",
       "      <td>0.0</td>\n",
       "      <td>1.0</td>\n",
       "      <td>0.0</td>\n",
       "    </tr>\n",
       "    <tr>\n",
       "      <th>3</th>\n",
       "      <td>0.002024</td>\n",
       "      <td>0.003511</td>\n",
       "      <td>-0.001768</td>\n",
       "      <td>0.048095</td>\n",
       "      <td>0.017400</td>\n",
       "      <td>0.005763</td>\n",
       "      <td>0.007734</td>\n",
       "      <td>0.004334</td>\n",
       "      <td>-0.034305</td>\n",
       "      <td>-0.004757</td>\n",
       "      <td>...</td>\n",
       "      <td>0.000428</td>\n",
       "      <td>0.000066</td>\n",
       "      <td>0.000081</td>\n",
       "      <td>0.002338</td>\n",
       "      <td>5</td>\n",
       "      <td>leg</td>\n",
       "      <td>0.0</td>\n",
       "      <td>0.0</td>\n",
       "      <td>1.0</td>\n",
       "      <td>0.0</td>\n",
       "    </tr>\n",
       "    <tr>\n",
       "      <th>4</th>\n",
       "      <td>0.005332</td>\n",
       "      <td>0.002019</td>\n",
       "      <td>-0.001356</td>\n",
       "      <td>0.050343</td>\n",
       "      <td>0.021216</td>\n",
       "      <td>0.003858</td>\n",
       "      <td>0.007236</td>\n",
       "      <td>0.007080</td>\n",
       "      <td>-0.034305</td>\n",
       "      <td>-0.004757</td>\n",
       "      <td>...</td>\n",
       "      <td>0.000622</td>\n",
       "      <td>0.000024</td>\n",
       "      <td>0.000062</td>\n",
       "      <td>0.002622</td>\n",
       "      <td>5</td>\n",
       "      <td>leg</td>\n",
       "      <td>0.0</td>\n",
       "      <td>0.0</td>\n",
       "      <td>1.0</td>\n",
       "      <td>0.0</td>\n",
       "    </tr>\n",
       "    <tr>\n",
       "      <th>...</th>\n",
       "      <td>...</td>\n",
       "      <td>...</td>\n",
       "      <td>...</td>\n",
       "      <td>...</td>\n",
       "      <td>...</td>\n",
       "      <td>...</td>\n",
       "      <td>...</td>\n",
       "      <td>...</td>\n",
       "      <td>...</td>\n",
       "      <td>...</td>\n",
       "      <td>...</td>\n",
       "      <td>...</td>\n",
       "      <td>...</td>\n",
       "      <td>...</td>\n",
       "      <td>...</td>\n",
       "      <td>...</td>\n",
       "      <td>...</td>\n",
       "      <td>...</td>\n",
       "      <td>...</td>\n",
       "      <td>...</td>\n",
       "      <td>...</td>\n",
       "    </tr>\n",
       "    <tr>\n",
       "      <th>4398</th>\n",
       "      <td>5.304296</td>\n",
       "      <td>6.992285</td>\n",
       "      <td>-7.357166</td>\n",
       "      <td>20.077278</td>\n",
       "      <td>7.788882</td>\n",
       "      <td>10.934353</td>\n",
       "      <td>4.241924</td>\n",
       "      <td>3.214296</td>\n",
       "      <td>-11.753848</td>\n",
       "      <td>-11.427540</td>\n",
       "      <td>...</td>\n",
       "      <td>103.234317</td>\n",
       "      <td>201.144825</td>\n",
       "      <td>77.771117</td>\n",
       "      <td>418.364999</td>\n",
       "      <td>6</td>\n",
       "      <td>arm</td>\n",
       "      <td>0.0</td>\n",
       "      <td>1.0</td>\n",
       "      <td>0.0</td>\n",
       "      <td>0.0</td>\n",
       "    </tr>\n",
       "    <tr>\n",
       "      <th>4399</th>\n",
       "      <td>1.353025</td>\n",
       "      <td>2.949142</td>\n",
       "      <td>-5.974860</td>\n",
       "      <td>20.573900</td>\n",
       "      <td>11.762721</td>\n",
       "      <td>10.300356</td>\n",
       "      <td>5.880427</td>\n",
       "      <td>2.751457</td>\n",
       "      <td>-19.944505</td>\n",
       "      <td>-11.427540</td>\n",
       "      <td>...</td>\n",
       "      <td>180.673362</td>\n",
       "      <td>154.019590</td>\n",
       "      <td>77.549418</td>\n",
       "      <td>435.116636</td>\n",
       "      <td>6</td>\n",
       "      <td>arm</td>\n",
       "      <td>0.0</td>\n",
       "      <td>1.0</td>\n",
       "      <td>0.0</td>\n",
       "      <td>0.0</td>\n",
       "    </tr>\n",
       "    <tr>\n",
       "      <th>4400</th>\n",
       "      <td>-3.024489</td>\n",
       "      <td>7.247215</td>\n",
       "      <td>-3.938283</td>\n",
       "      <td>19.358044</td>\n",
       "      <td>9.439023</td>\n",
       "      <td>9.714546</td>\n",
       "      <td>5.349486</td>\n",
       "      <td>3.410748</td>\n",
       "      <td>-19.944505</td>\n",
       "      <td>-11.427540</td>\n",
       "      <td>...</td>\n",
       "      <td>135.442196</td>\n",
       "      <td>175.032008</td>\n",
       "      <td>52.863801</td>\n",
       "      <td>391.718142</td>\n",
       "      <td>6</td>\n",
       "      <td>arm</td>\n",
       "      <td>0.0</td>\n",
       "      <td>1.0</td>\n",
       "      <td>0.0</td>\n",
       "      <td>0.0</td>\n",
       "    </tr>\n",
       "    <tr>\n",
       "      <th>4401</th>\n",
       "      <td>-7.953697</td>\n",
       "      <td>9.211947</td>\n",
       "      <td>-1.493172</td>\n",
       "      <td>18.164470</td>\n",
       "      <td>7.121034</td>\n",
       "      <td>8.891033</td>\n",
       "      <td>4.168916</td>\n",
       "      <td>2.962911</td>\n",
       "      <td>-19.944505</td>\n",
       "      <td>-4.971440</td>\n",
       "      <td>...</td>\n",
       "      <td>95.410406</td>\n",
       "      <td>142.332039</td>\n",
       "      <td>21.622441</td>\n",
       "      <td>262.217930</td>\n",
       "      <td>6</td>\n",
       "      <td>arm</td>\n",
       "      <td>0.0</td>\n",
       "      <td>1.0</td>\n",
       "      <td>0.0</td>\n",
       "      <td>0.0</td>\n",
       "    </tr>\n",
       "    <tr>\n",
       "      <th>4402</th>\n",
       "      <td>-10.426398</td>\n",
       "      <td>4.460931</td>\n",
       "      <td>0.603867</td>\n",
       "      <td>16.341648</td>\n",
       "      <td>7.344821</td>\n",
       "      <td>7.095706</td>\n",
       "      <td>2.973423</td>\n",
       "      <td>1.399326</td>\n",
       "      <td>-19.944505</td>\n",
       "      <td>-4.971440</td>\n",
       "      <td>...</td>\n",
       "      <td>88.190346</td>\n",
       "      <td>40.942517</td>\n",
       "      <td>5.937697</td>\n",
       "      <td>137.583549</td>\n",
       "      <td>6</td>\n",
       "      <td>arm</td>\n",
       "      <td>0.0</td>\n",
       "      <td>1.0</td>\n",
       "      <td>0.0</td>\n",
       "      <td>0.0</td>\n",
       "    </tr>\n",
       "  </tbody>\n",
       "</table>\n",
       "<p>4403 rows × 66 columns</p>\n",
       "</div>"
      ],
      "text/plain": [
       "        ax_mean   ay_mean   az_mean    aT_mean  ax_ad_mean  ay_ad_mean  \\\n",
       "0      0.008389  0.002299 -0.005565   0.052762    0.018978    0.007285   \n",
       "1      0.004237  0.004799 -0.003213   0.056464    0.022196    0.006363   \n",
       "2      0.004794  0.004276 -0.006235   0.055496    0.018700    0.006834   \n",
       "3      0.002024  0.003511 -0.001768   0.048095    0.017400    0.005763   \n",
       "4      0.005332  0.002019 -0.001356   0.050343    0.021216    0.003858   \n",
       "...         ...       ...       ...        ...         ...         ...   \n",
       "4398   5.304296  6.992285 -7.357166  20.077278    7.788882   10.934353   \n",
       "4399   1.353025  2.949142 -5.974860  20.573900   11.762721   10.300356   \n",
       "4400  -3.024489  7.247215 -3.938283  19.358044    9.439023    9.714546   \n",
       "4401  -7.953697  9.211947 -1.493172  18.164470    7.121034    8.891033   \n",
       "4402 -10.426398  4.460931  0.603867  16.341648    7.344821    7.095706   \n",
       "\n",
       "      az_ad_mean  aT_ad_mean     ax_min     ay_min  ...   ax_energy  \\\n",
       "0       0.011284    0.013785  -0.038112  -0.022203  ...    0.000565   \n",
       "1       0.012816    0.010641  -0.038112  -0.006534  ...    0.000610   \n",
       "2       0.010793    0.010963  -0.034305  -0.004757  ...    0.000473   \n",
       "3       0.007734    0.004334  -0.034305  -0.004757  ...    0.000428   \n",
       "4       0.007236    0.007080  -0.034305  -0.004757  ...    0.000622   \n",
       "...          ...         ...        ...        ...  ...         ...   \n",
       "4398    4.241924    3.214296 -11.753848 -11.427540  ...  103.234317   \n",
       "4399    5.880427    2.751457 -19.944505 -11.427540  ...  180.673362   \n",
       "4400    5.349486    3.410748 -19.944505 -11.427540  ...  135.442196   \n",
       "4401    4.168916    2.962911 -19.944505  -4.971440  ...   95.410406   \n",
       "4402    2.973423    1.399326 -19.944505  -4.971440  ...   88.190346   \n",
       "\n",
       "       ay_energy  az_energy   aT_energy  id  sensor_pos  jog  run  stand  walk  \n",
       "0       0.000092   0.000225    0.003101   5         leg  0.0  0.0    1.0   0.0  \n",
       "1       0.000080   0.000230    0.003373   5         leg  0.0  0.0    1.0   0.0  \n",
       "2       0.000081   0.000214    0.003274   5         leg  0.0  0.0    1.0   0.0  \n",
       "3       0.000066   0.000081    0.002338   5         leg  0.0  0.0    1.0   0.0  \n",
       "4       0.000024   0.000062    0.002622   5         leg  0.0  0.0    1.0   0.0  \n",
       "...          ...        ...         ...  ..         ...  ...  ...    ...   ...  \n",
       "4398  201.144825  77.771117  418.364999   6         arm  0.0  1.0    0.0   0.0  \n",
       "4399  154.019590  77.549418  435.116636   6         arm  0.0  1.0    0.0   0.0  \n",
       "4400  175.032008  52.863801  391.718142   6         arm  0.0  1.0    0.0   0.0  \n",
       "4401  142.332039  21.622441  262.217930   6         arm  0.0  1.0    0.0   0.0  \n",
       "4402   40.942517   5.937697  137.583549   6         arm  0.0  1.0    0.0   0.0  \n",
       "\n",
       "[4403 rows x 66 columns]"
      ]
     },
     "execution_count": 120,
     "metadata": {},
     "output_type": "execute_result"
    }
   ],
   "source": [
    "sd_x_data = sd_x_data.drop('activity', axis=1)\n",
    "sd_x_data = pd.concat([sd_x_data,activity_df], axis=1)\n",
    "sd_x_data"
   ]
  },
  {
   "cell_type": "code",
   "execution_count": 97,
   "metadata": {},
   "outputs": [
    {
     "name": "stdout",
     "output_type": "stream",
     "text": [
      "[['jog']\n",
      " ['run']\n",
      " ['stand']\n",
      " ['walk']]\n"
     ]
    }
   ],
   "source": [
    "#sample = [[1, 0, 0, 0],[0, 1, 0, 0],[0, 0, 1, 0],[0, 0, 0, 1]]\n",
    "#sample_np = np.array(sample)\n",
    "#print(activity_encoder.inverse_transform(sample))"
   ]
  },
  {
   "cell_type": "code",
   "execution_count": 121,
   "metadata": {},
   "outputs": [],
   "source": [
    "#sensor encoding\n",
    "sd_x_data['sensor_pos'] = pos_encoder.transform(sd_x_data['sensor_pos'])"
   ]
  },
  {
   "cell_type": "code",
   "execution_count": 122,
   "metadata": {},
   "outputs": [],
   "source": [
    "X_train, X_val, y_train, y_val = train_test_split(sd_x_data, sd_y_data, test_size= 0.2, random_state= 24)\n"
   ]
  },
  {
   "cell_type": "code",
   "execution_count": 124,
   "metadata": {},
   "outputs": [],
   "source": [
    "scaler.fit(X_train)\n",
    "X_train_sd = scaler.transform(X_train)\n",
    "X_val_sd = scaler.transform(X_val)\n",
    "\n"
   ]
  },
  {
   "cell_type": "code",
   "execution_count": 125,
   "metadata": {},
   "outputs": [
    {
     "name": "stderr",
     "output_type": "stream",
     "text": [
      "C:\\Users\\Dushyant\\AppData\\Local\\Programs\\Python\\Python37\\lib\\site-packages\\sklearn\\linear_model\\_logistic.py:765: ConvergenceWarning: lbfgs failed to converge (status=1):\n",
      "STOP: TOTAL NO. of ITERATIONS REACHED LIMIT.\n",
      "\n",
      "Increase the number of iterations (max_iter) or scale the data as shown in:\n",
      "    https://scikit-learn.org/stable/modules/preprocessing.html\n",
      "Please also refer to the documentation for alternative solver options:\n",
      "    https://scikit-learn.org/stable/modules/linear_model.html#logistic-regression\n",
      "  extra_warning_msg=_LOGISTIC_SOLVER_CONVERGENCE_MSG)\n"
     ]
    },
    {
     "data": {
      "text/plain": [
       "LogisticRegression(random_state=21)"
      ]
     },
     "execution_count": 125,
     "metadata": {},
     "output_type": "execute_result"
    }
   ],
   "source": [
    "#Logistical Regression\n",
    "lr_model = LogisticRegression(random_state=21)\n",
    "lr_model.fit(X_train_sd,y_train)"
   ]
  },
  {
   "cell_type": "code",
   "execution_count": 127,
   "metadata": {},
   "outputs": [
    {
     "name": "stdout",
     "output_type": "stream",
     "text": [
      "              precision    recall  f1-score   support\n",
      "\n",
      "           F       0.81      0.80      0.80       527\n",
      "           M       0.71      0.71      0.71       354\n",
      "\n",
      "    accuracy                           0.77       881\n",
      "   macro avg       0.76      0.76      0.76       881\n",
      "weighted avg       0.77      0.77      0.77       881\n",
      "\n"
     ]
    }
   ],
   "source": [
    "y_pred = lr_model.predict(X_val_sd)\n",
    "print(classification_report(y_val, y_pred))"
   ]
  }
 ],
 "metadata": {
  "interpreter": {
   "hash": "6bc2c2825d82c9ce5e1c70e44eb84ffd29d40a8ac35335129b1fa82144e43453"
  },
  "kernelspec": {
   "display_name": "Python 3.7.7 64-bit",
   "language": "python",
   "name": "python3"
  },
  "language_info": {
   "codemirror_mode": {
    "name": "ipython",
    "version": 3
   },
   "file_extension": ".py",
   "mimetype": "text/x-python",
   "name": "python",
   "nbconvert_exporter": "python",
   "pygments_lexer": "ipython3",
   "version": "3.7.7"
  },
  "orig_nbformat": 4
 },
 "nbformat": 4,
 "nbformat_minor": 2
}
