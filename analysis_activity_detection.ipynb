{
 "cells": [
  {
   "cell_type": "code",
   "execution_count": 1,
   "metadata": {},
   "outputs": [],
   "source": [
    "import numpy as np\n",
    "import pandas as pd\n",
    "import matplotlib.pyplot as plt\n",
    "from sklearn.preprocessing import StandardScaler\n",
    "from sklearn.linear_model import LogisticRegression\n",
    "from sklearn.ensemble import RandomForestClassifier\n",
    "from sklearn.metrics import accuracy_score\n",
    "from sklearn.metrics import classification_report\n",
    "from sklearn.model_selection import train_test_split\n",
    "from sklearn.preprocessing import LabelEncoder\n",
    "from sklearn.preprocessing import OneHotEncoder\n",
    "from sklearn.naive_bayes import GaussianNB\n",
    "import seaborn as sns\n",
    "sns.set()"
   ]
  },
  {
   "cell_type": "code",
   "execution_count": 2,
   "metadata": {},
   "outputs": [],
   "source": [
    "#import data\n",
    "\n",
    "data = pd.read_csv('processed_data/fe_data.csv')\n",
    "data_leg = pd.read_csv('processed_data/fe_legsensor_data.csv')\n",
    "data_arm = pd.read_csv('processed_data/fe_armsensor_data.csv')"
   ]
  },
  {
   "cell_type": "code",
   "execution_count": 3,
   "metadata": {},
   "outputs": [],
   "source": [
    "#drop 'index col'\n",
    "data = data.iloc[:,1:]\n",
    "data_leg = data_leg.iloc[:,1:]\n",
    "data_arm = data_arm.iloc[:,1:]"
   ]
  },
  {
   "cell_type": "markdown",
   "metadata": {},
   "source": [
    "# 1. Activity Detection - Machine Learning Approach"
   ]
  },
  {
   "cell_type": "code",
   "execution_count": 4,
   "metadata": {},
   "outputs": [
    {
     "ename": "TypeError",
     "evalue": "Cannot interpret '<attribute 'dtype' of 'numpy.generic' objects>' as a data type",
     "output_type": "error",
     "traceback": [
      "\u001b[1;31m---------------------------------------------------------------------------\u001b[0m",
      "\u001b[1;31mTypeError\u001b[0m                                 Traceback (most recent call last)",
      "\u001b[1;32m<ipython-input-4-6208d269f320>\u001b[0m in \u001b[0;36m<module>\u001b[1;34m\u001b[0m\n\u001b[1;32m----> 1\u001b[1;33m \u001b[0mdata\u001b[0m\u001b[1;33m.\u001b[0m\u001b[0minfo\u001b[0m\u001b[1;33m(\u001b[0m\u001b[1;33m)\u001b[0m\u001b[1;33m\u001b[0m\u001b[1;33m\u001b[0m\u001b[0m\n\u001b[0m",
      "\u001b[1;32m~\\AppData\\Local\\Programs\\Python\\Python37\\lib\\site-packages\\pandas\\core\\frame.py\u001b[0m in \u001b[0;36minfo\u001b[1;34m(self, verbose, buf, max_cols, memory_usage, null_counts)\u001b[0m\n\u001b[0;32m   2495\u001b[0m                 \u001b[1;32mif\u001b[0m \u001b[1;34m\"object\"\u001b[0m \u001b[1;32min\u001b[0m \u001b[0mcounts\u001b[0m \u001b[1;32mor\u001b[0m \u001b[0mself\u001b[0m\u001b[1;33m.\u001b[0m\u001b[0mindex\u001b[0m\u001b[1;33m.\u001b[0m\u001b[0m_is_memory_usage_qualified\u001b[0m\u001b[1;33m(\u001b[0m\u001b[1;33m)\u001b[0m\u001b[1;33m:\u001b[0m\u001b[1;33m\u001b[0m\u001b[1;33m\u001b[0m\u001b[0m\n\u001b[0;32m   2496\u001b[0m                     \u001b[0msize_qualifier\u001b[0m \u001b[1;33m=\u001b[0m \u001b[1;34m\"+\"\u001b[0m\u001b[1;33m\u001b[0m\u001b[1;33m\u001b[0m\u001b[0m\n\u001b[1;32m-> 2497\u001b[1;33m             \u001b[0mmem_usage\u001b[0m \u001b[1;33m=\u001b[0m \u001b[0mself\u001b[0m\u001b[1;33m.\u001b[0m\u001b[0mmemory_usage\u001b[0m\u001b[1;33m(\u001b[0m\u001b[0mindex\u001b[0m\u001b[1;33m=\u001b[0m\u001b[1;32mTrue\u001b[0m\u001b[1;33m,\u001b[0m \u001b[0mdeep\u001b[0m\u001b[1;33m=\u001b[0m\u001b[0mdeep\u001b[0m\u001b[1;33m)\u001b[0m\u001b[1;33m.\u001b[0m\u001b[0msum\u001b[0m\u001b[1;33m(\u001b[0m\u001b[1;33m)\u001b[0m\u001b[1;33m\u001b[0m\u001b[1;33m\u001b[0m\u001b[0m\n\u001b[0m\u001b[0;32m   2498\u001b[0m             \u001b[0mlines\u001b[0m\u001b[1;33m.\u001b[0m\u001b[0mappend\u001b[0m\u001b[1;33m(\u001b[0m\u001b[1;34mf\"memory usage: {_sizeof_fmt(mem_usage, size_qualifier)}\\n\"\u001b[0m\u001b[1;33m)\u001b[0m\u001b[1;33m\u001b[0m\u001b[1;33m\u001b[0m\u001b[0m\n\u001b[0;32m   2499\u001b[0m         \u001b[0mfmt\u001b[0m\u001b[1;33m.\u001b[0m\u001b[0mbuffer_put_lines\u001b[0m\u001b[1;33m(\u001b[0m\u001b[0mbuf\u001b[0m\u001b[1;33m,\u001b[0m \u001b[0mlines\u001b[0m\u001b[1;33m)\u001b[0m\u001b[1;33m\u001b[0m\u001b[1;33m\u001b[0m\u001b[0m\n",
      "\u001b[1;32m~\\AppData\\Local\\Programs\\Python\\Python37\\lib\\site-packages\\pandas\\core\\frame.py\u001b[0m in \u001b[0;36mmemory_usage\u001b[1;34m(self, index, deep)\u001b[0m\n\u001b[0;32m   2588\u001b[0m         )\n\u001b[0;32m   2589\u001b[0m         \u001b[1;32mif\u001b[0m \u001b[0mindex\u001b[0m\u001b[1;33m:\u001b[0m\u001b[1;33m\u001b[0m\u001b[1;33m\u001b[0m\u001b[0m\n\u001b[1;32m-> 2590\u001b[1;33m             result = Series(self.index.memory_usage(deep=deep), index=[\"Index\"]).append(\n\u001b[0m\u001b[0;32m   2591\u001b[0m                 \u001b[0mresult\u001b[0m\u001b[1;33m\u001b[0m\u001b[1;33m\u001b[0m\u001b[0m\n\u001b[0;32m   2592\u001b[0m             )\n",
      "\u001b[1;32m~\\AppData\\Local\\Programs\\Python\\Python37\\lib\\site-packages\\pandas\\core\\series.py\u001b[0m in \u001b[0;36m__init__\u001b[1;34m(self, data, index, dtype, name, copy, fastpath)\u001b[0m\n\u001b[0;32m    303\u001b[0m                     \u001b[0mdata\u001b[0m \u001b[1;33m=\u001b[0m \u001b[0mdata\u001b[0m\u001b[1;33m.\u001b[0m\u001b[0mcopy\u001b[0m\u001b[1;33m(\u001b[0m\u001b[1;33m)\u001b[0m\u001b[1;33m\u001b[0m\u001b[1;33m\u001b[0m\u001b[0m\n\u001b[0;32m    304\u001b[0m             \u001b[1;32melse\u001b[0m\u001b[1;33m:\u001b[0m\u001b[1;33m\u001b[0m\u001b[1;33m\u001b[0m\u001b[0m\n\u001b[1;32m--> 305\u001b[1;33m                 \u001b[0mdata\u001b[0m \u001b[1;33m=\u001b[0m \u001b[0msanitize_array\u001b[0m\u001b[1;33m(\u001b[0m\u001b[0mdata\u001b[0m\u001b[1;33m,\u001b[0m \u001b[0mindex\u001b[0m\u001b[1;33m,\u001b[0m \u001b[0mdtype\u001b[0m\u001b[1;33m,\u001b[0m \u001b[0mcopy\u001b[0m\u001b[1;33m,\u001b[0m \u001b[0mraise_cast_failure\u001b[0m\u001b[1;33m=\u001b[0m\u001b[1;32mTrue\u001b[0m\u001b[1;33m)\u001b[0m\u001b[1;33m\u001b[0m\u001b[1;33m\u001b[0m\u001b[0m\n\u001b[0m\u001b[0;32m    306\u001b[0m \u001b[1;33m\u001b[0m\u001b[0m\n\u001b[0;32m    307\u001b[0m                 \u001b[0mdata\u001b[0m \u001b[1;33m=\u001b[0m \u001b[0mSingleBlockManager\u001b[0m\u001b[1;33m(\u001b[0m\u001b[0mdata\u001b[0m\u001b[1;33m,\u001b[0m \u001b[0mindex\u001b[0m\u001b[1;33m,\u001b[0m \u001b[0mfastpath\u001b[0m\u001b[1;33m=\u001b[0m\u001b[1;32mTrue\u001b[0m\u001b[1;33m)\u001b[0m\u001b[1;33m\u001b[0m\u001b[1;33m\u001b[0m\u001b[0m\n",
      "\u001b[1;32m~\\AppData\\Local\\Programs\\Python\\Python37\\lib\\site-packages\\pandas\\core\\construction.py\u001b[0m in \u001b[0;36msanitize_array\u001b[1;34m(data, index, dtype, copy, raise_cast_failure)\u001b[0m\n\u001b[0;32m    463\u001b[0m                 \u001b[0mvalue\u001b[0m \u001b[1;33m=\u001b[0m \u001b[0mmaybe_cast_to_datetime\u001b[0m\u001b[1;33m(\u001b[0m\u001b[0mvalue\u001b[0m\u001b[1;33m,\u001b[0m \u001b[0mdtype\u001b[0m\u001b[1;33m)\u001b[0m\u001b[1;33m\u001b[0m\u001b[1;33m\u001b[0m\u001b[0m\n\u001b[0;32m    464\u001b[0m \u001b[1;33m\u001b[0m\u001b[0m\n\u001b[1;32m--> 465\u001b[1;33m             \u001b[0msubarr\u001b[0m \u001b[1;33m=\u001b[0m \u001b[0mconstruct_1d_arraylike_from_scalar\u001b[0m\u001b[1;33m(\u001b[0m\u001b[0mvalue\u001b[0m\u001b[1;33m,\u001b[0m \u001b[0mlen\u001b[0m\u001b[1;33m(\u001b[0m\u001b[0mindex\u001b[0m\u001b[1;33m)\u001b[0m\u001b[1;33m,\u001b[0m \u001b[0mdtype\u001b[0m\u001b[1;33m)\u001b[0m\u001b[1;33m\u001b[0m\u001b[1;33m\u001b[0m\u001b[0m\n\u001b[0m\u001b[0;32m    466\u001b[0m \u001b[1;33m\u001b[0m\u001b[0m\n\u001b[0;32m    467\u001b[0m         \u001b[1;32melse\u001b[0m\u001b[1;33m:\u001b[0m\u001b[1;33m\u001b[0m\u001b[1;33m\u001b[0m\u001b[0m\n",
      "\u001b[1;32m~\\AppData\\Local\\Programs\\Python\\Python37\\lib\\site-packages\\pandas\\core\\dtypes\\cast.py\u001b[0m in \u001b[0;36mconstruct_1d_arraylike_from_scalar\u001b[1;34m(value, length, dtype)\u001b[0m\n\u001b[0;32m   1450\u001b[0m                 \u001b[0mvalue\u001b[0m \u001b[1;33m=\u001b[0m \u001b[0mensure_str\u001b[0m\u001b[1;33m(\u001b[0m\u001b[0mvalue\u001b[0m\u001b[1;33m)\u001b[0m\u001b[1;33m\u001b[0m\u001b[1;33m\u001b[0m\u001b[0m\n\u001b[0;32m   1451\u001b[0m \u001b[1;33m\u001b[0m\u001b[0m\n\u001b[1;32m-> 1452\u001b[1;33m         \u001b[0msubarr\u001b[0m \u001b[1;33m=\u001b[0m \u001b[0mnp\u001b[0m\u001b[1;33m.\u001b[0m\u001b[0mempty\u001b[0m\u001b[1;33m(\u001b[0m\u001b[0mlength\u001b[0m\u001b[1;33m,\u001b[0m \u001b[0mdtype\u001b[0m\u001b[1;33m=\u001b[0m\u001b[0mdtype\u001b[0m\u001b[1;33m)\u001b[0m\u001b[1;33m\u001b[0m\u001b[1;33m\u001b[0m\u001b[0m\n\u001b[0m\u001b[0;32m   1453\u001b[0m         \u001b[0msubarr\u001b[0m\u001b[1;33m.\u001b[0m\u001b[0mfill\u001b[0m\u001b[1;33m(\u001b[0m\u001b[0mvalue\u001b[0m\u001b[1;33m)\u001b[0m\u001b[1;33m\u001b[0m\u001b[1;33m\u001b[0m\u001b[0m\n\u001b[0;32m   1454\u001b[0m \u001b[1;33m\u001b[0m\u001b[0m\n",
      "\u001b[1;31mTypeError\u001b[0m: Cannot interpret '<attribute 'dtype' of 'numpy.generic' objects>' as a data type"
     ]
    }
   ],
   "source": [
    "data.info()"
   ]
  },
  {
   "cell_type": "code",
   "execution_count": 5,
   "metadata": {},
   "outputs": [],
   "source": [
    "#whole data\n",
    "X_data = data.drop('activity', axis=1)\n",
    "y_data = data['activity']\n",
    "\n",
    "#leg sensor data\n",
    "X_data_leg = data_leg.drop('activity', axis=1)\n",
    "y_data_leg = data_leg['activity']\n",
    "\n",
    "#arm sensor data\n",
    "X_data_arm = data_arm.drop('activity', axis=1)\n",
    "y_data_arm = data_arm['activity']\n"
   ]
  },
  {
   "cell_type": "code",
   "execution_count": 51,
   "metadata": {},
   "outputs": [],
   "source": [
    "#X_data['sex']"
   ]
  },
  {
   "cell_type": "code",
   "execution_count": 6,
   "metadata": {},
   "outputs": [],
   "source": [
    "#encode sensor postion and sex data\n",
    "sex_encoder = LabelEncoder()\n",
    "sex_encoder.fit(X_data['sex'])\n",
    "X_data['sex'] =  sex_encoder.transform(X_data['sex'])\n",
    "#X_data['sex']\n",
    "#male:1, female:0\n",
    "X_data_leg['sex'] = sex_encoder.transform(X_data_leg['sex'])\n",
    "X_data_arm['sex'] = sex_encoder.transform(X_data_arm['sex'])"
   ]
  },
  {
   "cell_type": "code",
   "execution_count": 53,
   "metadata": {},
   "outputs": [],
   "source": [
    "#X_data['sensor_pos']"
   ]
  },
  {
   "cell_type": "code",
   "execution_count": 7,
   "metadata": {},
   "outputs": [],
   "source": [
    "pos_encoder = LabelEncoder()\n",
    "pos_encoder.fit(X_data['sensor_pos'])\n",
    "X_data['sensor_pos'] = pos_encoder.transform(X_data['sensor_pos'])\n",
    "#X_data['sensor_pos']\n",
    "#leg: 1, arm: 0\n",
    "X_data_leg['sensor_pos'] = pos_encoder.transform(X_data_leg['sensor_pos'])\n",
    "X_data_arm['sensor_pos'] = pos_encoder.transform(X_data_arm['sensor_pos'])"
   ]
  },
  {
   "cell_type": "code",
   "execution_count": 8,
   "metadata": {},
   "outputs": [],
   "source": [
    "#Train - Test Split\n",
    "X_train, X_val, y_train, y_val = train_test_split(X_data, y_data, test_size= 0.2, random_state= 24)\n",
    "X_train_leg, X_val_leg, y_train_leg, y_val_leg = train_test_split(X_data_leg, y_data_leg, test_size= 0.2, random_state= 24)\n",
    "X_train_arm, X_val_arm, y_train_arm, y_val_arm = train_test_split(X_data_arm, y_data_arm, test_size= 0.2, random_state= 24)"
   ]
  },
  {
   "cell_type": "code",
   "execution_count": 9,
   "metadata": {},
   "outputs": [],
   "source": [
    "#standardizing into scaler\n",
    "\n",
    "scaler = StandardScaler()\n",
    "scaler.fit(X_train)\n",
    "X_train_sd = scaler.transform(X_train)\n",
    "X_val_sd = scaler.transform(X_val)\n",
    "\n",
    "X_train_leg_sd = scaler.transform(X_train_leg)\n",
    "X_val_leg_sd = scaler.transform(X_val_leg)\n",
    "\n",
    "X_train_arm_sd = scaler.transform(X_train_arm)\n",
    "X_val_arm_sd = scaler.transform(X_val_arm)"
   ]
  },
  {
   "cell_type": "markdown",
   "metadata": {},
   "source": [
    "# Logistic Regression"
   ]
  },
  {
   "cell_type": "code",
   "execution_count": 10,
   "metadata": {
    "scrolled": true
   },
   "outputs": [
    {
     "name": "stderr",
     "output_type": "stream",
     "text": [
      "C:\\Users\\Dushyant\\AppData\\Local\\Programs\\Python\\Python37\\lib\\site-packages\\sklearn\\linear_model\\_logistic.py:765: ConvergenceWarning: lbfgs failed to converge (status=1):\n",
      "STOP: TOTAL NO. of ITERATIONS REACHED LIMIT.\n",
      "\n",
      "Increase the number of iterations (max_iter) or scale the data as shown in:\n",
      "    https://scikit-learn.org/stable/modules/preprocessing.html\n",
      "Please also refer to the documentation for alternative solver options:\n",
      "    https://scikit-learn.org/stable/modules/linear_model.html#logistic-regression\n",
      "  extra_warning_msg=_LOGISTIC_SOLVER_CONVERGENCE_MSG)\n",
      "C:\\Users\\Dushyant\\AppData\\Local\\Programs\\Python\\Python37\\lib\\site-packages\\sklearn\\linear_model\\_logistic.py:765: ConvergenceWarning: lbfgs failed to converge (status=1):\n",
      "STOP: TOTAL NO. of ITERATIONS REACHED LIMIT.\n",
      "\n",
      "Increase the number of iterations (max_iter) or scale the data as shown in:\n",
      "    https://scikit-learn.org/stable/modules/preprocessing.html\n",
      "Please also refer to the documentation for alternative solver options:\n",
      "    https://scikit-learn.org/stable/modules/linear_model.html#logistic-regression\n",
      "  extra_warning_msg=_LOGISTIC_SOLVER_CONVERGENCE_MSG)\n",
      "C:\\Users\\Dushyant\\AppData\\Local\\Programs\\Python\\Python37\\lib\\site-packages\\sklearn\\linear_model\\_logistic.py:765: ConvergenceWarning: lbfgs failed to converge (status=1):\n",
      "STOP: TOTAL NO. of ITERATIONS REACHED LIMIT.\n",
      "\n",
      "Increase the number of iterations (max_iter) or scale the data as shown in:\n",
      "    https://scikit-learn.org/stable/modules/preprocessing.html\n",
      "Please also refer to the documentation for alternative solver options:\n",
      "    https://scikit-learn.org/stable/modules/linear_model.html#logistic-regression\n",
      "  extra_warning_msg=_LOGISTIC_SOLVER_CONVERGENCE_MSG)\n"
     ]
    },
    {
     "data": {
      "text/plain": [
       "LogisticRegression(random_state=21)"
      ]
     },
     "execution_count": 10,
     "metadata": {},
     "output_type": "execute_result"
    }
   ],
   "source": [
    "#Logistical Regression\n",
    "\n",
    "lr_model = LogisticRegression(random_state=21)\n",
    "lr_model.fit(X_train_sd,y_train)\n",
    "\n",
    "lr_model_leg = LogisticRegression(random_state=21)\n",
    "lr_model_leg.fit(X_train_leg_sd,y_train_leg)\n",
    "\n",
    "lr_model_arm = LogisticRegression(random_state=21)\n",
    "lr_model_arm.fit(X_train_arm_sd,y_train_arm)"
   ]
  },
  {
   "cell_type": "markdown",
   "metadata": {},
   "source": [
    " - LR on whole FE dataset"
   ]
  },
  {
   "cell_type": "code",
   "execution_count": 22,
   "metadata": {},
   "outputs": [
    {
     "name": "stdout",
     "output_type": "stream",
     "text": [
      "LR Training Results: \n",
      "accuracy: 0.9692174290049859\n",
      "              precision    recall  f1-score   support\n",
      "\n",
      "         jog       0.93      0.94      0.94      1151\n",
      "         run       0.94      0.93      0.94      1140\n",
      "       stand       1.00      1.00      1.00      1172\n",
      "        walk       1.00      1.00      1.00      1150\n",
      "\n",
      "    accuracy                           0.97      4613\n",
      "   macro avg       0.97      0.97      0.97      4613\n",
      "weighted avg       0.97      0.97      0.97      4613\n",
      "\n"
     ]
    }
   ],
   "source": [
    "#Train Accuracy\n",
    "y_pred = lr_model.predict(X_train_sd)\n",
    "print(\"LR Training Results: \")\n",
    "print(\"accuracy:\", accuracy_score(y_train, y_pred))\n",
    "print(classification_report(y_train, y_pred))"
   ]
  },
  {
   "cell_type": "code",
   "execution_count": 24,
   "metadata": {},
   "outputs": [
    {
     "name": "stdout",
     "output_type": "stream",
     "text": [
      "LR Validation Results: \n",
      "accuracy: 0.9662045060658578\n",
      "              precision    recall  f1-score   support\n",
      "\n",
      "         jog       0.92      0.95      0.93       277\n",
      "         run       0.95      0.92      0.93       288\n",
      "       stand       1.00      1.00      1.00       311\n",
      "        walk       1.00      1.00      1.00       278\n",
      "\n",
      "    accuracy                           0.97      1154\n",
      "   macro avg       0.97      0.97      0.97      1154\n",
      "weighted avg       0.97      0.97      0.97      1154\n",
      "\n"
     ]
    }
   ],
   "source": [
    "#Validation\n",
    "y_pred = lr_model.predict(X_val_sd)\n",
    "print(\"LR Validation Results: \")\n",
    "print(\"accuracy:\", accuracy_score(y_val, y_pred))\n",
    "print(classification_report(y_val, y_pred))"
   ]
  },
  {
   "cell_type": "markdown",
   "metadata": {},
   "source": [
    "- LR on Leg Sensor FE dataset"
   ]
  },
  {
   "cell_type": "code",
   "execution_count": 26,
   "metadata": {},
   "outputs": [
    {
     "name": "stdout",
     "output_type": "stream",
     "text": [
      "LR Training Results on Leg Sensor: \n",
      "accuracy: 0.9846760070052539\n",
      "              precision    recall  f1-score   support\n",
      "\n",
      "         jog       0.97      0.97      0.97       576\n",
      "         run       0.97      0.97      0.97       563\n",
      "       stand       1.00      1.00      1.00       567\n",
      "        walk       1.00      1.00      1.00       578\n",
      "\n",
      "    accuracy                           0.98      2284\n",
      "   macro avg       0.98      0.98      0.98      2284\n",
      "weighted avg       0.98      0.98      0.98      2284\n",
      "\n"
     ]
    }
   ],
   "source": [
    "y_pred_leg = lr_model_leg.predict(X_train_leg_sd)\n",
    "print(\"LR Training Results on Leg Sensor: \")\n",
    "print(\"accuracy:\", accuracy_score(y_train_leg, y_pred_leg))\n",
    "print(classification_report(y_train_leg, y_pred_leg))"
   ]
  },
  {
   "cell_type": "code",
   "execution_count": 27,
   "metadata": {},
   "outputs": [
    {
     "name": "stdout",
     "output_type": "stream",
     "text": [
      "LR Validation Results on Leg Sensor: \n",
      "accuracy: 0.9842657342657343\n",
      "              precision    recall  f1-score   support\n",
      "\n",
      "         jog       0.96      0.97      0.97       138\n",
      "         run       0.99      0.97      0.98       151\n",
      "       stand       1.00      1.00      1.00       147\n",
      "        walk       0.99      1.00      0.99       136\n",
      "\n",
      "    accuracy                           0.98       572\n",
      "   macro avg       0.98      0.98      0.98       572\n",
      "weighted avg       0.98      0.98      0.98       572\n",
      "\n"
     ]
    }
   ],
   "source": [
    "y_pred_leg = lr_model_leg.predict(X_val_leg_sd)\n",
    "print(\"LR Validation Results on Leg Sensor: \")\n",
    "print(\"accuracy:\", accuracy_score(y_val_leg, y_pred_leg))\n",
    "print(classification_report(y_val_leg, y_pred_leg))"
   ]
  },
  {
   "cell_type": "markdown",
   "metadata": {},
   "source": [
    "- LR on Arm Sensor FE dataset"
   ]
  },
  {
   "cell_type": "code",
   "execution_count": 28,
   "metadata": {},
   "outputs": [
    {
     "name": "stdout",
     "output_type": "stream",
     "text": [
      "LR Training Results on Arm Sensor: \n",
      "accuracy: 0.9845360824742269\n",
      "              precision    recall  f1-score   support\n",
      "\n",
      "         jog       0.96      0.97      0.97       562\n",
      "         run       0.97      0.96      0.97       563\n",
      "       stand       1.00      1.00      1.00       611\n",
      "        walk       1.00      1.00      1.00       592\n",
      "\n",
      "    accuracy                           0.98      2328\n",
      "   macro avg       0.98      0.98      0.98      2328\n",
      "weighted avg       0.98      0.98      0.98      2328\n",
      "\n"
     ]
    }
   ],
   "source": [
    "y_pred_arm = lr_model_arm.predict(X_train_arm_sd)\n",
    "print(\"LR Training Results on Arm Sensor: \")\n",
    "print(\"accuracy:\", accuracy_score(y_train_arm, y_pred_arm))\n",
    "print(classification_report(y_train_arm, y_pred_arm))"
   ]
  },
  {
   "cell_type": "code",
   "execution_count": 29,
   "metadata": {},
   "outputs": [
    {
     "name": "stdout",
     "output_type": "stream",
     "text": [
      "LR Validation Results on Arm Sensor: \n",
      "accuracy: 0.9725557461406518\n",
      "              precision    recall  f1-score   support\n",
      "\n",
      "         jog       0.95      0.95      0.95       152\n",
      "         run       0.95      0.95      0.95       151\n",
      "       stand       1.00      1.00      1.00       158\n",
      "        walk       0.98      1.00      0.99       122\n",
      "\n",
      "    accuracy                           0.97       583\n",
      "   macro avg       0.97      0.97      0.97       583\n",
      "weighted avg       0.97      0.97      0.97       583\n",
      "\n"
     ]
    }
   ],
   "source": [
    "y_pred_arm = lr_model_arm.predict(X_val_arm_sd)\n",
    "print(\"LR Validation Results on Arm Sensor: \")\n",
    "print(\"accuracy:\", accuracy_score(y_val_arm, y_pred_arm))\n",
    "print(classification_report(y_val_arm, y_pred_arm))"
   ]
  },
  {
   "cell_type": "markdown",
   "metadata": {},
   "source": [
    "# Random Forests"
   ]
  },
  {
   "cell_type": "code",
   "execution_count": 14,
   "metadata": {},
   "outputs": [
    {
     "data": {
      "text/plain": [
       "RandomForestClassifier()"
      ]
     },
     "execution_count": 14,
     "metadata": {},
     "output_type": "execute_result"
    }
   ],
   "source": [
    "#Random Forests\n",
    "\n",
    "clf_model = RandomForestClassifier()\n",
    "clf_model.fit(X_train_sd,y_train)\n",
    "\n",
    "clf_model_leg = RandomForestClassifier()\n",
    "clf_model_leg.fit(X_train_leg_sd,y_train_leg)\n",
    "\n",
    "clf_model_arm = RandomForestClassifier()\n",
    "clf_model_arm.fit(X_train_arm_sd,y_train_arm)"
   ]
  },
  {
   "cell_type": "markdown",
   "metadata": {},
   "source": [
    "- LR on whole FE dataset"
   ]
  },
  {
   "cell_type": "code",
   "execution_count": 15,
   "metadata": {},
   "outputs": [
    {
     "name": "stdout",
     "output_type": "stream",
     "text": [
      "              precision    recall  f1-score   support\n",
      "\n",
      "         jog       0.97      0.99      0.98       277\n",
      "         run       0.99      0.98      0.98       288\n",
      "       stand       1.00      1.00      1.00       311\n",
      "        walk       1.00      1.00      1.00       278\n",
      "\n",
      "    accuracy                           0.99      1154\n",
      "   macro avg       0.99      0.99      0.99      1154\n",
      "weighted avg       0.99      0.99      0.99      1154\n",
      "\n"
     ]
    }
   ],
   "source": [
    "y_pred = clf_model.predict(X_val_sd)\n",
    "print(classification_report(y_val, y_pred))"
   ]
  },
  {
   "cell_type": "markdown",
   "metadata": {},
   "source": [
    "- LR on Leg Sensor FE dataset"
   ]
  },
  {
   "cell_type": "code",
   "execution_count": 16,
   "metadata": {},
   "outputs": [
    {
     "name": "stdout",
     "output_type": "stream",
     "text": [
      "              precision    recall  f1-score   support\n",
      "\n",
      "         jog       0.99      0.99      0.99       138\n",
      "         run       0.99      0.99      0.99       151\n",
      "       stand       1.00      1.00      1.00       147\n",
      "        walk       1.00      1.00      1.00       136\n",
      "\n",
      "    accuracy                           0.99       572\n",
      "   macro avg       0.99      0.99      0.99       572\n",
      "weighted avg       0.99      0.99      0.99       572\n",
      "\n"
     ]
    }
   ],
   "source": [
    "y_pred_leg = clf_model_leg.predict(X_val_leg_sd)\n",
    "print(classification_report(y_val_leg, y_pred_leg))"
   ]
  },
  {
   "cell_type": "markdown",
   "metadata": {},
   "source": [
    "- LR on Arm Sensor FE dataset"
   ]
  },
  {
   "cell_type": "code",
   "execution_count": 17,
   "metadata": {},
   "outputs": [
    {
     "name": "stdout",
     "output_type": "stream",
     "text": [
      "              precision    recall  f1-score   support\n",
      "\n",
      "         jog       0.97      0.93      0.95       152\n",
      "         run       0.94      0.97      0.95       151\n",
      "       stand       1.00      1.00      1.00       158\n",
      "        walk       1.00      1.00      1.00       122\n",
      "\n",
      "    accuracy                           0.97       583\n",
      "   macro avg       0.98      0.98      0.98       583\n",
      "weighted avg       0.97      0.97      0.97       583\n",
      "\n"
     ]
    }
   ],
   "source": [
    "y_pred_arm = clf_model_arm.predict(X_val_arm_sd)\n",
    "print(classification_report(y_val_arm, y_pred_arm))"
   ]
  },
  {
   "cell_type": "markdown",
   "metadata": {},
   "source": [
    "# Naive Bayes Model"
   ]
  },
  {
   "cell_type": "code",
   "execution_count": 18,
   "metadata": {},
   "outputs": [
    {
     "data": {
      "text/plain": [
       "GaussianNB()"
      ]
     },
     "execution_count": 18,
     "metadata": {},
     "output_type": "execute_result"
    }
   ],
   "source": [
    "#Whole\n",
    "gnb_model = GaussianNB()\n",
    "gnb_model.fit(X_train_sd, y_train)\n",
    "\n",
    "#Leg Sensor\n",
    "gnb_model_leg = GaussianNB()\n",
    "gnb_model_leg.fit(X_train_leg_sd, y_train_leg)\n",
    "\n",
    "#Arm Sensor\n",
    "gnb_model_arm = GaussianNB()\n",
    "gnb_model_arm.fit(X_train_arm_sd, y_train_arm)"
   ]
  },
  {
   "cell_type": "markdown",
   "metadata": {},
   "source": [
    "- Naive Bayes on whole FE data"
   ]
  },
  {
   "cell_type": "code",
   "execution_count": 19,
   "metadata": {},
   "outputs": [
    {
     "name": "stdout",
     "output_type": "stream",
     "text": [
      "General Naive Bayes score:  0.8665511265164645\n",
      "              precision    recall  f1-score   support\n",
      "\n",
      "         jog       0.70      0.79      0.74       277\n",
      "         run       0.80      0.75      0.77       288\n",
      "       stand       1.00      0.99      1.00       311\n",
      "        walk       0.98      0.92      0.95       278\n",
      "\n",
      "    accuracy                           0.87      1154\n",
      "   macro avg       0.87      0.86      0.87      1154\n",
      "weighted avg       0.87      0.87      0.87      1154\n",
      "\n"
     ]
    }
   ],
   "source": [
    "y_pred = gnb_model.predict(X_val_sd)\n",
    "print(\"General Naive Bayes score: \", gnb_model.score(X_val_sd,y_val))\n",
    "print(classification_report(y_val, y_pred))"
   ]
  },
  {
   "cell_type": "markdown",
   "metadata": {},
   "source": [
    "- Naive Bayes on Leg Sensor FE data"
   ]
  },
  {
   "cell_type": "code",
   "execution_count": 20,
   "metadata": {},
   "outputs": [
    {
     "name": "stdout",
     "output_type": "stream",
     "text": [
      "Leg Naive Bayes score:  0.9405594405594405\n",
      "              precision    recall  f1-score   support\n",
      "\n",
      "         jog       0.88      0.87      0.88       138\n",
      "         run       0.92      0.91      0.92       151\n",
      "       stand       1.00      1.00      1.00       147\n",
      "        walk       0.96      0.98      0.97       136\n",
      "\n",
      "    accuracy                           0.94       572\n",
      "   macro avg       0.94      0.94      0.94       572\n",
      "weighted avg       0.94      0.94      0.94       572\n",
      "\n"
     ]
    }
   ],
   "source": [
    "y_pred_leg = gnb_model_leg.predict(X_val_leg_sd)\n",
    "print(\"Leg Naive Bayes score: \", gnb_model_leg.score(X_val_leg_sd,y_val_leg))\n",
    "print(classification_report(y_val_leg, y_pred_leg))"
   ]
  },
  {
   "cell_type": "markdown",
   "metadata": {},
   "source": [
    "- Naive Bayes on Arm Sensor FE data"
   ]
  },
  {
   "cell_type": "code",
   "execution_count": 21,
   "metadata": {},
   "outputs": [
    {
     "name": "stdout",
     "output_type": "stream",
     "text": [
      "Arm Naive Bayes score:  0.9073756432246999\n",
      "              precision    recall  f1-score   support\n",
      "\n",
      "         jog       0.81      0.84      0.82       152\n",
      "         run       0.83      0.81      0.82       151\n",
      "       stand       1.00      1.00      1.00       158\n",
      "        walk       1.00      1.00      1.00       122\n",
      "\n",
      "    accuracy                           0.91       583\n",
      "   macro avg       0.91      0.91      0.91       583\n",
      "weighted avg       0.91      0.91      0.91       583\n",
      "\n"
     ]
    }
   ],
   "source": [
    "y_pred_arm = gnb_model_arm.predict(X_val_arm_sd)\n",
    "print(\"Arm Naive Bayes score: \", gnb_model_arm.score(X_val_arm_sd,y_val_arm))\n",
    "print(classification_report(y_val_arm, y_pred_arm))"
   ]
  }
 ],
 "metadata": {
  "interpreter": {
   "hash": "6bc2c2825d82c9ce5e1c70e44eb84ffd29d40a8ac35335129b1fa82144e43453"
  },
  "kernelspec": {
   "display_name": "Python 3 (ipykernel)",
   "language": "python",
   "name": "python3"
  },
  "language_info": {
   "codemirror_mode": {
    "name": "ipython",
    "version": 3
   },
   "file_extension": ".py",
   "mimetype": "text/x-python",
   "name": "python",
   "nbconvert_exporter": "python",
   "pygments_lexer": "ipython3",
   "version": "3.7.7"
  }
 },
 "nbformat": 4,
 "nbformat_minor": 2
}
