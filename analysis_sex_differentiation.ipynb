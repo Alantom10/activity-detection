{
 "cells": [
  {
   "cell_type": "code",
   "execution_count": 1,
   "metadata": {},
   "outputs": [],
   "source": [
    "import numpy as np\n",
    "import pandas as pd\n",
    "import matplotlib.pyplot as plt\n",
    "from sklearn.preprocessing import StandardScaler\n",
    "from sklearn.linear_model import LogisticRegression\n",
    "from sklearn.ensemble import RandomForestClassifier\n",
    "from sklearn.metrics import accuracy_score\n",
    "from sklearn.metrics import classification_report\n",
    "from sklearn.model_selection import train_test_split\n",
    "from sklearn.preprocessing import LabelEncoder\n",
    "from sklearn.preprocessing import OneHotEncoder\n",
    "from sklearn.naive_bayes import GaussianNB\n",
    "from sklearn.neighbors import KNeighborsClassifier\n",
    "from sklearn.tree import DecisionTreeClassifier\n",
    "from sklearn import metrics\n",
    "import seaborn as sns\n",
    "sns.set()"
   ]
  },
  {
   "cell_type": "code",
   "execution_count": 2,
   "metadata": {},
   "outputs": [],
   "source": [
    "#import data\n",
    "\n",
    "data = pd.read_csv('processed_data/fe_data.csv')\n",
    "data_leg = pd.read_csv('processed_data/fe_legsensor_data.csv')\n",
    "data_arm = pd.read_csv('processed_data/fe_armsensor_data.csv')"
   ]
  },
  {
   "cell_type": "code",
   "execution_count": 3,
   "metadata": {},
   "outputs": [],
   "source": [
    "#drop 'index col'\n",
    "data = data.iloc[:,1:]\n",
    "data_leg = data_leg.iloc[:,1:]\n",
    "data_arm = data_arm.iloc[:,1:]"
   ]
  },
  {
   "cell_type": "markdown",
   "metadata": {},
   "source": [
    "# 2. Sex Differentiation - Machine Learning Approach"
   ]
  },
  {
   "cell_type": "code",
   "execution_count": 4,
   "metadata": {},
   "outputs": [
    {
     "name": "stdout",
     "output_type": "stream",
     "text": [
      "<class 'pandas.core.frame.DataFrame'>\n",
      "RangeIndex: 5767 entries, 0 to 5766\n",
      "Data columns (total 64 columns):\n",
      " #   Column        Non-Null Count  Dtype  \n",
      "---  ------        --------------  -----  \n",
      " 0   ax_mean       5767 non-null   float64\n",
      " 1   ay_mean       5767 non-null   float64\n",
      " 2   az_mean       5767 non-null   float64\n",
      " 3   aT_mean       5767 non-null   float64\n",
      " 4   ax_ad_mean    5767 non-null   float64\n",
      " 5   ay_ad_mean    5767 non-null   float64\n",
      " 6   az_ad_mean    5767 non-null   float64\n",
      " 7   aT_ad_mean    5767 non-null   float64\n",
      " 8   ax_min        5767 non-null   float64\n",
      " 9   ay_min        5767 non-null   float64\n",
      " 10  az_min        5767 non-null   float64\n",
      " 11  aT_min        5767 non-null   float64\n",
      " 12  ax_max        5767 non-null   float64\n",
      " 13  ay_max        5767 non-null   float64\n",
      " 14  az_max        5767 non-null   float64\n",
      " 15  aT_max        5767 non-null   float64\n",
      " 16  ax_std        5767 non-null   float64\n",
      " 17  ay_std        5767 non-null   float64\n",
      " 18  az_std        5767 non-null   float64\n",
      " 19  aT_std        5767 non-null   float64\n",
      " 20  ax_median     5767 non-null   float64\n",
      " 21  ay_median     5767 non-null   float64\n",
      " 22  az_median     5767 non-null   float64\n",
      " 23  aT_median     5767 non-null   float64\n",
      " 24  ax_ad_median  5767 non-null   float64\n",
      " 25  ay_ad_median  5767 non-null   float64\n",
      " 26  az_ad_median  5767 non-null   float64\n",
      " 27  aT_ad_median  5767 non-null   float64\n",
      " 28  ax_mm_diff    5767 non-null   float64\n",
      " 29  ay_mm_diff    5767 non-null   float64\n",
      " 30  az_mm_diff    5767 non-null   float64\n",
      " 31  aT_mm_diff    5767 non-null   float64\n",
      " 32  ax_iqr        5767 non-null   float64\n",
      " 33  ay_iqr        5767 non-null   float64\n",
      " 34  az_iqr        5767 non-null   float64\n",
      " 35  aT_iqr        5767 non-null   float64\n",
      " 36  ax_pos_count  5767 non-null   int64  \n",
      " 37  ay_pos_count  5767 non-null   int64  \n",
      " 38  az_pos_count  5767 non-null   int64  \n",
      " 39  aT_pos_count  5767 non-null   int64  \n",
      " 40  ax_neg_count  5767 non-null   int64  \n",
      " 41  ay_neg_count  5767 non-null   int64  \n",
      " 42  az_neg_count  5767 non-null   int64  \n",
      " 43  aT_neg_count  5767 non-null   int64  \n",
      " 44  ax_peaks      5767 non-null   int64  \n",
      " 45  ay_peaks      5767 non-null   int64  \n",
      " 46  az_peaks      5767 non-null   int64  \n",
      " 47  aT_peaks      5767 non-null   int64  \n",
      " 48  ax_kurtosis   5767 non-null   float64\n",
      " 49  ay_kurtosis   5767 non-null   float64\n",
      " 50  az_kurtosis   5767 non-null   float64\n",
      " 51  aT_kurtosis   5767 non-null   float64\n",
      " 52  ax_skewness   5767 non-null   float64\n",
      " 53  ay_skewness   5767 non-null   float64\n",
      " 54  az_skewness   5767 non-null   float64\n",
      " 55  aT_skewness   5767 non-null   float64\n",
      " 56  ax_energy     5767 non-null   float64\n",
      " 57  ay_energy     5767 non-null   float64\n",
      " 58  az_energy     5767 non-null   float64\n",
      " 59  aT_energy     5767 non-null   float64\n",
      " 60  id            5767 non-null   int64  \n",
      " 61  sex           5767 non-null   object \n",
      " 62  sensor_pos    5767 non-null   object \n",
      " 63  activity      5767 non-null   object \n",
      "dtypes: float64(48), int64(13), object(3)\n",
      "memory usage: 2.8+ MB\n"
     ]
    }
   ],
   "source": [
    "data.info()"
   ]
  },
  {
   "cell_type": "code",
   "execution_count": 5,
   "metadata": {},
   "outputs": [],
   "source": [
    "#Whole data\n",
    "sd_x_data = data.drop('sex', axis=1)\n",
    "sd_y_data =  data['sex']\n",
    "\n",
    "#Leg data\n",
    "sd_x_data_leg = data_leg.drop('sex', axis=1)\n",
    "sd_y_data_leg =  data_leg['sex']\n",
    "\n",
    "#arm data\n",
    "sd_x_data_arm = data_arm.drop('sex', axis=1)\n",
    "sd_y_data_arm =  data_arm['sex']"
   ]
  },
  {
   "cell_type": "code",
   "execution_count": 6,
   "metadata": {},
   "outputs": [
    {
     "data": {
      "text/html": [
       "<div>\n",
       "<style scoped>\n",
       "    .dataframe tbody tr th:only-of-type {\n",
       "        vertical-align: middle;\n",
       "    }\n",
       "\n",
       "    .dataframe tbody tr th {\n",
       "        vertical-align: top;\n",
       "    }\n",
       "\n",
       "    .dataframe thead th {\n",
       "        text-align: right;\n",
       "    }\n",
       "</style>\n",
       "<table border=\"1\" class=\"dataframe\">\n",
       "  <thead>\n",
       "    <tr style=\"text-align: right;\">\n",
       "      <th></th>\n",
       "      <th>jog</th>\n",
       "      <th>run</th>\n",
       "      <th>stand</th>\n",
       "      <th>walk</th>\n",
       "    </tr>\n",
       "  </thead>\n",
       "  <tbody>\n",
       "    <tr>\n",
       "      <th>0</th>\n",
       "      <td>0.0</td>\n",
       "      <td>0.0</td>\n",
       "      <td>1.0</td>\n",
       "      <td>0.0</td>\n",
       "    </tr>\n",
       "    <tr>\n",
       "      <th>1</th>\n",
       "      <td>0.0</td>\n",
       "      <td>0.0</td>\n",
       "      <td>1.0</td>\n",
       "      <td>0.0</td>\n",
       "    </tr>\n",
       "    <tr>\n",
       "      <th>2</th>\n",
       "      <td>0.0</td>\n",
       "      <td>0.0</td>\n",
       "      <td>1.0</td>\n",
       "      <td>0.0</td>\n",
       "    </tr>\n",
       "    <tr>\n",
       "      <th>3</th>\n",
       "      <td>0.0</td>\n",
       "      <td>0.0</td>\n",
       "      <td>1.0</td>\n",
       "      <td>0.0</td>\n",
       "    </tr>\n",
       "    <tr>\n",
       "      <th>4</th>\n",
       "      <td>0.0</td>\n",
       "      <td>0.0</td>\n",
       "      <td>1.0</td>\n",
       "      <td>0.0</td>\n",
       "    </tr>\n",
       "    <tr>\n",
       "      <th>...</th>\n",
       "      <td>...</td>\n",
       "      <td>...</td>\n",
       "      <td>...</td>\n",
       "      <td>...</td>\n",
       "    </tr>\n",
       "    <tr>\n",
       "      <th>5762</th>\n",
       "      <td>0.0</td>\n",
       "      <td>1.0</td>\n",
       "      <td>0.0</td>\n",
       "      <td>0.0</td>\n",
       "    </tr>\n",
       "    <tr>\n",
       "      <th>5763</th>\n",
       "      <td>0.0</td>\n",
       "      <td>1.0</td>\n",
       "      <td>0.0</td>\n",
       "      <td>0.0</td>\n",
       "    </tr>\n",
       "    <tr>\n",
       "      <th>5764</th>\n",
       "      <td>0.0</td>\n",
       "      <td>1.0</td>\n",
       "      <td>0.0</td>\n",
       "      <td>0.0</td>\n",
       "    </tr>\n",
       "    <tr>\n",
       "      <th>5765</th>\n",
       "      <td>0.0</td>\n",
       "      <td>1.0</td>\n",
       "      <td>0.0</td>\n",
       "      <td>0.0</td>\n",
       "    </tr>\n",
       "    <tr>\n",
       "      <th>5766</th>\n",
       "      <td>0.0</td>\n",
       "      <td>1.0</td>\n",
       "      <td>0.0</td>\n",
       "      <td>0.0</td>\n",
       "    </tr>\n",
       "  </tbody>\n",
       "</table>\n",
       "<p>5767 rows × 4 columns</p>\n",
       "</div>"
      ],
      "text/plain": [
       "      jog  run  stand  walk\n",
       "0     0.0  0.0    1.0   0.0\n",
       "1     0.0  0.0    1.0   0.0\n",
       "2     0.0  0.0    1.0   0.0\n",
       "3     0.0  0.0    1.0   0.0\n",
       "4     0.0  0.0    1.0   0.0\n",
       "...   ...  ...    ...   ...\n",
       "5762  0.0  1.0    0.0   0.0\n",
       "5763  0.0  1.0    0.0   0.0\n",
       "5764  0.0  1.0    0.0   0.0\n",
       "5765  0.0  1.0    0.0   0.0\n",
       "5766  0.0  1.0    0.0   0.0\n",
       "\n",
       "[5767 rows x 4 columns]"
      ]
     },
     "execution_count": 6,
     "metadata": {},
     "output_type": "execute_result"
    }
   ],
   "source": [
    "#one hot encoding for 'activity' data\n",
    "activity_encoder = OneHotEncoder()\n",
    "activity_reshaped = np.array(sd_x_data['activity']).reshape(-1,1)\n",
    "activity_data = activity_encoder.fit_transform(activity_reshaped)\n",
    "\n",
    "activity_df = pd.DataFrame(activity_data.toarray(), columns=['jog', 'run', 'stand', 'walk'])\n",
    "activity_df"
   ]
  },
  {
   "cell_type": "code",
   "execution_count": 7,
   "metadata": {},
   "outputs": [
    {
     "data": {
      "text/html": [
       "<div>\n",
       "<style scoped>\n",
       "    .dataframe tbody tr th:only-of-type {\n",
       "        vertical-align: middle;\n",
       "    }\n",
       "\n",
       "    .dataframe tbody tr th {\n",
       "        vertical-align: top;\n",
       "    }\n",
       "\n",
       "    .dataframe thead th {\n",
       "        text-align: right;\n",
       "    }\n",
       "</style>\n",
       "<table border=\"1\" class=\"dataframe\">\n",
       "  <thead>\n",
       "    <tr style=\"text-align: right;\">\n",
       "      <th></th>\n",
       "      <th>jog</th>\n",
       "      <th>run</th>\n",
       "      <th>stand</th>\n",
       "      <th>walk</th>\n",
       "    </tr>\n",
       "  </thead>\n",
       "  <tbody>\n",
       "    <tr>\n",
       "      <th>0</th>\n",
       "      <td>0.0</td>\n",
       "      <td>0.0</td>\n",
       "      <td>1.0</td>\n",
       "      <td>0.0</td>\n",
       "    </tr>\n",
       "    <tr>\n",
       "      <th>1</th>\n",
       "      <td>0.0</td>\n",
       "      <td>0.0</td>\n",
       "      <td>1.0</td>\n",
       "      <td>0.0</td>\n",
       "    </tr>\n",
       "    <tr>\n",
       "      <th>2</th>\n",
       "      <td>0.0</td>\n",
       "      <td>0.0</td>\n",
       "      <td>1.0</td>\n",
       "      <td>0.0</td>\n",
       "    </tr>\n",
       "    <tr>\n",
       "      <th>3</th>\n",
       "      <td>0.0</td>\n",
       "      <td>0.0</td>\n",
       "      <td>1.0</td>\n",
       "      <td>0.0</td>\n",
       "    </tr>\n",
       "    <tr>\n",
       "      <th>4</th>\n",
       "      <td>0.0</td>\n",
       "      <td>0.0</td>\n",
       "      <td>1.0</td>\n",
       "      <td>0.0</td>\n",
       "    </tr>\n",
       "    <tr>\n",
       "      <th>...</th>\n",
       "      <td>...</td>\n",
       "      <td>...</td>\n",
       "      <td>...</td>\n",
       "      <td>...</td>\n",
       "    </tr>\n",
       "    <tr>\n",
       "      <th>2851</th>\n",
       "      <td>0.0</td>\n",
       "      <td>1.0</td>\n",
       "      <td>0.0</td>\n",
       "      <td>0.0</td>\n",
       "    </tr>\n",
       "    <tr>\n",
       "      <th>2852</th>\n",
       "      <td>0.0</td>\n",
       "      <td>1.0</td>\n",
       "      <td>0.0</td>\n",
       "      <td>0.0</td>\n",
       "    </tr>\n",
       "    <tr>\n",
       "      <th>2853</th>\n",
       "      <td>0.0</td>\n",
       "      <td>1.0</td>\n",
       "      <td>0.0</td>\n",
       "      <td>0.0</td>\n",
       "    </tr>\n",
       "    <tr>\n",
       "      <th>2854</th>\n",
       "      <td>0.0</td>\n",
       "      <td>1.0</td>\n",
       "      <td>0.0</td>\n",
       "      <td>0.0</td>\n",
       "    </tr>\n",
       "    <tr>\n",
       "      <th>2855</th>\n",
       "      <td>0.0</td>\n",
       "      <td>1.0</td>\n",
       "      <td>0.0</td>\n",
       "      <td>0.0</td>\n",
       "    </tr>\n",
       "  </tbody>\n",
       "</table>\n",
       "<p>2856 rows × 4 columns</p>\n",
       "</div>"
      ],
      "text/plain": [
       "      jog  run  stand  walk\n",
       "0     0.0  0.0    1.0   0.0\n",
       "1     0.0  0.0    1.0   0.0\n",
       "2     0.0  0.0    1.0   0.0\n",
       "3     0.0  0.0    1.0   0.0\n",
       "4     0.0  0.0    1.0   0.0\n",
       "...   ...  ...    ...   ...\n",
       "2851  0.0  1.0    0.0   0.0\n",
       "2852  0.0  1.0    0.0   0.0\n",
       "2853  0.0  1.0    0.0   0.0\n",
       "2854  0.0  1.0    0.0   0.0\n",
       "2855  0.0  1.0    0.0   0.0\n",
       "\n",
       "[2856 rows x 4 columns]"
      ]
     },
     "execution_count": 7,
     "metadata": {},
     "output_type": "execute_result"
    }
   ],
   "source": [
    "#one hot encoding-> leg sensor data\n",
    "activity_reshaped_leg = np.array(sd_x_data_leg['activity']).reshape(-1,1)\n",
    "activity_data_leg = activity_encoder.fit_transform(activity_reshaped_leg)\n",
    "activity_df_leg = pd.DataFrame(activity_data_leg.toarray(), columns=['jog', 'run', 'stand', 'walk'])\n",
    "activity_df_leg"
   ]
  },
  {
   "cell_type": "code",
   "execution_count": 8,
   "metadata": {},
   "outputs": [
    {
     "data": {
      "text/html": [
       "<div>\n",
       "<style scoped>\n",
       "    .dataframe tbody tr th:only-of-type {\n",
       "        vertical-align: middle;\n",
       "    }\n",
       "\n",
       "    .dataframe tbody tr th {\n",
       "        vertical-align: top;\n",
       "    }\n",
       "\n",
       "    .dataframe thead th {\n",
       "        text-align: right;\n",
       "    }\n",
       "</style>\n",
       "<table border=\"1\" class=\"dataframe\">\n",
       "  <thead>\n",
       "    <tr style=\"text-align: right;\">\n",
       "      <th></th>\n",
       "      <th>jog</th>\n",
       "      <th>run</th>\n",
       "      <th>stand</th>\n",
       "      <th>walk</th>\n",
       "    </tr>\n",
       "  </thead>\n",
       "  <tbody>\n",
       "    <tr>\n",
       "      <th>0</th>\n",
       "      <td>0.0</td>\n",
       "      <td>0.0</td>\n",
       "      <td>1.0</td>\n",
       "      <td>0.0</td>\n",
       "    </tr>\n",
       "    <tr>\n",
       "      <th>1</th>\n",
       "      <td>0.0</td>\n",
       "      <td>0.0</td>\n",
       "      <td>1.0</td>\n",
       "      <td>0.0</td>\n",
       "    </tr>\n",
       "    <tr>\n",
       "      <th>2</th>\n",
       "      <td>0.0</td>\n",
       "      <td>0.0</td>\n",
       "      <td>1.0</td>\n",
       "      <td>0.0</td>\n",
       "    </tr>\n",
       "    <tr>\n",
       "      <th>3</th>\n",
       "      <td>0.0</td>\n",
       "      <td>0.0</td>\n",
       "      <td>1.0</td>\n",
       "      <td>0.0</td>\n",
       "    </tr>\n",
       "    <tr>\n",
       "      <th>4</th>\n",
       "      <td>0.0</td>\n",
       "      <td>0.0</td>\n",
       "      <td>1.0</td>\n",
       "      <td>0.0</td>\n",
       "    </tr>\n",
       "    <tr>\n",
       "      <th>...</th>\n",
       "      <td>...</td>\n",
       "      <td>...</td>\n",
       "      <td>...</td>\n",
       "      <td>...</td>\n",
       "    </tr>\n",
       "    <tr>\n",
       "      <th>2906</th>\n",
       "      <td>0.0</td>\n",
       "      <td>1.0</td>\n",
       "      <td>0.0</td>\n",
       "      <td>0.0</td>\n",
       "    </tr>\n",
       "    <tr>\n",
       "      <th>2907</th>\n",
       "      <td>0.0</td>\n",
       "      <td>1.0</td>\n",
       "      <td>0.0</td>\n",
       "      <td>0.0</td>\n",
       "    </tr>\n",
       "    <tr>\n",
       "      <th>2908</th>\n",
       "      <td>0.0</td>\n",
       "      <td>1.0</td>\n",
       "      <td>0.0</td>\n",
       "      <td>0.0</td>\n",
       "    </tr>\n",
       "    <tr>\n",
       "      <th>2909</th>\n",
       "      <td>0.0</td>\n",
       "      <td>1.0</td>\n",
       "      <td>0.0</td>\n",
       "      <td>0.0</td>\n",
       "    </tr>\n",
       "    <tr>\n",
       "      <th>2910</th>\n",
       "      <td>0.0</td>\n",
       "      <td>1.0</td>\n",
       "      <td>0.0</td>\n",
       "      <td>0.0</td>\n",
       "    </tr>\n",
       "  </tbody>\n",
       "</table>\n",
       "<p>2911 rows × 4 columns</p>\n",
       "</div>"
      ],
      "text/plain": [
       "      jog  run  stand  walk\n",
       "0     0.0  0.0    1.0   0.0\n",
       "1     0.0  0.0    1.0   0.0\n",
       "2     0.0  0.0    1.0   0.0\n",
       "3     0.0  0.0    1.0   0.0\n",
       "4     0.0  0.0    1.0   0.0\n",
       "...   ...  ...    ...   ...\n",
       "2906  0.0  1.0    0.0   0.0\n",
       "2907  0.0  1.0    0.0   0.0\n",
       "2908  0.0  1.0    0.0   0.0\n",
       "2909  0.0  1.0    0.0   0.0\n",
       "2910  0.0  1.0    0.0   0.0\n",
       "\n",
       "[2911 rows x 4 columns]"
      ]
     },
     "execution_count": 8,
     "metadata": {},
     "output_type": "execute_result"
    }
   ],
   "source": [
    "#one hot encoding-> arm sensor data\n",
    "activity_reshaped_arm = np.array(sd_x_data_arm['activity']).reshape(-1,1)\n",
    "activity_data_arm = activity_encoder.fit_transform(activity_reshaped_arm)\n",
    "activity_df_arm = pd.DataFrame(activity_data_arm.toarray(), columns=['jog', 'run', 'stand', 'walk'])\n",
    "activity_df_arm"
   ]
  },
  {
   "cell_type": "code",
   "execution_count": 9,
   "metadata": {},
   "outputs": [],
   "source": [
    "sd_x_data = sd_x_data.drop('activity', axis=1)\n",
    "sd_x_data = pd.concat([sd_x_data,activity_df], axis=1)\n",
    "\n",
    "sd_x_data_leg = sd_x_data_leg.drop('activity', axis=1)\n",
    "sd_x_data_leg = pd.concat([sd_x_data_leg,activity_df_leg], axis=1)\n",
    "\n",
    "sd_x_data_arm = sd_x_data_arm.drop('activity', axis=1)\n",
    "sd_x_data_arm = pd.concat([sd_x_data_arm,activity_df_arm], axis=1)"
   ]
  },
  {
   "cell_type": "code",
   "execution_count": 10,
   "metadata": {},
   "outputs": [
    {
     "data": {
      "text/plain": [
       "LabelEncoder()"
      ]
     },
     "execution_count": 10,
     "metadata": {},
     "output_type": "execute_result"
    }
   ],
   "source": [
    "pos_encoder = LabelEncoder()\n",
    "pos_encoder.fit(sd_x_data['sensor_pos'])"
   ]
  },
  {
   "cell_type": "code",
   "execution_count": 11,
   "metadata": {},
   "outputs": [],
   "source": [
    "#sensor encoding\n",
    "sd_x_data['sensor_pos'] = pos_encoder.transform(sd_x_data['sensor_pos'])\n",
    "\n",
    "sd_x_data_leg['sensor_pos'] = pos_encoder.transform(sd_x_data_leg['sensor_pos'])\n",
    "\n",
    "sd_x_data_arm['sensor_pos'] = pos_encoder.transform(sd_x_data_arm['sensor_pos'])"
   ]
  },
  {
   "cell_type": "code",
   "execution_count": 12,
   "metadata": {},
   "outputs": [],
   "source": [
    "sd_x_data = sd_x_data.drop('id', axis=1)\n",
    "sd_x_data_leg = sd_x_data_leg.drop('id', axis=1)\n",
    "sd_x_data_arm = sd_x_data_arm.drop('id', axis=1)"
   ]
  },
  {
   "cell_type": "code",
   "execution_count": 13,
   "metadata": {},
   "outputs": [],
   "source": [
    "X_train, X_val, y_train, y_val = train_test_split(sd_x_data, sd_y_data, test_size= 0.2, random_state= 24)\n",
    "X_train_leg, X_val_leg, y_train_leg, y_val_leg = train_test_split(sd_x_data_leg, sd_y_data_leg, test_size= 0.2, random_state= 24)\n",
    "X_train_arm, X_val_arm, y_train_arm, y_val_arm = train_test_split(sd_x_data_arm, sd_y_data_arm, test_size= 0.2, random_state= 24)"
   ]
  },
  {
   "cell_type": "code",
   "execution_count": 14,
   "metadata": {},
   "outputs": [],
   "source": [
    "#standardizing into scaler\n",
    "\n",
    "scaler = StandardScaler()\n",
    "scaler.fit(X_train)\n",
    "X_train_sd = scaler.transform(X_train)\n",
    "X_val_sd = scaler.transform(X_val)\n",
    "\n",
    "X_train_leg_sd = scaler.transform(X_train_leg)\n",
    "X_val_leg_sd = scaler.transform(X_val_leg)\n",
    "\n",
    "X_train_arm_sd = scaler.transform(X_train_arm)\n",
    "X_val_arm_sd = scaler.transform(X_val_arm)"
   ]
  },
  {
   "cell_type": "markdown",
   "metadata": {},
   "source": [
    "# Logistic Regression"
   ]
  },
  {
   "cell_type": "code",
   "execution_count": 15,
   "metadata": {},
   "outputs": [
    {
     "name": "stderr",
     "output_type": "stream",
     "text": [
      "C:\\Users\\actho\\anaconda3\\lib\\site-packages\\sklearn\\linear_model\\_logistic.py:763: ConvergenceWarning: lbfgs failed to converge (status=1):\n",
      "STOP: TOTAL NO. of ITERATIONS REACHED LIMIT.\n",
      "\n",
      "Increase the number of iterations (max_iter) or scale the data as shown in:\n",
      "    https://scikit-learn.org/stable/modules/preprocessing.html\n",
      "Please also refer to the documentation for alternative solver options:\n",
      "    https://scikit-learn.org/stable/modules/linear_model.html#logistic-regression\n",
      "  n_iter_i = _check_optimize_result(\n",
      "C:\\Users\\actho\\anaconda3\\lib\\site-packages\\sklearn\\linear_model\\_logistic.py:763: ConvergenceWarning: lbfgs failed to converge (status=1):\n",
      "STOP: TOTAL NO. of ITERATIONS REACHED LIMIT.\n",
      "\n",
      "Increase the number of iterations (max_iter) or scale the data as shown in:\n",
      "    https://scikit-learn.org/stable/modules/preprocessing.html\n",
      "Please also refer to the documentation for alternative solver options:\n",
      "    https://scikit-learn.org/stable/modules/linear_model.html#logistic-regression\n",
      "  n_iter_i = _check_optimize_result(\n",
      "C:\\Users\\actho\\anaconda3\\lib\\site-packages\\sklearn\\linear_model\\_logistic.py:763: ConvergenceWarning: lbfgs failed to converge (status=1):\n",
      "STOP: TOTAL NO. of ITERATIONS REACHED LIMIT.\n",
      "\n",
      "Increase the number of iterations (max_iter) or scale the data as shown in:\n",
      "    https://scikit-learn.org/stable/modules/preprocessing.html\n",
      "Please also refer to the documentation for alternative solver options:\n",
      "    https://scikit-learn.org/stable/modules/linear_model.html#logistic-regression\n",
      "  n_iter_i = _check_optimize_result(\n"
     ]
    },
    {
     "data": {
      "text/plain": [
       "LogisticRegression(random_state=21)"
      ]
     },
     "execution_count": 15,
     "metadata": {},
     "output_type": "execute_result"
    }
   ],
   "source": [
    "#Logistical Regression\n",
    "\n",
    "lr_model = LogisticRegression(random_state=21)\n",
    "lr_model.fit(X_train_sd,y_train)\n",
    "\n",
    "lr_model_leg = LogisticRegression(random_state=21)\n",
    "lr_model_leg.fit(X_train_leg_sd,y_train_leg)\n",
    "\n",
    "lr_model_arm = LogisticRegression(random_state=21)\n",
    "lr_model_arm.fit(X_train_arm_sd,y_train_arm)"
   ]
  },
  {
   "cell_type": "markdown",
   "metadata": {},
   "source": [
    " - LR on whole FE dataset"
   ]
  },
  {
   "cell_type": "code",
   "execution_count": 16,
   "metadata": {},
   "outputs": [
    {
     "name": "stdout",
     "output_type": "stream",
     "text": [
      "accuracy: 0.6802426343154246\n",
      "              precision    recall  f1-score   support\n",
      "\n",
      "           F       0.68      0.68      0.68       572\n",
      "           M       0.68      0.68      0.68       582\n",
      "\n",
      "    accuracy                           0.68      1154\n",
      "   macro avg       0.68      0.68      0.68      1154\n",
      "weighted avg       0.68      0.68      0.68      1154\n",
      "\n"
     ]
    }
   ],
   "source": [
    "y_pred = lr_model.predict(X_val_sd)\n",
    "print(\"accuracy:\", accuracy_score(y_val, y_pred))\n",
    "print(classification_report(y_val, y_pred))"
   ]
  },
  {
   "cell_type": "markdown",
   "metadata": {},
   "source": [
    " - LR on Leg Sensor FE dataset"
   ]
  },
  {
   "cell_type": "code",
   "execution_count": 17,
   "metadata": {},
   "outputs": [
    {
     "name": "stdout",
     "output_type": "stream",
     "text": [
      "accuracy: 0.8216783216783217\n",
      "              precision    recall  f1-score   support\n",
      "\n",
      "           F       0.81      0.83      0.82       282\n",
      "           M       0.83      0.81      0.82       290\n",
      "\n",
      "    accuracy                           0.82       572\n",
      "   macro avg       0.82      0.82      0.82       572\n",
      "weighted avg       0.82      0.82      0.82       572\n",
      "\n"
     ]
    }
   ],
   "source": [
    "#leg\n",
    "y_pred_leg = lr_model_leg.predict(X_val_leg_sd)\n",
    "print(\"accuracy:\", accuracy_score(y_val_leg, y_pred_leg))\n",
    "print(classification_report(y_val_leg, y_pred_leg))"
   ]
  },
  {
   "cell_type": "markdown",
   "metadata": {},
   "source": [
    " - LR on Arm Sensor FE dataset"
   ]
  },
  {
   "cell_type": "code",
   "execution_count": 18,
   "metadata": {},
   "outputs": [
    {
     "name": "stdout",
     "output_type": "stream",
     "text": [
      "accuracy: 0.7375643224699828\n",
      "              precision    recall  f1-score   support\n",
      "\n",
      "           F       0.74      0.72      0.73       288\n",
      "           M       0.73      0.76      0.75       295\n",
      "\n",
      "    accuracy                           0.74       583\n",
      "   macro avg       0.74      0.74      0.74       583\n",
      "weighted avg       0.74      0.74      0.74       583\n",
      "\n"
     ]
    }
   ],
   "source": [
    "#arm\n",
    "y_pred_arm = lr_model_arm.predict(X_val_arm_sd)\n",
    "print(\"accuracy:\", accuracy_score(y_val_arm, y_pred_arm))\n",
    "print(classification_report(y_val_arm, y_pred_arm))"
   ]
  },
  {
   "cell_type": "markdown",
   "metadata": {},
   "source": [
    "# Random Forests"
   ]
  },
  {
   "cell_type": "code",
   "execution_count": 19,
   "metadata": {},
   "outputs": [
    {
     "data": {
      "text/plain": [
       "RandomForestClassifier()"
      ]
     },
     "execution_count": 19,
     "metadata": {},
     "output_type": "execute_result"
    }
   ],
   "source": [
    "#Random Forests\n",
    "\n",
    "clf_model = RandomForestClassifier()\n",
    "clf_model.fit(X_train_sd,y_train)\n",
    "\n",
    "clf_model_leg = RandomForestClassifier()\n",
    "clf_model_leg.fit(X_train_leg_sd,y_train_leg)\n",
    "\n",
    "clf_model_arm = RandomForestClassifier()\n",
    "clf_model_arm.fit(X_train_arm_sd,y_train_arm)"
   ]
  },
  {
   "cell_type": "markdown",
   "metadata": {},
   "source": [
    " - LR on whole FE dataset"
   ]
  },
  {
   "cell_type": "code",
   "execution_count": 20,
   "metadata": {},
   "outputs": [
    {
     "name": "stdout",
     "output_type": "stream",
     "text": [
      "accuracy: 0.9376083188908145\n",
      "              precision    recall  f1-score   support\n",
      "\n",
      "           F       0.93      0.94      0.94       572\n",
      "           M       0.94      0.93      0.94       582\n",
      "\n",
      "    accuracy                           0.94      1154\n",
      "   macro avg       0.94      0.94      0.94      1154\n",
      "weighted avg       0.94      0.94      0.94      1154\n",
      "\n"
     ]
    }
   ],
   "source": [
    "y_pred = clf_model.predict(X_val_sd)\n",
    "print(\"accuracy:\", accuracy_score(y_val, y_pred))\n",
    "print(classification_report(y_val, y_pred))"
   ]
  },
  {
   "cell_type": "markdown",
   "metadata": {},
   "source": [
    " - LR on Leg Sensor FE dataset"
   ]
  },
  {
   "cell_type": "code",
   "execution_count": 21,
   "metadata": {},
   "outputs": [
    {
     "name": "stdout",
     "output_type": "stream",
     "text": [
      "accuracy: 0.9545454545454546\n",
      "              precision    recall  f1-score   support\n",
      "\n",
      "           F       0.95      0.96      0.95       282\n",
      "           M       0.96      0.95      0.95       290\n",
      "\n",
      "    accuracy                           0.95       572\n",
      "   macro avg       0.95      0.95      0.95       572\n",
      "weighted avg       0.95      0.95      0.95       572\n",
      "\n"
     ]
    }
   ],
   "source": [
    "#leg\n",
    "y_pred_leg = clf_model_leg.predict(X_val_leg_sd)\n",
    "print(\"accuracy:\", accuracy_score(y_val_leg, y_pred_leg))\n",
    "print(classification_report(y_val_leg, y_pred_leg))"
   ]
  },
  {
   "cell_type": "markdown",
   "metadata": {},
   "source": [
    " - LR on Arm Sensor FE dataset"
   ]
  },
  {
   "cell_type": "code",
   "execution_count": 22,
   "metadata": {},
   "outputs": [
    {
     "name": "stdout",
     "output_type": "stream",
     "text": [
      "accuracy: 0.9210977701543739\n",
      "              precision    recall  f1-score   support\n",
      "\n",
      "           F       0.90      0.95      0.92       288\n",
      "           M       0.95      0.89      0.92       295\n",
      "\n",
      "    accuracy                           0.92       583\n",
      "   macro avg       0.92      0.92      0.92       583\n",
      "weighted avg       0.92      0.92      0.92       583\n",
      "\n"
     ]
    }
   ],
   "source": [
    "#arm\n",
    "y_pred_arm = clf_model_arm.predict(X_val_arm_sd)\n",
    "print(\"accuracy:\", accuracy_score(y_val_arm, y_pred_arm))\n",
    "print(classification_report(y_val_arm, y_pred_arm))"
   ]
  },
  {
   "cell_type": "markdown",
   "metadata": {},
   "source": [
    "# Naive Bayes Model"
   ]
  },
  {
   "cell_type": "code",
   "execution_count": 23,
   "metadata": {},
   "outputs": [
    {
     "data": {
      "text/plain": [
       "GaussianNB()"
      ]
     },
     "execution_count": 23,
     "metadata": {},
     "output_type": "execute_result"
    }
   ],
   "source": [
    "#Naive Bayes\n",
    "gnb_model = GaussianNB()\n",
    "gnb_model.fit(X_train_sd, y_train)\n",
    "\n",
    "gnb_model_leg = GaussianNB()\n",
    "gnb_model_leg.fit(X_train_leg_sd, y_train_leg)\n",
    "\n",
    "gnb_model_arm = GaussianNB()\n",
    "gnb_model_arm.fit(X_train_arm_sd, y_train_arm)"
   ]
  },
  {
   "cell_type": "markdown",
   "metadata": {},
   "source": [
    "- Naive Bayes on whole FE data"
   ]
  },
  {
   "cell_type": "code",
   "execution_count": 24,
   "metadata": {},
   "outputs": [
    {
     "name": "stdout",
     "output_type": "stream",
     "text": [
      "accuracy: 0.6091854419410745\n",
      "              precision    recall  f1-score   support\n",
      "\n",
      "           F       0.66      0.43      0.52       572\n",
      "           M       0.58      0.79      0.67       582\n",
      "\n",
      "    accuracy                           0.61      1154\n",
      "   macro avg       0.62      0.61      0.60      1154\n",
      "weighted avg       0.62      0.61      0.60      1154\n",
      "\n"
     ]
    }
   ],
   "source": [
    "y_pred = gnb_model.predict(X_val_sd)\n",
    "print(\"accuracy:\", accuracy_score(y_val, y_pred))\n",
    "print(classification_report(y_val, y_pred))"
   ]
  },
  {
   "cell_type": "markdown",
   "metadata": {},
   "source": [
    "- Naive Bayes on leg sensor FE data"
   ]
  },
  {
   "cell_type": "code",
   "execution_count": 25,
   "metadata": {},
   "outputs": [
    {
     "name": "stdout",
     "output_type": "stream",
     "text": [
      "accuracy: 0.7272727272727273\n",
      "              precision    recall  f1-score   support\n",
      "\n",
      "           F       0.76      0.65      0.70       282\n",
      "           M       0.70      0.80      0.75       290\n",
      "\n",
      "    accuracy                           0.73       572\n",
      "   macro avg       0.73      0.73      0.73       572\n",
      "weighted avg       0.73      0.73      0.73       572\n",
      "\n"
     ]
    }
   ],
   "source": [
    "y_pred_leg = gnb_model_leg.predict(X_val_leg_sd)\n",
    "print(\"accuracy:\", accuracy_score(y_val_leg, y_pred_leg))\n",
    "print(classification_report(y_val_leg, y_pred_leg))"
   ]
  },
  {
   "cell_type": "markdown",
   "metadata": {},
   "source": [
    "- Naive Bayes on arm sensor FE data"
   ]
  },
  {
   "cell_type": "code",
   "execution_count": 26,
   "metadata": {},
   "outputs": [
    {
     "name": "stdout",
     "output_type": "stream",
     "text": [
      "accuracy: 0.6174957118353345\n",
      "              precision    recall  f1-score   support\n",
      "\n",
      "           F       0.68      0.42      0.52       288\n",
      "           M       0.59      0.81      0.68       295\n",
      "\n",
      "    accuracy                           0.62       583\n",
      "   macro avg       0.64      0.62      0.60       583\n",
      "weighted avg       0.64      0.62      0.60       583\n",
      "\n"
     ]
    }
   ],
   "source": [
    "y_pred_arm = gnb_model_arm.predict(X_val_arm_sd)\n",
    "print(\"accuracy:\", accuracy_score(y_val_arm, y_pred_arm))\n",
    "print(classification_report(y_val_arm, y_pred_arm))"
   ]
  },
  {
   "cell_type": "markdown",
   "metadata": {},
   "source": [
    "# KNN Model"
   ]
  },
  {
   "cell_type": "code",
   "execution_count": 27,
   "metadata": {},
   "outputs": [
    {
     "data": {
      "text/plain": [
       "KNeighborsClassifier()"
      ]
     },
     "execution_count": 27,
     "metadata": {},
     "output_type": "execute_result"
    }
   ],
   "source": [
    "knn_model = KNeighborsClassifier()\n",
    "knn_model.fit(X_train_sd,y_train)\n",
    "\n",
    "knn_model_leg = KNeighborsClassifier()\n",
    "knn_model_leg.fit(X_train_leg_sd,y_train_leg)\n",
    "\n",
    "knn_model_arm = KNeighborsClassifier()\n",
    "knn_model_arm.fit(X_train_arm_sd,y_train_arm)"
   ]
  },
  {
   "cell_type": "markdown",
   "metadata": {},
   "source": [
    "- KNN on whole FE data"
   ]
  },
  {
   "cell_type": "code",
   "execution_count": 28,
   "metadata": {},
   "outputs": [
    {
     "name": "stdout",
     "output_type": "stream",
     "text": [
      "accuracy: 0.854419410745234\n",
      "              precision    recall  f1-score   support\n",
      "\n",
      "           F       0.86      0.84      0.85       572\n",
      "           M       0.85      0.87      0.86       582\n",
      "\n",
      "    accuracy                           0.85      1154\n",
      "   macro avg       0.85      0.85      0.85      1154\n",
      "weighted avg       0.85      0.85      0.85      1154\n",
      "\n"
     ]
    }
   ],
   "source": [
    "y_pred = knn_model.predict(X_val_sd)\n",
    "print(\"accuracy:\", accuracy_score(y_val, y_pred))\n",
    "print(classification_report(y_val, y_pred))"
   ]
  },
  {
   "cell_type": "markdown",
   "metadata": {},
   "source": [
    "- KNN on Leg Sensor FE data"
   ]
  },
  {
   "cell_type": "code",
   "execution_count": 29,
   "metadata": {},
   "outputs": [
    {
     "name": "stdout",
     "output_type": "stream",
     "text": [
      "accuracy: 0.9020979020979021\n",
      "              precision    recall  f1-score   support\n",
      "\n",
      "           F       0.88      0.93      0.90       282\n",
      "           M       0.92      0.88      0.90       290\n",
      "\n",
      "    accuracy                           0.90       572\n",
      "   macro avg       0.90      0.90      0.90       572\n",
      "weighted avg       0.90      0.90      0.90       572\n",
      "\n"
     ]
    }
   ],
   "source": [
    "y_pred_leg = knn_model_leg.predict(X_val_leg_sd)\n",
    "print(\"accuracy:\", accuracy_score(y_val_leg, y_pred_leg))\n",
    "print(classification_report(y_val_leg, y_pred_leg))"
   ]
  },
  {
   "cell_type": "markdown",
   "metadata": {},
   "source": [
    "- KNN on Arm Sensor FE data"
   ]
  },
  {
   "cell_type": "code",
   "execution_count": 30,
   "metadata": {},
   "outputs": [
    {
     "name": "stdout",
     "output_type": "stream",
     "text": [
      "accuracy: 0.8319039451114922\n",
      "              precision    recall  f1-score   support\n",
      "\n",
      "           F       0.83      0.82      0.83       288\n",
      "           M       0.83      0.84      0.84       295\n",
      "\n",
      "    accuracy                           0.83       583\n",
      "   macro avg       0.83      0.83      0.83       583\n",
      "weighted avg       0.83      0.83      0.83       583\n",
      "\n"
     ]
    }
   ],
   "source": [
    "y_pred_arm = knn_model_arm.predict(X_val_arm_sd)\n",
    "print(\"accuracy:\", accuracy_score(y_val_arm, y_pred_arm))\n",
    "print(classification_report(y_val_arm, y_pred_arm))"
   ]
  },
  {
   "cell_type": "markdown",
   "metadata": {},
   "source": [
    "# Decision Tree Model"
   ]
  },
  {
   "cell_type": "code",
   "execution_count": 31,
   "metadata": {},
   "outputs": [
    {
     "data": {
      "text/plain": [
       "DecisionTreeClassifier()"
      ]
     },
     "execution_count": 31,
     "metadata": {},
     "output_type": "execute_result"
    }
   ],
   "source": [
    "clf_model = DecisionTreeClassifier()\n",
    "clf_model.fit(X_train_sd,y_train)\n",
    "\n",
    "clf_model_leg = DecisionTreeClassifier()\n",
    "clf_model_leg.fit(X_train_leg_sd,y_train_leg)\n",
    "\n",
    "clf_model_arm = DecisionTreeClassifier()\n",
    "clf_model_arm.fit(X_train_arm_sd,y_train_arm)"
   ]
  },
  {
   "cell_type": "markdown",
   "metadata": {},
   "source": [
    "- Decision Tree on whole FE data"
   ]
  },
  {
   "cell_type": "code",
   "execution_count": 32,
   "metadata": {},
   "outputs": [
    {
     "name": "stdout",
     "output_type": "stream",
     "text": [
      "accuracy: 0.8604852686308492\n",
      "              precision    recall  f1-score   support\n",
      "\n",
      "           F       0.87      0.85      0.86       572\n",
      "           M       0.85      0.87      0.86       582\n",
      "\n",
      "    accuracy                           0.86      1154\n",
      "   macro avg       0.86      0.86      0.86      1154\n",
      "weighted avg       0.86      0.86      0.86      1154\n",
      "\n"
     ]
    }
   ],
   "source": [
    "y_pred = clf_model.predict(X_val_sd)\n",
    "print(\"accuracy:\", accuracy_score(y_val, y_pred))\n",
    "print(classification_report(y_val, y_pred))"
   ]
  },
  {
   "cell_type": "markdown",
   "metadata": {},
   "source": [
    "- Decision Tree on Leg Sensor FE data"
   ]
  },
  {
   "cell_type": "code",
   "execution_count": 33,
   "metadata": {},
   "outputs": [
    {
     "name": "stdout",
     "output_type": "stream",
     "text": [
      "accuracy: 0.9020979020979021\n",
      "              precision    recall  f1-score   support\n",
      "\n",
      "           F       0.90      0.90      0.90       282\n",
      "           M       0.90      0.91      0.90       290\n",
      "\n",
      "    accuracy                           0.90       572\n",
      "   macro avg       0.90      0.90      0.90       572\n",
      "weighted avg       0.90      0.90      0.90       572\n",
      "\n"
     ]
    }
   ],
   "source": [
    "y_pred_leg = clf_model_leg.predict(X_val_leg_sd)\n",
    "print(\"accuracy:\", accuracy_score(y_val_leg, y_pred_leg))\n",
    "print(classification_report(y_val_leg, y_pred_leg))"
   ]
  },
  {
   "cell_type": "markdown",
   "metadata": {},
   "source": [
    "- Decision Tree on Arm Sensor FE data"
   ]
  },
  {
   "cell_type": "code",
   "execution_count": 34,
   "metadata": {},
   "outputs": [
    {
     "name": "stdout",
     "output_type": "stream",
     "text": [
      "accuracy: 0.8096054888507719\n",
      "              precision    recall  f1-score   support\n",
      "\n",
      "           F       0.81      0.80      0.81       288\n",
      "           M       0.81      0.82      0.81       295\n",
      "\n",
      "    accuracy                           0.81       583\n",
      "   macro avg       0.81      0.81      0.81       583\n",
      "weighted avg       0.81      0.81      0.81       583\n",
      "\n"
     ]
    }
   ],
   "source": [
    "y_pred_arm = clf_model_arm.predict(X_val_arm_sd)\n",
    "print(\"accuracy:\", accuracy_score(y_val_arm, y_pred_arm))\n",
    "print(classification_report(y_val_arm, y_pred_arm))"
   ]
  }
 ],
 "metadata": {
  "interpreter": {
   "hash": "6bc2c2825d82c9ce5e1c70e44eb84ffd29d40a8ac35335129b1fa82144e43453"
  },
  "kernelspec": {
   "display_name": "Python 3 (ipykernel)",
   "language": "python",
   "name": "python3"
  },
  "language_info": {
   "codemirror_mode": {
    "name": "ipython",
    "version": 3
   },
   "file_extension": ".py",
   "mimetype": "text/x-python",
   "name": "python",
   "nbconvert_exporter": "python",
   "pygments_lexer": "ipython3",
   "version": "3.9.7"
  }
 },
 "nbformat": 4,
 "nbformat_minor": 2
}
