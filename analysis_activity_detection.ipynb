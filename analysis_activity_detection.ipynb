{
 "cells": [
  {
   "cell_type": "code",
   "execution_count": 355,
   "metadata": {},
   "outputs": [],
   "source": [
    "import numpy as np\n",
    "import pandas as pd\n",
    "import matplotlib.pyplot as plt\n",
    "from sklearn.preprocessing import StandardScaler\n",
    "from sklearn.linear_model import LogisticRegression\n",
    "from sklearn.ensemble import RandomForestClassifier\n",
    "from sklearn.metrics import accuracy_score\n",
    "from sklearn.metrics import classification_report\n",
    "from sklearn.model_selection import train_test_split\n",
    "from sklearn.preprocessing import LabelEncoder\n",
    "from sklearn.preprocessing import OneHotEncoder\n",
    "from sklearn.naive_bayes import GaussianNB\n",
    "from sklearn.neighbors import KNeighborsClassifier\n",
    "from sklearn.tree import DecisionTreeClassifier\n",
    "from sklearn import metrics\n",
    "import seaborn as sns\n",
    "sns.set()"
   ]
  },
  {
   "cell_type": "code",
   "execution_count": 356,
   "metadata": {},
   "outputs": [],
   "source": [
    "#import data\n",
    "\n",
    "data = pd.read_csv('processed_data/fe_data.csv')\n",
    "data_leg = pd.read_csv('processed_data/fe_legsensor_data.csv')\n",
    "data_arm = pd.read_csv('processed_data/fe_armsensor_data.csv')"
   ]
  },
  {
   "cell_type": "code",
   "execution_count": 357,
   "metadata": {},
   "outputs": [],
   "source": [
    "#drop 'index col'\n",
    "data = data.iloc[:,1:]\n",
    "data_leg = data_leg.iloc[:,1:]\n",
    "data_arm = data_arm.iloc[:,1:]"
   ]
  },
  {
   "cell_type": "markdown",
   "metadata": {},
   "source": [
    "# 1. Activity Detection - Machine Learning Approach"
   ]
  },
  {
   "cell_type": "code",
   "execution_count": 358,
   "metadata": {},
   "outputs": [
    {
     "name": "stdout",
     "output_type": "stream",
     "text": [
      "<class 'pandas.core.frame.DataFrame'>\n",
      "RangeIndex: 5767 entries, 0 to 5766\n",
      "Data columns (total 64 columns):\n",
      " #   Column        Non-Null Count  Dtype  \n",
      "---  ------        --------------  -----  \n",
      " 0   ax_mean       5767 non-null   float64\n",
      " 1   ay_mean       5767 non-null   float64\n",
      " 2   az_mean       5767 non-null   float64\n",
      " 3   aT_mean       5767 non-null   float64\n",
      " 4   ax_ad_mean    5767 non-null   float64\n",
      " 5   ay_ad_mean    5767 non-null   float64\n",
      " 6   az_ad_mean    5767 non-null   float64\n",
      " 7   aT_ad_mean    5767 non-null   float64\n",
      " 8   ax_min        5767 non-null   float64\n",
      " 9   ay_min        5767 non-null   float64\n",
      " 10  az_min        5767 non-null   float64\n",
      " 11  aT_min        5767 non-null   float64\n",
      " 12  ax_max        5767 non-null   float64\n",
      " 13  ay_max        5767 non-null   float64\n",
      " 14  az_max        5767 non-null   float64\n",
      " 15  aT_max        5767 non-null   float64\n",
      " 16  ax_std        5767 non-null   float64\n",
      " 17  ay_std        5767 non-null   float64\n",
      " 18  az_std        5767 non-null   float64\n",
      " 19  aT_std        5767 non-null   float64\n",
      " 20  ax_median     5767 non-null   float64\n",
      " 21  ay_median     5767 non-null   float64\n",
      " 22  az_median     5767 non-null   float64\n",
      " 23  aT_median     5767 non-null   float64\n",
      " 24  ax_ad_median  5767 non-null   float64\n",
      " 25  ay_ad_median  5767 non-null   float64\n",
      " 26  az_ad_median  5767 non-null   float64\n",
      " 27  aT_ad_median  5767 non-null   float64\n",
      " 28  ax_mm_diff    5767 non-null   float64\n",
      " 29  ay_mm_diff    5767 non-null   float64\n",
      " 30  az_mm_diff    5767 non-null   float64\n",
      " 31  aT_mm_diff    5767 non-null   float64\n",
      " 32  ax_iqr        5767 non-null   float64\n",
      " 33  ay_iqr        5767 non-null   float64\n",
      " 34  az_iqr        5767 non-null   float64\n",
      " 35  aT_iqr        5767 non-null   float64\n",
      " 36  ax_pos_count  5767 non-null   int64  \n",
      " 37  ay_pos_count  5767 non-null   int64  \n",
      " 38  az_pos_count  5767 non-null   int64  \n",
      " 39  aT_pos_count  5767 non-null   int64  \n",
      " 40  ax_neg_count  5767 non-null   int64  \n",
      " 41  ay_neg_count  5767 non-null   int64  \n",
      " 42  az_neg_count  5767 non-null   int64  \n",
      " 43  aT_neg_count  5767 non-null   int64  \n",
      " 44  ax_peaks      5767 non-null   int64  \n",
      " 45  ay_peaks      5767 non-null   int64  \n",
      " 46  az_peaks      5767 non-null   int64  \n",
      " 47  aT_peaks      5767 non-null   int64  \n",
      " 48  ax_kurtosis   5767 non-null   float64\n",
      " 49  ay_kurtosis   5767 non-null   float64\n",
      " 50  az_kurtosis   5767 non-null   float64\n",
      " 51  aT_kurtosis   5767 non-null   float64\n",
      " 52  ax_skewness   5767 non-null   float64\n",
      " 53  ay_skewness   5767 non-null   float64\n",
      " 54  az_skewness   5767 non-null   float64\n",
      " 55  aT_skewness   5767 non-null   float64\n",
      " 56  ax_energy     5767 non-null   float64\n",
      " 57  ay_energy     5767 non-null   float64\n",
      " 58  az_energy     5767 non-null   float64\n",
      " 59  aT_energy     5767 non-null   float64\n",
      " 60  id            5767 non-null   int64  \n",
      " 61  sex           5767 non-null   object \n",
      " 62  sensor_pos    5767 non-null   object \n",
      " 63  activity      5767 non-null   object \n",
      "dtypes: float64(48), int64(13), object(3)\n",
      "memory usage: 2.8+ MB\n"
     ]
    }
   ],
   "source": [
    "data.info()"
   ]
  },
  {
   "cell_type": "code",
   "execution_count": 359,
   "metadata": {},
   "outputs": [],
   "source": [
    "#whole data\n",
    "X_data = data.drop('activity', axis=1)\n",
    "y_data = data['activity']\n",
    "\n",
    "#leg sensor data\n",
    "X_data_leg = data_leg.drop('activity', axis=1)\n",
    "y_data_leg = data_leg['activity']\n",
    "\n",
    "#arm sensor data\n",
    "X_data_arm = data_arm.drop('activity', axis=1)\n",
    "y_data_arm = data_arm['activity']\n"
   ]
  },
  {
   "cell_type": "code",
   "execution_count": 360,
   "metadata": {},
   "outputs": [],
   "source": [
    "#X_data['sex']"
   ]
  },
  {
   "cell_type": "code",
   "execution_count": 361,
   "metadata": {},
   "outputs": [],
   "source": [
    "#encode sensor postion and sex data\n",
    "sex_encoder = LabelEncoder()\n",
    "sex_encoder.fit(X_data['sex'])\n",
    "X_data['sex'] =  sex_encoder.transform(X_data['sex'])\n",
    "#X_data['sex']\n",
    "#male:1, female:0\n",
    "X_data_leg['sex'] = sex_encoder.transform(X_data_leg['sex'])\n",
    "X_data_arm['sex'] = sex_encoder.transform(X_data_arm['sex'])"
   ]
  },
  {
   "cell_type": "code",
   "execution_count": 362,
   "metadata": {},
   "outputs": [],
   "source": [
    "#X_data['sensor_pos']"
   ]
  },
  {
   "cell_type": "code",
   "execution_count": 363,
   "metadata": {},
   "outputs": [],
   "source": [
    "pos_encoder = LabelEncoder()\n",
    "pos_encoder.fit(X_data['sensor_pos'])\n",
    "X_data['sensor_pos'] = pos_encoder.transform(X_data['sensor_pos'])\n",
    "#X_data['sensor_pos']\n",
    "#leg: 1, arm: 0\n",
    "X_data_leg['sensor_pos'] = pos_encoder.transform(X_data_leg['sensor_pos'])\n",
    "X_data_arm['sensor_pos'] = pos_encoder.transform(X_data_arm['sensor_pos'])"
   ]
  },
  {
   "cell_type": "code",
   "execution_count": 364,
   "metadata": {},
   "outputs": [],
   "source": [
    "#Train - Test Split\n",
    "X_train, X_val, y_train, y_val = train_test_split(X_data, y_data, test_size= 0.2, random_state= 24)\n",
    "X_train_leg, X_val_leg, y_train_leg, y_val_leg = train_test_split(X_data_leg, y_data_leg, test_size= 0.2, random_state= 24)\n",
    "X_train_arm, X_val_arm, y_train_arm, y_val_arm = train_test_split(X_data_arm, y_data_arm, test_size= 0.2, random_state= 24)"
   ]
  },
  {
   "cell_type": "code",
   "execution_count": 365,
   "metadata": {},
   "outputs": [],
   "source": [
    "#standardizing into scaler\n",
    "\n",
    "scaler = StandardScaler()\n",
    "scaler.fit(X_train)\n",
    "X_train_sd = scaler.transform(X_train)\n",
    "X_val_sd = scaler.transform(X_val)\n",
    "\n",
    "X_train_leg_sd = scaler.transform(X_train_leg)\n",
    "X_val_leg_sd = scaler.transform(X_val_leg)\n",
    "\n",
    "X_train_arm_sd = scaler.transform(X_train_arm)\n",
    "X_val_arm_sd = scaler.transform(X_val_arm)"
   ]
  },
  {
   "cell_type": "markdown",
   "metadata": {},
   "source": [
    "# Logistic Regression"
   ]
  },
  {
   "cell_type": "code",
   "execution_count": 366,
   "metadata": {
    "scrolled": true
   },
   "outputs": [
    {
     "name": "stderr",
     "output_type": "stream",
     "text": [
      "C:\\Users\\actho\\anaconda3\\lib\\site-packages\\sklearn\\linear_model\\_logistic.py:763: ConvergenceWarning: lbfgs failed to converge (status=1):\n",
      "STOP: TOTAL NO. of ITERATIONS REACHED LIMIT.\n",
      "\n",
      "Increase the number of iterations (max_iter) or scale the data as shown in:\n",
      "    https://scikit-learn.org/stable/modules/preprocessing.html\n",
      "Please also refer to the documentation for alternative solver options:\n",
      "    https://scikit-learn.org/stable/modules/linear_model.html#logistic-regression\n",
      "  n_iter_i = _check_optimize_result(\n",
      "C:\\Users\\actho\\anaconda3\\lib\\site-packages\\sklearn\\linear_model\\_logistic.py:763: ConvergenceWarning: lbfgs failed to converge (status=1):\n",
      "STOP: TOTAL NO. of ITERATIONS REACHED LIMIT.\n",
      "\n",
      "Increase the number of iterations (max_iter) or scale the data as shown in:\n",
      "    https://scikit-learn.org/stable/modules/preprocessing.html\n",
      "Please also refer to the documentation for alternative solver options:\n",
      "    https://scikit-learn.org/stable/modules/linear_model.html#logistic-regression\n",
      "  n_iter_i = _check_optimize_result(\n",
      "C:\\Users\\actho\\anaconda3\\lib\\site-packages\\sklearn\\linear_model\\_logistic.py:763: ConvergenceWarning: lbfgs failed to converge (status=1):\n",
      "STOP: TOTAL NO. of ITERATIONS REACHED LIMIT.\n",
      "\n",
      "Increase the number of iterations (max_iter) or scale the data as shown in:\n",
      "    https://scikit-learn.org/stable/modules/preprocessing.html\n",
      "Please also refer to the documentation for alternative solver options:\n",
      "    https://scikit-learn.org/stable/modules/linear_model.html#logistic-regression\n",
      "  n_iter_i = _check_optimize_result(\n"
     ]
    },
    {
     "data": {
      "text/plain": [
       "LogisticRegression(random_state=21)"
      ]
     },
     "execution_count": 366,
     "metadata": {},
     "output_type": "execute_result"
    }
   ],
   "source": [
    "#Logistical Regression\n",
    "\n",
    "lr_model = LogisticRegression(random_state=21)\n",
    "lr_model.fit(X_train_sd,y_train)\n",
    "\n",
    "lr_model_leg = LogisticRegression(random_state=21)\n",
    "lr_model_leg.fit(X_train_leg_sd,y_train_leg)\n",
    "\n",
    "lr_model_arm = LogisticRegression(random_state=21)\n",
    "lr_model_arm.fit(X_train_arm_sd,y_train_arm)"
   ]
  },
  {
   "cell_type": "markdown",
   "metadata": {},
   "source": [
    " - LR on whole FE dataset"
   ]
  },
  {
   "cell_type": "code",
   "execution_count": 367,
   "metadata": {},
   "outputs": [
    {
     "name": "stdout",
     "output_type": "stream",
     "text": [
      "LR Training Results: \n",
      "accuracy: 0.9692174290049859\n",
      "              precision    recall  f1-score   support\n",
      "\n",
      "         jog       0.93      0.95      0.94      1151\n",
      "         run       0.94      0.93      0.94      1140\n",
      "       stand       1.00      1.00      1.00      1172\n",
      "        walk       1.00      1.00      1.00      1150\n",
      "\n",
      "    accuracy                           0.97      4613\n",
      "   macro avg       0.97      0.97      0.97      4613\n",
      "weighted avg       0.97      0.97      0.97      4613\n",
      "\n"
     ]
    }
   ],
   "source": [
    "#Train Accuracy\n",
    "y_pred = lr_model.predict(X_train_sd)\n",
    "print(\"LR Training Results: \")\n",
    "print(\"accuracy:\", accuracy_score(y_train, y_pred))\n",
    "print(classification_report(y_train, y_pred))"
   ]
  },
  {
   "cell_type": "code",
   "execution_count": 368,
   "metadata": {
    "scrolled": true
   },
   "outputs": [
    {
     "name": "stdout",
     "output_type": "stream",
     "text": [
      "LR Validation Results: \n",
      "accuracy: 0.9670710571923743\n",
      "              precision    recall  f1-score   support\n",
      "\n",
      "         jog       0.92      0.95      0.93       277\n",
      "         run       0.95      0.92      0.93       288\n",
      "       stand       1.00      1.00      1.00       311\n",
      "        walk       1.00      1.00      1.00       278\n",
      "\n",
      "    accuracy                           0.97      1154\n",
      "   macro avg       0.97      0.97      0.97      1154\n",
      "weighted avg       0.97      0.97      0.97      1154\n",
      "\n"
     ]
    }
   ],
   "source": [
    "#Validation\n",
    "y_pred = lr_model.predict(X_val_sd)\n",
    "print(\"LR Validation Results: \")\n",
    "print(\"accuracy:\", accuracy_score(y_val, y_pred))\n",
    "print(classification_report(y_val, y_pred))"
   ]
  },
  {
   "cell_type": "markdown",
   "metadata": {},
   "source": [
    "- LR on Leg Sensor FE dataset"
   ]
  },
  {
   "cell_type": "code",
   "execution_count": 369,
   "metadata": {},
   "outputs": [
    {
     "name": "stdout",
     "output_type": "stream",
     "text": [
      "LR Training Results on Leg Sensor: \n",
      "accuracy: 0.9846760070052539\n",
      "              precision    recall  f1-score   support\n",
      "\n",
      "         jog       0.97      0.97      0.97       576\n",
      "         run       0.97      0.97      0.97       563\n",
      "       stand       1.00      1.00      1.00       567\n",
      "        walk       1.00      1.00      1.00       578\n",
      "\n",
      "    accuracy                           0.98      2284\n",
      "   macro avg       0.98      0.98      0.98      2284\n",
      "weighted avg       0.98      0.98      0.98      2284\n",
      "\n"
     ]
    }
   ],
   "source": [
    "y_pred_leg = lr_model_leg.predict(X_train_leg_sd)\n",
    "print(\"LR Training Results on Leg Sensor: \")\n",
    "print(\"accuracy:\", accuracy_score(y_train_leg, y_pred_leg))\n",
    "print(classification_report(y_train_leg, y_pred_leg))"
   ]
  },
  {
   "cell_type": "code",
   "execution_count": 370,
   "metadata": {},
   "outputs": [
    {
     "name": "stdout",
     "output_type": "stream",
     "text": [
      "LR Validation Results on Leg Sensor: \n",
      "accuracy: 0.9842657342657343\n",
      "              precision    recall  f1-score   support\n",
      "\n",
      "         jog       0.96      0.97      0.97       138\n",
      "         run       0.99      0.97      0.98       151\n",
      "       stand       1.00      1.00      1.00       147\n",
      "        walk       0.99      1.00      0.99       136\n",
      "\n",
      "    accuracy                           0.98       572\n",
      "   macro avg       0.98      0.98      0.98       572\n",
      "weighted avg       0.98      0.98      0.98       572\n",
      "\n"
     ]
    }
   ],
   "source": [
    "y_pred_leg = lr_model_leg.predict(X_val_leg_sd)\n",
    "print(\"LR Validation Results on Leg Sensor: \")\n",
    "print(\"accuracy:\", accuracy_score(y_val_leg, y_pred_leg))\n",
    "print(classification_report(y_val_leg, y_pred_leg))"
   ]
  },
  {
   "cell_type": "markdown",
   "metadata": {},
   "source": [
    "- LR on Arm Sensor FE dataset"
   ]
  },
  {
   "cell_type": "code",
   "execution_count": 371,
   "metadata": {},
   "outputs": [
    {
     "name": "stdout",
     "output_type": "stream",
     "text": [
      "LR Training Results on Arm Sensor: \n",
      "accuracy: 0.9845360824742269\n",
      "              precision    recall  f1-score   support\n",
      "\n",
      "         jog       0.96      0.97      0.97       562\n",
      "         run       0.97      0.96      0.97       563\n",
      "       stand       1.00      1.00      1.00       611\n",
      "        walk       1.00      1.00      1.00       592\n",
      "\n",
      "    accuracy                           0.98      2328\n",
      "   macro avg       0.98      0.98      0.98      2328\n",
      "weighted avg       0.98      0.98      0.98      2328\n",
      "\n"
     ]
    }
   ],
   "source": [
    "y_pred_arm = lr_model_arm.predict(X_train_arm_sd)\n",
    "print(\"LR Training Results on Arm Sensor: \")\n",
    "print(\"accuracy:\", accuracy_score(y_train_arm, y_pred_arm))\n",
    "print(classification_report(y_train_arm, y_pred_arm))"
   ]
  },
  {
   "cell_type": "code",
   "execution_count": 372,
   "metadata": {},
   "outputs": [
    {
     "name": "stdout",
     "output_type": "stream",
     "text": [
      "LR Validation Results on Arm Sensor: \n",
      "accuracy: 0.9725557461406518\n",
      "              precision    recall  f1-score   support\n",
      "\n",
      "         jog       0.95      0.95      0.95       152\n",
      "         run       0.95      0.95      0.95       151\n",
      "       stand       1.00      1.00      1.00       158\n",
      "        walk       0.98      1.00      0.99       122\n",
      "\n",
      "    accuracy                           0.97       583\n",
      "   macro avg       0.97      0.97      0.97       583\n",
      "weighted avg       0.97      0.97      0.97       583\n",
      "\n"
     ]
    }
   ],
   "source": [
    "y_pred_arm = lr_model_arm.predict(X_val_arm_sd)\n",
    "print(\"LR Validation Results on Arm Sensor: \")\n",
    "print(\"accuracy:\", accuracy_score(y_val_arm, y_pred_arm))\n",
    "print(classification_report(y_val_arm, y_pred_arm))"
   ]
  },
  {
   "cell_type": "markdown",
   "metadata": {},
   "source": [
    "# Random Forests"
   ]
  },
  {
   "cell_type": "code",
   "execution_count": 373,
   "metadata": {},
   "outputs": [
    {
     "data": {
      "text/plain": [
       "RandomForestClassifier()"
      ]
     },
     "execution_count": 373,
     "metadata": {},
     "output_type": "execute_result"
    }
   ],
   "source": [
    "#Random Forests\n",
    "\n",
    "clf_model = RandomForestClassifier()\n",
    "clf_model.fit(X_train_sd,y_train)\n",
    "\n",
    "clf_model_leg = RandomForestClassifier()\n",
    "clf_model_leg.fit(X_train_leg_sd,y_train_leg)\n",
    "\n",
    "clf_model_arm = RandomForestClassifier()\n",
    "clf_model_arm.fit(X_train_arm_sd,y_train_arm)"
   ]
  },
  {
   "cell_type": "markdown",
   "metadata": {},
   "source": [
    "- Random Forests on whole FE dataset"
   ]
  },
  {
   "cell_type": "code",
   "execution_count": 374,
   "metadata": {},
   "outputs": [
    {
     "name": "stdout",
     "output_type": "stream",
     "text": [
      "Random Forests Training Results: \n",
      "accuracy: 1.0\n",
      "              precision    recall  f1-score   support\n",
      "\n",
      "         jog       1.00      1.00      1.00      1151\n",
      "         run       1.00      1.00      1.00      1140\n",
      "       stand       1.00      1.00      1.00      1172\n",
      "        walk       1.00      1.00      1.00      1150\n",
      "\n",
      "    accuracy                           1.00      4613\n",
      "   macro avg       1.00      1.00      1.00      4613\n",
      "weighted avg       1.00      1.00      1.00      4613\n",
      "\n"
     ]
    }
   ],
   "source": [
    "#Train Accuracy\n",
    "y_pred = clf_model.predict(X_train_sd)\n",
    "print(\"Random Forests Training Results: \")\n",
    "print(\"accuracy:\", accuracy_score(y_train, y_pred))\n",
    "print(classification_report(y_train, y_pred))"
   ]
  },
  {
   "cell_type": "code",
   "execution_count": 375,
   "metadata": {},
   "outputs": [
    {
     "name": "stdout",
     "output_type": "stream",
     "text": [
      "Random Forests Validation Results: \n",
      "accuracy: 0.987001733102253\n",
      "              precision    recall  f1-score   support\n",
      "\n",
      "         jog       0.97      0.97      0.97       277\n",
      "         run       0.98      0.97      0.97       288\n",
      "       stand       1.00      1.00      1.00       311\n",
      "        walk       1.00      1.00      1.00       278\n",
      "\n",
      "    accuracy                           0.99      1154\n",
      "   macro avg       0.99      0.99      0.99      1154\n",
      "weighted avg       0.99      0.99      0.99      1154\n",
      "\n"
     ]
    }
   ],
   "source": [
    "#Validation\n",
    "y_pred = clf_model.predict(X_val_sd)\n",
    "print(\"Random Forests Validation Results: \")\n",
    "print(\"accuracy:\", accuracy_score(y_val, y_pred))\n",
    "print(classification_report(y_val, y_pred))"
   ]
  },
  {
   "cell_type": "markdown",
   "metadata": {},
   "source": [
    "- Random Forests on Leg Sensor FE dataset"
   ]
  },
  {
   "cell_type": "code",
   "execution_count": 376,
   "metadata": {},
   "outputs": [
    {
     "name": "stdout",
     "output_type": "stream",
     "text": [
      "Random Forests Training Results on Leg Sensor: \n",
      "accuracy: 1.0\n",
      "              precision    recall  f1-score   support\n",
      "\n",
      "         jog       1.00      1.00      1.00       576\n",
      "         run       1.00      1.00      1.00       563\n",
      "       stand       1.00      1.00      1.00       567\n",
      "        walk       1.00      1.00      1.00       578\n",
      "\n",
      "    accuracy                           1.00      2284\n",
      "   macro avg       1.00      1.00      1.00      2284\n",
      "weighted avg       1.00      1.00      1.00      2284\n",
      "\n"
     ]
    }
   ],
   "source": [
    "y_pred_leg = clf_model_leg.predict(X_train_leg_sd)\n",
    "print(\"Random Forests Training Results on Leg Sensor: \")\n",
    "print(\"accuracy:\", accuracy_score(y_train_leg, y_pred_leg))\n",
    "print(classification_report(y_train_leg, y_pred_leg))"
   ]
  },
  {
   "cell_type": "code",
   "execution_count": 377,
   "metadata": {},
   "outputs": [
    {
     "name": "stdout",
     "output_type": "stream",
     "text": [
      "Random Forests Validation Results on Leg Sensor: \n",
      "accuracy: 0.9965034965034965\n",
      "              precision    recall  f1-score   support\n",
      "\n",
      "         jog       0.99      1.00      0.99       138\n",
      "         run       1.00      0.99      0.99       151\n",
      "       stand       1.00      1.00      1.00       147\n",
      "        walk       1.00      1.00      1.00       136\n",
      "\n",
      "    accuracy                           1.00       572\n",
      "   macro avg       1.00      1.00      1.00       572\n",
      "weighted avg       1.00      1.00      1.00       572\n",
      "\n"
     ]
    }
   ],
   "source": [
    "y_pred_leg = clf_model_leg.predict(X_val_leg_sd)\n",
    "print(\"Random Forests Validation Results on Leg Sensor: \")\n",
    "print(\"accuracy:\", accuracy_score(y_val_leg, y_pred_leg))\n",
    "print(classification_report(y_val_leg, y_pred_leg))"
   ]
  },
  {
   "cell_type": "markdown",
   "metadata": {},
   "source": [
    "- Random Forests on Arm Sensor FE dataset"
   ]
  },
  {
   "cell_type": "code",
   "execution_count": 378,
   "metadata": {},
   "outputs": [
    {
     "name": "stdout",
     "output_type": "stream",
     "text": [
      "Random Forests Training Results on Arm Sensor: \n",
      "accuracy: 1.0\n",
      "              precision    recall  f1-score   support\n",
      "\n",
      "         jog       1.00      1.00      1.00       562\n",
      "         run       1.00      1.00      1.00       563\n",
      "       stand       1.00      1.00      1.00       611\n",
      "        walk       1.00      1.00      1.00       592\n",
      "\n",
      "    accuracy                           1.00      2328\n",
      "   macro avg       1.00      1.00      1.00      2328\n",
      "weighted avg       1.00      1.00      1.00      2328\n",
      "\n"
     ]
    }
   ],
   "source": [
    "y_pred_arm = clf_model_arm.predict(X_train_arm_sd)\n",
    "print(\"Random Forests Training Results on Arm Sensor: \")\n",
    "print(\"accuracy:\", accuracy_score(y_train_arm, y_pred_arm))\n",
    "print(classification_report(y_train_arm, y_pred_arm))"
   ]
  },
  {
   "cell_type": "code",
   "execution_count": 379,
   "metadata": {},
   "outputs": [
    {
     "name": "stdout",
     "output_type": "stream",
     "text": [
      "Random Forests Validation Results on Arm Sensor: \n",
      "accuracy: 0.9777015437392796\n",
      "              precision    recall  f1-score   support\n",
      "\n",
      "         jog       0.96      0.95      0.96       152\n",
      "         run       0.95      0.96      0.96       151\n",
      "       stand       1.00      1.00      1.00       158\n",
      "        walk       1.00      1.00      1.00       122\n",
      "\n",
      "    accuracy                           0.98       583\n",
      "   macro avg       0.98      0.98      0.98       583\n",
      "weighted avg       0.98      0.98      0.98       583\n",
      "\n"
     ]
    }
   ],
   "source": [
    "y_pred_arm = clf_model_arm.predict(X_val_arm_sd)\n",
    "print(\"Random Forests Validation Results on Arm Sensor: \")\n",
    "print(\"accuracy:\", accuracy_score(y_val_arm, y_pred_arm))\n",
    "print(classification_report(y_val_arm, y_pred_arm))"
   ]
  },
  {
   "cell_type": "markdown",
   "metadata": {},
   "source": [
    "# Naive Bayes Model"
   ]
  },
  {
   "cell_type": "code",
   "execution_count": 380,
   "metadata": {},
   "outputs": [
    {
     "data": {
      "text/plain": [
       "GaussianNB()"
      ]
     },
     "execution_count": 380,
     "metadata": {},
     "output_type": "execute_result"
    }
   ],
   "source": [
    "#Whole\n",
    "gnb_model = GaussianNB()\n",
    "gnb_model.fit(X_train_sd, y_train)\n",
    "\n",
    "#Leg Sensor\n",
    "gnb_model_leg = GaussianNB()\n",
    "gnb_model_leg.fit(X_train_leg_sd, y_train_leg)\n",
    "\n",
    "#Arm Sensor\n",
    "gnb_model_arm = GaussianNB()\n",
    "gnb_model_arm.fit(X_train_arm_sd, y_train_arm)"
   ]
  },
  {
   "cell_type": "markdown",
   "metadata": {},
   "source": [
    "- Naive Bayes on whole FE data"
   ]
  },
  {
   "cell_type": "code",
   "execution_count": 381,
   "metadata": {
    "scrolled": true
   },
   "outputs": [
    {
     "name": "stdout",
     "output_type": "stream",
     "text": [
      "Naive Bayes Training Results: \n",
      "accuracy: 0.858443529156731\n",
      "              precision    recall  f1-score   support\n",
      "\n",
      "         jog       0.69      0.81      0.74      1151\n",
      "         run       0.81      0.74      0.77      1140\n",
      "       stand       1.00      0.99      1.00      1172\n",
      "        walk       0.98      0.89      0.93      1150\n",
      "\n",
      "    accuracy                           0.86      4613\n",
      "   macro avg       0.87      0.86      0.86      4613\n",
      "weighted avg       0.87      0.86      0.86      4613\n",
      "\n"
     ]
    }
   ],
   "source": [
    "#Train Accuracy\n",
    "y_pred = gnb_model.predict(X_train_sd)\n",
    "print(\"Naive Bayes Training Results: \")\n",
    "print(\"accuracy:\", accuracy_score(y_train, y_pred))\n",
    "print(classification_report(y_train, y_pred))"
   ]
  },
  {
   "cell_type": "code",
   "execution_count": 382,
   "metadata": {},
   "outputs": [
    {
     "name": "stdout",
     "output_type": "stream",
     "text": [
      "Naive Bayes Validation Results: \n",
      "accuracy: 0.8665511265164645\n",
      "              precision    recall  f1-score   support\n",
      "\n",
      "         jog       0.70      0.79      0.74       277\n",
      "         run       0.80      0.75      0.77       288\n",
      "       stand       1.00      0.99      1.00       311\n",
      "        walk       0.98      0.92      0.95       278\n",
      "\n",
      "    accuracy                           0.87      1154\n",
      "   macro avg       0.87      0.86      0.87      1154\n",
      "weighted avg       0.87      0.87      0.87      1154\n",
      "\n"
     ]
    }
   ],
   "source": [
    "#Validation\n",
    "y_pred = gnb_model.predict(X_val_sd)\n",
    "print(\"Naive Bayes Validation Results: \")\n",
    "print(\"accuracy:\", accuracy_score(y_val, y_pred))\n",
    "print(classification_report(y_val, y_pred))"
   ]
  },
  {
   "cell_type": "markdown",
   "metadata": {},
   "source": [
    "- Naive Bayes on Leg Sensor FE data"
   ]
  },
  {
   "cell_type": "code",
   "execution_count": 383,
   "metadata": {},
   "outputs": [
    {
     "name": "stdout",
     "output_type": "stream",
     "text": [
      "Naive Bayes Training Results on Leg Sensor: \n",
      "accuracy: 0.936077057793345\n",
      "              precision    recall  f1-score   support\n",
      "\n",
      "         jog       0.88      0.86      0.87       576\n",
      "         run       0.90      0.91      0.90       563\n",
      "       stand       1.00      1.00      1.00       567\n",
      "        walk       0.97      0.97      0.97       578\n",
      "\n",
      "    accuracy                           0.94      2284\n",
      "   macro avg       0.94      0.94      0.94      2284\n",
      "weighted avg       0.94      0.94      0.94      2284\n",
      "\n"
     ]
    }
   ],
   "source": [
    "y_pred_leg = gnb_model_leg.predict(X_train_leg_sd)\n",
    "print(\"Naive Bayes Training Results on Leg Sensor: \")\n",
    "print(\"accuracy:\", accuracy_score(y_train_leg, y_pred_leg))\n",
    "print(classification_report(y_train_leg, y_pred_leg))"
   ]
  },
  {
   "cell_type": "code",
   "execution_count": 384,
   "metadata": {},
   "outputs": [
    {
     "name": "stdout",
     "output_type": "stream",
     "text": [
      "Naive Bayes Validation Results on Leg Sensor: \n",
      "accuracy: 0.5314685314685315\n",
      "              precision    recall  f1-score   support\n",
      "\n",
      "         jog       0.06      0.04      0.05       138\n",
      "         run       0.44      1.00      0.61       151\n",
      "       stand       1.00      1.00      1.00       147\n",
      "        walk       1.00      0.01      0.01       136\n",
      "\n",
      "    accuracy                           0.53       572\n",
      "   macro avg       0.63      0.51      0.42       572\n",
      "weighted avg       0.63      0.53      0.43       572\n",
      "\n"
     ]
    }
   ],
   "source": [
    "y_pred_leg = gnb_model_arm.predict(X_val_leg_sd)\n",
    "print(\"Naive Bayes Validation Results on Leg Sensor: \")\n",
    "print(\"accuracy:\", accuracy_score(y_val_leg, y_pred_leg))\n",
    "print(classification_report(y_val_leg, y_pred_leg))"
   ]
  },
  {
   "cell_type": "markdown",
   "metadata": {},
   "source": [
    "- Naive Bayes on Arm Sensor FE data"
   ]
  },
  {
   "cell_type": "code",
   "execution_count": 385,
   "metadata": {
    "scrolled": true
   },
   "outputs": [
    {
     "name": "stdout",
     "output_type": "stream",
     "text": [
      "Naive Bayes Training Results on Arm Sensor: \n",
      "accuracy: 0.9368556701030928\n",
      "              precision    recall  f1-score   support\n",
      "\n",
      "         jog       0.87      0.88      0.87       562\n",
      "         run       0.88      0.86      0.87       563\n",
      "       stand       1.00      1.00      1.00       611\n",
      "        walk       1.00      1.00      1.00       592\n",
      "\n",
      "    accuracy                           0.94      2328\n",
      "   macro avg       0.93      0.93      0.93      2328\n",
      "weighted avg       0.94      0.94      0.94      2328\n",
      "\n"
     ]
    }
   ],
   "source": [
    "y_pred_arm = gnb_model_arm.predict(X_train_arm_sd)\n",
    "print(\"Naive Bayes Training Results on Arm Sensor: \")\n",
    "print(\"accuracy:\", accuracy_score(y_train_arm, y_pred_arm))\n",
    "print(classification_report(y_train_arm, y_pred_arm))"
   ]
  },
  {
   "cell_type": "code",
   "execution_count": 386,
   "metadata": {},
   "outputs": [
    {
     "name": "stdout",
     "output_type": "stream",
     "text": [
      "Naive Bayes Validation Results on Arm Sensor: \n",
      "accuracy: 0.9073756432246999\n",
      "              precision    recall  f1-score   support\n",
      "\n",
      "         jog       0.81      0.84      0.82       152\n",
      "         run       0.83      0.81      0.82       151\n",
      "       stand       1.00      1.00      1.00       158\n",
      "        walk       1.00      1.00      1.00       122\n",
      "\n",
      "    accuracy                           0.91       583\n",
      "   macro avg       0.91      0.91      0.91       583\n",
      "weighted avg       0.91      0.91      0.91       583\n",
      "\n"
     ]
    }
   ],
   "source": [
    "y_pred_arm = gnb_model_arm.predict(X_val_arm_sd)\n",
    "print(\"Naive Bayes Validation Results on Arm Sensor: \")\n",
    "print(\"accuracy:\", accuracy_score(y_val_arm, y_pred_arm))\n",
    "print(classification_report(y_val_arm, y_pred_arm))"
   ]
  },
  {
   "cell_type": "markdown",
   "metadata": {},
   "source": [
    "# KNN Model"
   ]
  },
  {
   "cell_type": "code",
   "execution_count": 387,
   "metadata": {},
   "outputs": [
    {
     "data": {
      "text/plain": [
       "KNeighborsClassifier()"
      ]
     },
     "execution_count": 387,
     "metadata": {},
     "output_type": "execute_result"
    }
   ],
   "source": [
    "knn_model = KNeighborsClassifier()\n",
    "knn_model.fit(X_train_sd,y_train)\n",
    "\n",
    "knn_model_leg = KNeighborsClassifier()\n",
    "knn_model_leg.fit(X_train_leg_sd,y_train_leg)\n",
    "\n",
    "knn_model_arm = KNeighborsClassifier()\n",
    "knn_model_arm.fit(X_train_arm_sd,y_train_arm)"
   ]
  },
  {
   "cell_type": "markdown",
   "metadata": {},
   "source": [
    "- KNN on whole FE data"
   ]
  },
  {
   "cell_type": "code",
   "execution_count": 388,
   "metadata": {},
   "outputs": [
    {
     "name": "stdout",
     "output_type": "stream",
     "text": [
      "KNN Training Results: \n",
      "accuracy: 0.9880771732061565\n",
      "              precision    recall  f1-score   support\n",
      "\n",
      "         jog       0.97      0.99      0.98      1151\n",
      "         run       0.99      0.98      0.98      1140\n",
      "       stand       0.99      1.00      0.99      1172\n",
      "        walk       1.00      0.99      0.99      1150\n",
      "\n",
      "    accuracy                           0.99      4613\n",
      "   macro avg       0.99      0.99      0.99      4613\n",
      "weighted avg       0.99      0.99      0.99      4613\n",
      "\n"
     ]
    }
   ],
   "source": [
    "#Train Accuracy\n",
    "y_pred = knn_model.predict(X_train_sd)\n",
    "print(\"KNN Training Results: \")\n",
    "print(\"accuracy:\", accuracy_score(y_train, y_pred))\n",
    "print(classification_report(y_train, y_pred))"
   ]
  },
  {
   "cell_type": "code",
   "execution_count": 389,
   "metadata": {},
   "outputs": [
    {
     "name": "stdout",
     "output_type": "stream",
     "text": [
      "KNN Validation Results: \n",
      "accuracy: 0.9809358752166378\n",
      "              precision    recall  f1-score   support\n",
      "\n",
      "         jog       0.95      0.99      0.97       277\n",
      "         run       0.99      0.96      0.98       288\n",
      "       stand       0.98      1.00      0.99       311\n",
      "        walk       1.00      0.97      0.98       278\n",
      "\n",
      "    accuracy                           0.98      1154\n",
      "   macro avg       0.98      0.98      0.98      1154\n",
      "weighted avg       0.98      0.98      0.98      1154\n",
      "\n"
     ]
    }
   ],
   "source": [
    "#Validation\n",
    "y_pred = knn_model.predict(X_val_sd)\n",
    "print(\"KNN Validation Results: \")\n",
    "print(\"accuracy:\", accuracy_score(y_val, y_pred))\n",
    "print(classification_report(y_val, y_pred))"
   ]
  },
  {
   "cell_type": "markdown",
   "metadata": {},
   "source": [
    "- KNN on Leg Sensor FE data"
   ]
  },
  {
   "cell_type": "code",
   "execution_count": 390,
   "metadata": {},
   "outputs": [
    {
     "name": "stdout",
     "output_type": "stream",
     "text": [
      "KNN Training Results on Leg Sensor: \n",
      "accuracy: 0.9899299474605955\n",
      "              precision    recall  f1-score   support\n",
      "\n",
      "         jog       0.97      0.99      0.98       576\n",
      "         run       0.99      0.97      0.98       563\n",
      "       stand       1.00      1.00      1.00       567\n",
      "        walk       1.00      1.00      1.00       578\n",
      "\n",
      "    accuracy                           0.99      2284\n",
      "   macro avg       0.99      0.99      0.99      2284\n",
      "weighted avg       0.99      0.99      0.99      2284\n",
      "\n"
     ]
    }
   ],
   "source": [
    "y_pred_leg = knn_model_leg.predict(X_train_leg_sd)\n",
    "print(\"KNN Training Results on Leg Sensor: \")\n",
    "print(\"accuracy:\", accuracy_score(y_train_leg, y_pred_leg))\n",
    "print(classification_report(y_train_leg, y_pred_leg))"
   ]
  },
  {
   "cell_type": "code",
   "execution_count": 391,
   "metadata": {},
   "outputs": [
    {
     "name": "stdout",
     "output_type": "stream",
     "text": [
      "KNN Validation Results on Leg Sensor: \n",
      "accuracy: 0.9877622377622378\n",
      "              precision    recall  f1-score   support\n",
      "\n",
      "         jog       0.99      0.97      0.98       138\n",
      "         run       1.00      0.99      0.99       151\n",
      "       stand       0.99      1.00      1.00       147\n",
      "        walk       0.97      0.99      0.98       136\n",
      "\n",
      "    accuracy                           0.99       572\n",
      "   macro avg       0.99      0.99      0.99       572\n",
      "weighted avg       0.99      0.99      0.99       572\n",
      "\n"
     ]
    }
   ],
   "source": [
    "y_pred_leg = knn_model_leg.predict(X_val_leg_sd)\n",
    "print(\"KNN Validation Results on Leg Sensor: \")\n",
    "print(\"accuracy:\", accuracy_score(y_val_leg, y_pred_leg))\n",
    "print(classification_report(y_val_leg, y_pred_leg))"
   ]
  },
  {
   "cell_type": "markdown",
   "metadata": {},
   "source": [
    "- KNN on Arm Sensor FE data"
   ]
  },
  {
   "cell_type": "code",
   "execution_count": 392,
   "metadata": {},
   "outputs": [
    {
     "name": "stdout",
     "output_type": "stream",
     "text": [
      "KNN Training Results on Arm Sensor: \n",
      "accuracy: 0.36168384879725085\n",
      "              precision    recall  f1-score   support\n",
      "\n",
      "         jog       0.28      0.26      0.27       562\n",
      "         run       0.95      0.15      0.26       563\n",
      "       stand       0.51      1.00      0.67       611\n",
      "        walk       0.01      0.01      0.01       592\n",
      "\n",
      "    accuracy                           0.36      2328\n",
      "   macro avg       0.43      0.35      0.30      2328\n",
      "weighted avg       0.43      0.36      0.31      2328\n",
      "\n"
     ]
    }
   ],
   "source": [
    "y_pred_arm = knn_model_leg.predict(X_train_arm_sd)\n",
    "print(\"KNN Training Results on Arm Sensor: \")\n",
    "print(\"accuracy:\", accuracy_score(y_train_arm, y_pred_arm))\n",
    "print(classification_report(y_train_arm, y_pred_arm))"
   ]
  },
  {
   "cell_type": "code",
   "execution_count": 393,
   "metadata": {},
   "outputs": [
    {
     "name": "stdout",
     "output_type": "stream",
     "text": [
      "KNN Validation Results on Arm Sensor: \n",
      "accuracy: 0.9554030874785592\n",
      "              precision    recall  f1-score   support\n",
      "\n",
      "         jog       0.93      0.97      0.95       152\n",
      "         run       0.97      0.92      0.95       151\n",
      "       stand       0.97      0.97      0.97       158\n",
      "        walk       0.95      0.96      0.96       122\n",
      "\n",
      "    accuracy                           0.96       583\n",
      "   macro avg       0.96      0.96      0.96       583\n",
      "weighted avg       0.96      0.96      0.96       583\n",
      "\n"
     ]
    }
   ],
   "source": [
    "y_pred_arm = knn_model_arm.predict(X_val_arm_sd)\n",
    "print(\"KNN Validation Results on Arm Sensor: \")\n",
    "print(\"accuracy:\", accuracy_score(y_val_arm, y_pred_arm))\n",
    "print(classification_report(y_val_arm, y_pred_arm))"
   ]
  },
  {
   "cell_type": "markdown",
   "metadata": {},
   "source": [
    "# Decision Tree Model"
   ]
  },
  {
   "cell_type": "code",
   "execution_count": 394,
   "metadata": {},
   "outputs": [
    {
     "data": {
      "text/plain": [
       "DecisionTreeClassifier()"
      ]
     },
     "execution_count": 394,
     "metadata": {},
     "output_type": "execute_result"
    }
   ],
   "source": [
    "clf_model = DecisionTreeClassifier()\n",
    "clf_model.fit(X_train_sd,y_train)\n",
    "\n",
    "clf_model_leg = DecisionTreeClassifier()\n",
    "clf_model_leg.fit(X_train_leg_sd,y_train_leg)\n",
    "\n",
    "clf_model_arm = DecisionTreeClassifier()\n",
    "clf_model_arm.fit(X_train_arm_sd,y_train_arm)"
   ]
  },
  {
   "cell_type": "markdown",
   "metadata": {},
   "source": [
    "- Decision Tree on whole FE data"
   ]
  },
  {
   "cell_type": "code",
   "execution_count": 395,
   "metadata": {
    "scrolled": true
   },
   "outputs": [
    {
     "name": "stdout",
     "output_type": "stream",
     "text": [
      "Decision Tree Training Results: \n",
      "accuracy: 1.0\n",
      "              precision    recall  f1-score   support\n",
      "\n",
      "         jog       1.00      1.00      1.00      1151\n",
      "         run       1.00      1.00      1.00      1140\n",
      "       stand       1.00      1.00      1.00      1172\n",
      "        walk       1.00      1.00      1.00      1150\n",
      "\n",
      "    accuracy                           1.00      4613\n",
      "   macro avg       1.00      1.00      1.00      4613\n",
      "weighted avg       1.00      1.00      1.00      4613\n",
      "\n"
     ]
    }
   ],
   "source": [
    "#Train Accuracy\n",
    "y_pred = clf_model.predict(X_train_sd)\n",
    "print(\"Decision Tree Training Results: \")\n",
    "print(\"accuracy:\", accuracy_score(y_train, y_pred))\n",
    "print(classification_report(y_train, y_pred))"
   ]
  },
  {
   "cell_type": "code",
   "execution_count": 396,
   "metadata": {},
   "outputs": [
    {
     "name": "stdout",
     "output_type": "stream",
     "text": [
      "Decision Tree Validation Results: \n",
      "accuracy: 0.9670710571923743\n",
      "              precision    recall  f1-score   support\n",
      "\n",
      "         jog       0.93      0.94      0.94       277\n",
      "         run       0.96      0.94      0.95       288\n",
      "       stand       1.00      1.00      1.00       311\n",
      "        walk       0.98      0.98      0.98       278\n",
      "\n",
      "    accuracy                           0.97      1154\n",
      "   macro avg       0.97      0.97      0.97      1154\n",
      "weighted avg       0.97      0.97      0.97      1154\n",
      "\n"
     ]
    }
   ],
   "source": [
    "#Validation\n",
    "y_pred = clf_model.predict(X_val_sd)\n",
    "print(\"Decision Tree Validation Results: \")\n",
    "print(\"accuracy:\", accuracy_score(y_val, y_pred))\n",
    "print(classification_report(y_val, y_pred))"
   ]
  },
  {
   "cell_type": "markdown",
   "metadata": {},
   "source": [
    "- Decision Tree on Leg Sensor FE data"
   ]
  },
  {
   "cell_type": "code",
   "execution_count": 397,
   "metadata": {},
   "outputs": [
    {
     "name": "stdout",
     "output_type": "stream",
     "text": [
      "Decision Tree Training Results on Leg Sensor: \n",
      "accuracy: 1.0\n",
      "              precision    recall  f1-score   support\n",
      "\n",
      "         jog       1.00      1.00      1.00       576\n",
      "         run       1.00      1.00      1.00       563\n",
      "       stand       1.00      1.00      1.00       567\n",
      "        walk       1.00      1.00      1.00       578\n",
      "\n",
      "    accuracy                           1.00      2284\n",
      "   macro avg       1.00      1.00      1.00      2284\n",
      "weighted avg       1.00      1.00      1.00      2284\n",
      "\n"
     ]
    }
   ],
   "source": [
    "y_pred_leg = clf_model_leg.predict(X_train_leg_sd)\n",
    "print(\"Decision Tree Training Results on Leg Sensor: \")\n",
    "print(\"accuracy:\", accuracy_score(y_train_leg, y_pred_leg))\n",
    "print(classification_report(y_train_leg, y_pred_leg))"
   ]
  },
  {
   "cell_type": "code",
   "execution_count": 398,
   "metadata": {},
   "outputs": [
    {
     "name": "stdout",
     "output_type": "stream",
     "text": [
      "Decision Tree Validation Results on Leg Sensor: \n",
      "accuracy: 0.9755244755244755\n",
      "              precision    recall  f1-score   support\n",
      "\n",
      "         jog       0.96      0.94      0.95       138\n",
      "         run       0.95      0.97      0.96       151\n",
      "       stand       1.00      1.00      1.00       147\n",
      "        walk       0.99      0.99      0.99       136\n",
      "\n",
      "    accuracy                           0.98       572\n",
      "   macro avg       0.98      0.98      0.98       572\n",
      "weighted avg       0.98      0.98      0.98       572\n",
      "\n"
     ]
    }
   ],
   "source": [
    "y_pred_leg = clf_model_leg.predict(X_val_leg_sd)\n",
    "print(\"Decision Tree Validation Results on Leg Sensor: \")\n",
    "print(\"accuracy:\", accuracy_score(y_val_leg, y_pred_leg))\n",
    "print(classification_report(y_val_leg, y_pred_leg))"
   ]
  },
  {
   "cell_type": "markdown",
   "metadata": {},
   "source": [
    "- Decision Tree on Arm Sensor FE data"
   ]
  },
  {
   "cell_type": "code",
   "execution_count": 399,
   "metadata": {},
   "outputs": [
    {
     "name": "stdout",
     "output_type": "stream",
     "text": [
      "Decision Tree Training Results on Arm Sensor: \n",
      "accuracy: 1.0\n",
      "              precision    recall  f1-score   support\n",
      "\n",
      "         jog       1.00      1.00      1.00       562\n",
      "         run       1.00      1.00      1.00       563\n",
      "       stand       1.00      1.00      1.00       611\n",
      "        walk       1.00      1.00      1.00       592\n",
      "\n",
      "    accuracy                           1.00      2328\n",
      "   macro avg       1.00      1.00      1.00      2328\n",
      "weighted avg       1.00      1.00      1.00      2328\n",
      "\n"
     ]
    }
   ],
   "source": [
    "y_pred_arm = clf_model_arm.predict(X_train_arm_sd)\n",
    "print(\"Decision Tree Training Results on Arm Sensor: \")\n",
    "print(\"accuracy:\", accuracy_score(y_train_arm, y_pred_arm))\n",
    "print(classification_report(y_train_arm, y_pred_arm))"
   ]
  },
  {
   "cell_type": "code",
   "execution_count": 400,
   "metadata": {},
   "outputs": [
    {
     "name": "stdout",
     "output_type": "stream",
     "text": [
      "Decision Tree Validation Results on Arm Sensor: \n",
      "accuracy: 0.9742710120068611\n",
      "              precision    recall  f1-score   support\n",
      "\n",
      "         jog       0.95      0.95      0.95       152\n",
      "         run       0.95      0.95      0.95       151\n",
      "       stand       1.00      1.00      1.00       158\n",
      "        walk       1.00      1.00      1.00       122\n",
      "\n",
      "    accuracy                           0.97       583\n",
      "   macro avg       0.98      0.98      0.98       583\n",
      "weighted avg       0.97      0.97      0.97       583\n",
      "\n"
     ]
    }
   ],
   "source": [
    "y_pred_arm = clf_model_arm.predict(X_val_arm_sd)\n",
    "print(\"Decision Tree Validation Results on Arm Sensor: \")\n",
    "print(\"accuracy:\", accuracy_score(y_val_arm, y_pred_arm))\n",
    "print(classification_report(y_val_arm, y_pred_arm))"
   ]
  }
 ],
 "metadata": {
  "interpreter": {
   "hash": "6bc2c2825d82c9ce5e1c70e44eb84ffd29d40a8ac35335129b1fa82144e43453"
  },
  "kernelspec": {
   "display_name": "Python 3 (ipykernel)",
   "language": "python",
   "name": "python3"
  },
  "language_info": {
   "codemirror_mode": {
    "name": "ipython",
    "version": 3
   },
   "file_extension": ".py",
   "mimetype": "text/x-python",
   "name": "python",
   "nbconvert_exporter": "python",
   "pygments_lexer": "ipython3",
   "version": "3.9.7"
  }
 },
 "nbformat": 4,
 "nbformat_minor": 2
}
