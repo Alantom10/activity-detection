{
 "cells": [
  {
   "cell_type": "code",
   "execution_count": 1,
   "id": "62022b7a",
   "metadata": {},
   "outputs": [],
   "source": [
    "import numpy as np\n",
    "import pandas as pd\n",
    "import matplotlib.pyplot as plt\n",
    "from sklearn.preprocessing import StandardScaler\n",
    "from sklearn.linear_model import LogisticRegression\n",
    "from sklearn.metrics import accuracy_score\n",
    "from sklearn.metrics import classification_report\n",
    "from sklearn.model_selection import train_test_split\n",
    "from sklearn.preprocessing import LabelEncoder\n",
    "import seaborn as sns\n",
    "sns.set()"
   ]
  },
  {
   "cell_type": "code",
   "execution_count": 2,
   "id": "2e2cadb5",
   "metadata": {},
   "outputs": [],
   "source": [
    "#import data\n",
    "\n",
    "data = pd.read_csv('processed_data/fe_data.csv')\n",
    "data_leg = pd.read_csv('processed_data/fe_legsensor_data.csv')\n",
    "data_arm = pd.read_csv('processed_data/fe_armsensor_data.csv')"
   ]
  },
  {
   "cell_type": "code",
   "execution_count": 3,
   "id": "0c832814",
   "metadata": {},
   "outputs": [],
   "source": [
    "#drop 'index col'\n",
    "data = data.iloc[:,1:]\n",
    "data_leg = data_leg.iloc[:,1:]\n",
    "data_arm = data_arm.iloc[:,1:]"
   ]
  },
  {
   "cell_type": "markdown",
   "id": "41ab6a9e",
   "metadata": {},
   "source": [
    "1. Activity Detection - Machine Learning Approach"
   ]
  },
  {
   "cell_type": "code",
   "execution_count": 4,
   "id": "ac3561c4",
   "metadata": {},
   "outputs": [
    {
     "name": "stdout",
     "output_type": "stream",
     "text": [
      "<class 'pandas.core.frame.DataFrame'>\n",
      "RangeIndex: 5712 entries, 0 to 5711\n",
      "Data columns (total 64 columns):\n",
      " #   Column        Non-Null Count  Dtype  \n",
      "---  ------        --------------  -----  \n",
      " 0   ax_mean       5712 non-null   float64\n",
      " 1   ay_mean       5712 non-null   float64\n",
      " 2   az_mean       5712 non-null   float64\n",
      " 3   aT_mean       5712 non-null   float64\n",
      " 4   ax_ad_mean    5712 non-null   float64\n",
      " 5   ay_ad_mean    5712 non-null   float64\n",
      " 6   az_ad_mean    5712 non-null   float64\n",
      " 7   aT_ad_mean    5712 non-null   float64\n",
      " 8   ax_min        5712 non-null   float64\n",
      " 9   ay_min        5712 non-null   float64\n",
      " 10  az_min        5712 non-null   float64\n",
      " 11  aT_min        5712 non-null   float64\n",
      " 12  ax_max        5712 non-null   float64\n",
      " 13  ay_max        5712 non-null   float64\n",
      " 14  az_max        5712 non-null   float64\n",
      " 15  aT_max        5712 non-null   float64\n",
      " 16  ax_std        5712 non-null   float64\n",
      " 17  ay_std        5712 non-null   float64\n",
      " 18  az_std        5712 non-null   float64\n",
      " 19  aT_std        5712 non-null   float64\n",
      " 20  ax_median     5712 non-null   float64\n",
      " 21  ay_median     5712 non-null   float64\n",
      " 22  az_median     5712 non-null   float64\n",
      " 23  aT_median     5712 non-null   float64\n",
      " 24  ax_ad_median  5712 non-null   float64\n",
      " 25  ay_ad_median  5712 non-null   float64\n",
      " 26  az_ad_median  5712 non-null   float64\n",
      " 27  aT_ad_median  5712 non-null   float64\n",
      " 28  ax_mm_diff    5712 non-null   float64\n",
      " 29  ay_mm_diff    5712 non-null   float64\n",
      " 30  az_mm_diff    5712 non-null   float64\n",
      " 31  aT_mm_diff    5712 non-null   float64\n",
      " 32  ax_iqr        5712 non-null   float64\n",
      " 33  ay_iqr        5712 non-null   float64\n",
      " 34  az_iqr        5712 non-null   float64\n",
      " 35  aT_iqr        5712 non-null   float64\n",
      " 36  ax_pos_count  5712 non-null   int64  \n",
      " 37  ay_pos_count  5712 non-null   int64  \n",
      " 38  az_pos_count  5712 non-null   int64  \n",
      " 39  aT_pos_count  5712 non-null   int64  \n",
      " 40  ax_neg_count  5712 non-null   int64  \n",
      " 41  ay_neg_count  5712 non-null   int64  \n",
      " 42  az_neg_count  5712 non-null   int64  \n",
      " 43  aT_neg_count  5712 non-null   int64  \n",
      " 44  ax_peaks      5712 non-null   int64  \n",
      " 45  ay_peaks      5712 non-null   int64  \n",
      " 46  az_peaks      5712 non-null   int64  \n",
      " 47  aT_peaks      5712 non-null   int64  \n",
      " 48  ax_kurtosis   5712 non-null   float64\n",
      " 49  ay_kurtosis   5712 non-null   float64\n",
      " 50  az_kurtosis   5712 non-null   float64\n",
      " 51  aT_kurtosis   5712 non-null   float64\n",
      " 52  ax_skewness   5712 non-null   float64\n",
      " 53  ay_skewness   5712 non-null   float64\n",
      " 54  az_skewness   5712 non-null   float64\n",
      " 55  aT_skewness   5712 non-null   float64\n",
      " 56  ax_energy     5712 non-null   float64\n",
      " 57  ay_energy     5712 non-null   float64\n",
      " 58  az_energy     5712 non-null   float64\n",
      " 59  aT_energy     5712 non-null   float64\n",
      " 60  id            5712 non-null   int64  \n",
      " 61  sex           5712 non-null   object \n",
      " 62  sensor_pos    5712 non-null   object \n",
      " 63  activity      5712 non-null   object \n",
      "dtypes: float64(48), int64(13), object(3)\n",
      "memory usage: 2.8+ MB\n"
     ]
    }
   ],
   "source": [
    "data.info()"
   ]
  },
  {
   "cell_type": "code",
   "execution_count": null,
   "id": "aa785c41",
   "metadata": {},
   "outputs": [],
   "source": []
  }
 ],
 "metadata": {
  "kernelspec": {
   "display_name": "Python 3 (ipykernel)",
   "language": "python",
   "name": "python3"
  },
  "language_info": {
   "codemirror_mode": {
    "name": "ipython",
    "version": 3
   },
   "file_extension": ".py",
   "mimetype": "text/x-python",
   "name": "python",
   "nbconvert_exporter": "python",
   "pygments_lexer": "ipython3",
   "version": "3.9.7"
  }
 },
 "nbformat": 4,
 "nbformat_minor": 5
}
